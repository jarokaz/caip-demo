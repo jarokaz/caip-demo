{
 "cells": [
  {
   "cell_type": "markdown",
   "metadata": {},
   "source": [
    "# Using R with BigQuery"
   ]
  },
  {
   "cell_type": "code",
   "execution_count": 2,
   "metadata": {},
   "outputs": [],
   "source": [
    "library(bigrquery)"
   ]
  },
  {
   "cell_type": "markdown",
   "metadata": {},
   "source": [
    "### Authenticate to BigQuery"
   ]
  },
  {
   "cell_type": "code",
   "execution_count": 3,
   "metadata": {},
   "outputs": [
    {
     "name": "stderr",
     "output_type": "stream",
     "text": [
      "Invalid encoding utf8: defaulting to UTF-8.\n",
      "\n"
     ]
    }
   ],
   "source": [
    "bq_auth(use_oob = TRUE)"
   ]
  },
  {
   "cell_type": "markdown",
   "metadata": {},
   "source": [
    "### Run a query"
   ]
  },
  {
   "cell_type": "code",
   "execution_count": 4,
   "metadata": {},
   "outputs": [],
   "source": [
    "projectid = \"mlops-dev-100\""
   ]
  },
  {
   "cell_type": "code",
   "execution_count": 5,
   "metadata": {},
   "outputs": [],
   "source": [
    "sql <- \"SELECT * FROM `bigquery-public-data.usa_names.usa_1910_current` LIMIT 10\""
   ]
  },
  {
   "cell_type": "code",
   "execution_count": 6,
   "metadata": {},
   "outputs": [
    {
     "name": "stderr",
     "output_type": "stream",
     "text": [
      "178.0 megabytes processed\n",
      "\n"
     ]
    }
   ],
   "source": [
    "df <- query_exec(sql, projectid, use_legacy_sql = FALSE)"
   ]
  },
  {
   "cell_type": "code",
   "execution_count": 7,
   "metadata": {},
   "outputs": [
    {
     "data": {
      "text/html": [
       "<table>\n",
       "<caption>A data.frame: 10 × 5</caption>\n",
       "<thead>\n",
       "\t<tr><th scope=col>state</th><th scope=col>gender</th><th scope=col>year</th><th scope=col>name</th><th scope=col>number</th></tr>\n",
       "\t<tr><th scope=col>&lt;chr&gt;</th><th scope=col>&lt;chr&gt;</th><th scope=col>&lt;int&gt;</th><th scope=col>&lt;chr&gt;</th><th scope=col>&lt;int&gt;</th></tr>\n",
       "</thead>\n",
       "<tbody>\n",
       "\t<tr><td>OH</td><td>F</td><td>1910</td><td>Mary     </td><td>1099</td></tr>\n",
       "\t<tr><td>OH</td><td>F</td><td>1910</td><td>Helen    </td><td> 698</td></tr>\n",
       "\t<tr><td>OH</td><td>F</td><td>1910</td><td>Dorothy  </td><td> 487</td></tr>\n",
       "\t<tr><td>OH</td><td>F</td><td>1910</td><td>Ruth     </td><td> 457</td></tr>\n",
       "\t<tr><td>OH</td><td>F</td><td>1910</td><td>Margaret </td><td> 452</td></tr>\n",
       "\t<tr><td>OH</td><td>F</td><td>1910</td><td>Mildred  </td><td> 395</td></tr>\n",
       "\t<tr><td>OH</td><td>F</td><td>1910</td><td>Anna     </td><td> 290</td></tr>\n",
       "\t<tr><td>OH</td><td>F</td><td>1910</td><td>Florence </td><td> 278</td></tr>\n",
       "\t<tr><td>OH</td><td>F</td><td>1910</td><td>Elizabeth</td><td> 261</td></tr>\n",
       "\t<tr><td>OH</td><td>F</td><td>1910</td><td>Marie    </td><td> 242</td></tr>\n",
       "</tbody>\n",
       "</table>\n"
      ],
      "text/latex": [
       "A data.frame: 10 × 5\n",
       "\\begin{tabular}{lllll}\n",
       " state & gender & year & name & number\\\\\n",
       " <chr> & <chr> & <int> & <chr> & <int>\\\\\n",
       "\\hline\n",
       "\t OH & F & 1910 & Mary      & 1099\\\\\n",
       "\t OH & F & 1910 & Helen     &  698\\\\\n",
       "\t OH & F & 1910 & Dorothy   &  487\\\\\n",
       "\t OH & F & 1910 & Ruth      &  457\\\\\n",
       "\t OH & F & 1910 & Margaret  &  452\\\\\n",
       "\t OH & F & 1910 & Mildred   &  395\\\\\n",
       "\t OH & F & 1910 & Anna      &  290\\\\\n",
       "\t OH & F & 1910 & Florence  &  278\\\\\n",
       "\t OH & F & 1910 & Elizabeth &  261\\\\\n",
       "\t OH & F & 1910 & Marie     &  242\\\\\n",
       "\\end{tabular}\n"
      ],
      "text/markdown": [
       "\n",
       "A data.frame: 10 × 5\n",
       "\n",
       "| state &lt;chr&gt; | gender &lt;chr&gt; | year &lt;int&gt; | name &lt;chr&gt; | number &lt;int&gt; |\n",
       "|---|---|---|---|---|\n",
       "| OH | F | 1910 | Mary      | 1099 |\n",
       "| OH | F | 1910 | Helen     |  698 |\n",
       "| OH | F | 1910 | Dorothy   |  487 |\n",
       "| OH | F | 1910 | Ruth      |  457 |\n",
       "| OH | F | 1910 | Margaret  |  452 |\n",
       "| OH | F | 1910 | Mildred   |  395 |\n",
       "| OH | F | 1910 | Anna      |  290 |\n",
       "| OH | F | 1910 | Florence  |  278 |\n",
       "| OH | F | 1910 | Elizabeth |  261 |\n",
       "| OH | F | 1910 | Marie     |  242 |\n",
       "\n"
      ],
      "text/plain": [
       "   state gender year name      number\n",
       "1  OH    F      1910 Mary      1099  \n",
       "2  OH    F      1910 Helen      698  \n",
       "3  OH    F      1910 Dorothy    487  \n",
       "4  OH    F      1910 Ruth       457  \n",
       "5  OH    F      1910 Margaret   452  \n",
       "6  OH    F      1910 Mildred    395  \n",
       "7  OH    F      1910 Anna       290  \n",
       "8  OH    F      1910 Florence   278  \n",
       "9  OH    F      1910 Elizabeth  261  \n",
       "10 OH    F      1910 Marie      242  "
      ]
     },
     "metadata": {},
     "output_type": "display_data"
    }
   ],
   "source": [
    "df"
   ]
  },
  {
   "cell_type": "code",
   "execution_count": null,
   "metadata": {},
   "outputs": [],
   "source": []
  }
 ],
 "metadata": {
  "kernelspec": {
   "display_name": "R",
   "language": "R",
   "name": "ir"
  },
  "language_info": {
   "codemirror_mode": "r",
   "file_extension": ".r",
   "mimetype": "text/x-r-source",
   "name": "R",
   "pygments_lexer": "r",
   "version": "3.6.2"
  }
 },
 "nbformat": 4,
 "nbformat_minor": 4
}
