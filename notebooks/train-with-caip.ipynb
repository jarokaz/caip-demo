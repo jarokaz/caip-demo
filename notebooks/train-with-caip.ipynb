{
 "cells": [
  {
   "cell_type": "markdown",
   "metadata": {},
   "source": [
    "# Train and deploy with Cloud AI Platform"
   ]
  },
  {
   "cell_type": "code",
   "execution_count": 9,
   "metadata": {},
   "outputs": [],
   "source": [
    "import os\n",
    "import time"
   ]
  },
  {
   "cell_type": "code",
   "execution_count": 4,
   "metadata": {},
   "outputs": [],
   "source": [
    "TRAINING_DATA_PATH = 'gs://jk-demo-datasets/gasdata/training.csv'\n",
    "TESTING_DATA_PATH = 'gs://jk-demo-datasets/gasdata/testing.csv'\n",
    "REGION = \"us-central1\"\n",
    "ARTIFACT_BUCKET = 'gs://jk-demo-artifacts'\n",
    "JOBDIR_BUCKET = 'gs://jk-demo-jobdir'"
   ]
  },
  {
   "cell_type": "markdown",
   "metadata": {},
   "source": [
    "## Training with a Python script"
   ]
  },
  {
   "cell_type": "code",
   "execution_count": 5,
   "metadata": {},
   "outputs": [],
   "source": [
    "TRAINING_APP_FOLDER = '../training_app/trainer'\n",
    "\n",
    "os.makedirs(TRAINING_APP_FOLDER, exist_ok=True)\n",
    "!touch $TRAINING_APP_FOLDER/__init__.py"
   ]
  },
  {
   "cell_type": "markdown",
   "metadata": {},
   "source": [
    "### Create a training script"
   ]
  },
  {
   "cell_type": "code",
   "execution_count": 6,
   "metadata": {},
   "outputs": [
    {
     "name": "stdout",
     "output_type": "stream",
     "text": [
      "Writing ../training_app/trainer/train.py\n"
     ]
    }
   ],
   "source": [
    "%%writefile $TRAINING_APP_FOLDER/train.py\n",
    "\n",
    "import logging\n",
    "import os\n",
    "import subprocess\n",
    "import sys\n",
    "\n",
    "import fire\n",
    "import numpy as np\n",
    "import pandas as pd\n",
    "\n",
    "from sklearn.externals import joblib\n",
    "from sklearn.cross_decomposition import PLSRegression\n",
    "from sklearn.decomposition import PCA\n",
    "from sklearn.feature_selection import SelectKBest, chi2\n",
    "from sklearn.linear_model import Ridge\n",
    "from sklearn.manifold import TSNE \n",
    "from sklearn.metrics import mean_squared_error\n",
    "from sklearn.model_selection import GridSearchCV\n",
    "from sklearn.model_selection import train_test_split\n",
    "from sklearn.pipeline import Pipeline\n",
    "from sklearn.preprocessing import StandardScaler\n",
    "\n",
    "\n",
    "def train(job_dir, data_path, n_features_options, l2_reg_options):\n",
    "    \n",
    "  # Load data from GCS\n",
    "  df_train = pd.read_csv(data_path)\n",
    "\n",
    "  y = df_train.octane\n",
    "  X = df_train.drop('octane', axis=1)\n",
    "    \n",
    "  pipeline = Pipeline([\n",
    "    ('scale', StandardScaler()),\n",
    "    ('reduce_dim', PCA()),\n",
    "    ('regress', Ridge())\n",
    "  ])\n",
    "\n",
    "  param_grid = [\n",
    "    {\n",
    "      'reduce_dim__n_components': n_features_options,\n",
    "      'regress__alpha': l2_reg_options\n",
    "    }\n",
    "  ]\n",
    "\n",
    "  grid = GridSearchCV(pipeline, cv=10, n_jobs=None, param_grid=param_grid, scoring='neg_mean_squared_error', iid=False)\n",
    "  \n",
    "  grid.fit(X, y)\n",
    "\n",
    "  logging.info(\"Best estimator: {}\".format(grid.best_params_))\n",
    "  logging.info(\"Best score: {}\".format(grid.best_score_))\n",
    "    \n",
    "  # Retrain the best model on a full dataset\n",
    "  best_estimator = grid.best_estimator_\n",
    "  trained_pipeline = best_estimator.fit(X, y)\n",
    "\n",
    "  # Save the model\n",
    "  model_filename = 'model.joblib'\n",
    "  joblib.dump(value=trained_pipeline, filename=model_filename)\n",
    "  gcs_model_path = \"{}/{}\".format(job_dir, model_filename)\n",
    "  subprocess.check_call(['gsutil', 'cp', model_filename, gcs_model_path], stderr=sys.stdout)\n",
    "  logging.info(\"Saved model in: {}\".format(gcs_model_path)) \n",
    "    \n",
    "if __name__ == \"__main__\":\n",
    "  logging.basicConfig(level=logging.INFO)\n",
    "  fire.Fire(train)"
   ]
  },
  {
   "cell_type": "markdown",
   "metadata": {},
   "source": [
    "### Configure dependencies"
   ]
  },
  {
   "cell_type": "code",
   "execution_count": 7,
   "metadata": {},
   "outputs": [
    {
     "name": "stdout",
     "output_type": "stream",
     "text": [
      "Writing ../training_app/trainer/../setup.py\n"
     ]
    }
   ],
   "source": [
    "%%writefile $TRAINING_APP_FOLDER/../setup.py\n",
    "\n",
    "from setuptools import find_packages\n",
    "from setuptools import setup\n",
    "\n",
    "REQUIRED_PACKAGES = ['fire', 'gcsfs']\n",
    "\n",
    "setup(\n",
    "    name='trainer',\n",
    "    version='0.1',\n",
    "    install_requires=REQUIRED_PACKAGES,\n",
    "    packages=find_packages(),\n",
    "    include_package_data=True,\n",
    "    description='My training application package.'\n",
    ")"
   ]
  },
  {
   "cell_type": "markdown",
   "metadata": {},
   "source": [
    "## Submit a training job"
   ]
  },
  {
   "cell_type": "code",
   "execution_count": 10,
   "metadata": {},
   "outputs": [],
   "source": [
    "JOB_NAME = \"JOB_{}\".format(time.strftime(\"%Y%m%d_%H%M%S\"))\n",
    "SCALE_TIER = \"BASIC\"\n",
    "MODULE_NAME = \"trainer.train\"\n",
    "RUNTIME_VERSION = \"1.14\"\n",
    "PYTHON_VERSION = \"3.5\"\n",
    "\n",
    "N_FEATURES_OPTIONS=\"[2,4,6]\"\n",
    "L2_REG_OPTIONS=\"[0.1,0.2,0.3,0.5]\""
   ]
  },
  {
   "cell_type": "code",
   "execution_count": 11,
   "metadata": {},
   "outputs": [
    {
     "name": "stdout",
     "output_type": "stream",
     "text": [
      "Job [JOB_20190820_225215] submitted successfully.\n",
      "Your job is still active. You may view the status of your job with the command\n",
      "\n",
      "  $ gcloud ai-platform jobs describe JOB_20190820_225215\n",
      "\n",
      "or continue streaming the logs with the command\n",
      "\n",
      "  $ gcloud ai-platform jobs stream-logs JOB_20190820_225215\n",
      "jobId: JOB_20190820_225215\n",
      "state: QUEUED\n"
     ]
    }
   ],
   "source": [
    "!gcloud ai-platform jobs submit training $JOB_NAME \\\n",
    "--region $REGION \\\n",
    "--job-dir $JOBDIR_BUCKET/$JOB_NAME \\\n",
    "--package-path $TRAINING_APP_FOLDER \\\n",
    "--module-name $MODULE_NAME \\\n",
    "--scale-tier $SCALE_TIER \\\n",
    "--python-version $PYTHON_VERSION \\\n",
    "--runtime-version $RUNTIME_VERSION \\\n",
    "-- \\\n",
    "--data_path $TRAINING_DATA_PATH \\\n",
    "--n_features_options $N_FEATURES_OPTIONS \\\n",
    "--l2_reg_options $L2_REG_OPTIONS"
   ]
  },
  {
   "cell_type": "code",
   "execution_count": 12,
   "metadata": {},
   "outputs": [
    {
     "name": "stdout",
     "output_type": "stream",
     "text": [
      "createTime: '2019-08-20T22:52:21Z'\n",
      "etag: 7qz7u7RC1E4=\n",
      "jobId: JOB_20190820_225215\n",
      "state: PREPARING\n",
      "trainingInput:\n",
      "  args:\n",
      "  - --data_path\n",
      "  - gs://jk-demo-datasets/gasdata/training.csv\n",
      "  - --n_features_options\n",
      "  - '[2,4,6]'\n",
      "  - --l2_reg_options\n",
      "  - '[0.1,0.2,0.3,0.5]'\n",
      "  jobDir: gs://jk-demo-jobdir/JOB_20190820_225215\n",
      "  packageUris:\n",
      "  - gs://jk-demo-jobdir/JOB_20190820_225215/packages/3e43d633297470fd3897dfff3b5fc252e1d532fc508e64d3413fd1be90fc5774/trainer-0.1.tar.gz\n",
      "  pythonModule: trainer.train\n",
      "  pythonVersion: '3.5'\n",
      "  region: us-central1\n",
      "  runtimeVersion: '1.14'\n",
      "trainingOutput: {}\n",
      "\n",
      "View job in the Cloud Console at:\n",
      "https://console.cloud.google.com/mlengine/jobs/JOB_20190820_225215?project=jk-demo1\n",
      "\n",
      "View logs at:\n",
      "https://console.cloud.google.com/logs?resource=ml.googleapis.com%2Fjob_id%2FJOB_20190820_225215&project=jk-demo1\n",
      "INFO\t2019-08-20 22:52:21 +0000\tservice\t\tValidating job requirements...\n",
      "INFO\t2019-08-20 22:52:21 +0000\tservice\t\tJob creation request has been successfully validated.\n",
      "INFO\t2019-08-20 22:52:22 +0000\tservice\t\tWaiting for job to be provisioned.\n",
      "INFO\t2019-08-20 22:52:22 +0000\tservice\t\tJob JOB_20190820_225215 is queued.\n",
      "INFO\t2019-08-20 22:52:26 +0000\tservice\t\tWaiting for training program to start.\n",
      "INFO\t2019-08-20 22:53:06 +0000\tmaster-replica-0\t\tRunning task with arguments: --cluster={\"master\": [\"127.0.0.1:2222\"]} --task={\"type\": \"master\", \"index\": 0} --job={  \"package_uris\": [\"gs://jk-demo-jobdir/JOB_20190820_225215/packages/3e43d633297470fd3897dfff3b5fc252e1d532fc508e64d3413fd1be90fc5774/trainer-0.1.tar.gz\"],  \"python_module\": \"trainer.train\",  \"args\": [\"--data_path\", \"gs://jk-demo-datasets/gasdata/training.csv\", \"--n_features_options\", \"[2,4,6]\", \"--l2_reg_options\", \"[0.1,0.2,0.3,0.5]\"],  \"region\": \"us-central1\",  \"runtime_version\": \"1.14\",  \"job_dir\": \"gs://jk-demo-jobdir/JOB_20190820_225215\",  \"run_on_raw_vm\": true,  \"python_version\": \"3.5\"}\n",
      "WARNING\t2019-08-20 22:53:23 +0000\tmaster-replica-0\t\tFrom /runcloudml.py:676: The name tf.ConfigProto is deprecated. Please use tf.compat.v1.ConfigProto instead.\n",
      "WARNING\t2019-08-20 22:53:23 +0000\tmaster-replica-0\t\tFrom /runcloudml.py:677: The name tf.GraphOptions is deprecated. Please use tf.compat.v1.GraphOptions instead.\n",
      "WARNING\t2019-08-20 22:53:23 +0000\tmaster-replica-0\t\tFrom /runcloudml.py:678: The name tf.OptimizerOptions is deprecated. Please use tf.compat.v1.OptimizerOptions instead.\n",
      "WARNING\t2019-08-20 22:53:23 +0000\tmaster-replica-0\t\tFrom /runcloudml.py:681: The name tf.Session is deprecated. Please use tf.compat.v1.Session instead.\n",
      "WARNING\t2019-08-20 22:53:23 +0000\tmaster-replica-0\t\tFrom /runcloudml.py:682: The name tf.global_variables_initializer is deprecated. Please use tf.compat.v1.global_variables_initializer instead.\n",
      "INFO\t2019-08-20 22:53:43 +0000\tmaster-replica-0\t\tRunning module trainer.train.\n",
      "INFO\t2019-08-20 22:53:43 +0000\tmaster-replica-0\t\tDownloading the package: gs://jk-demo-jobdir/JOB_20190820_225215/packages/3e43d633297470fd3897dfff3b5fc252e1d532fc508e64d3413fd1be90fc5774/trainer-0.1.tar.gz\n",
      "INFO\t2019-08-20 22:53:43 +0000\tmaster-replica-0\t\tRunning command: gsutil -q cp gs://jk-demo-jobdir/JOB_20190820_225215/packages/3e43d633297470fd3897dfff3b5fc252e1d532fc508e64d3413fd1be90fc5774/trainer-0.1.tar.gz trainer-0.1.tar.gz\n",
      "INFO\t2019-08-20 22:53:44 +0000\tmaster-replica-0\t\tInstalling the package: gs://jk-demo-jobdir/JOB_20190820_225215/packages/3e43d633297470fd3897dfff3b5fc252e1d532fc508e64d3413fd1be90fc5774/trainer-0.1.tar.gz\n",
      "INFO\t2019-08-20 22:53:44 +0000\tmaster-replica-0\t\tRunning command: pip3 install --user --upgrade --force-reinstall --no-deps trainer-0.1.tar.gz\n",
      "INFO\t2019-08-20 22:53:45 +0000\tmaster-replica-0\t\tProcessing ./trainer-0.1.tar.gz\n",
      "INFO\t2019-08-20 22:53:45 +0000\tmaster-replica-0\t\tGenerating grammar tables from /usr/lib/python3.5/lib2to3/Grammar.txt\n",
      "INFO\t2019-08-20 22:53:45 +0000\tmaster-replica-0\t\tGenerating grammar tables from /usr/lib/python3.5/lib2to3/PatternGrammar.txt\n",
      "INFO\t2019-08-20 22:53:45 +0000\tmaster-replica-0\t\tBuilding wheels for collected packages: trainer\n",
      "INFO\t2019-08-20 22:53:45 +0000\tmaster-replica-0\t\t  Building wheel for trainer (setup.py): started\n",
      "INFO\t2019-08-20 22:53:46 +0000\tmaster-replica-0\t\tGenerating grammar tables from /usr/lib/python3.5/lib2to3/Grammar.txt\n",
      "INFO\t2019-08-20 22:53:46 +0000\tmaster-replica-0\t\tGenerating grammar tables from /usr/lib/python3.5/lib2to3/PatternGrammar.txt\n",
      "INFO\t2019-08-20 22:53:46 +0000\tmaster-replica-0\t\t  Building wheel for trainer (setup.py): finished with status 'done'\n",
      "INFO\t2019-08-20 22:53:46 +0000\tmaster-replica-0\t\t  Created wheel for trainer: filename=trainer-0.1-cp35-none-any.whl size=2125 sha256=00178abe40224b13c2863c554f053726c81e6abb600355887429154feec320aa\n",
      "INFO\t2019-08-20 22:53:46 +0000\tmaster-replica-0\t\t  Stored in directory: /root/.cache/pip/wheels/e8/0c/c7/b77d64796dbbac82503870c4881d606fa27e63942e07c75f0e\n",
      "INFO\t2019-08-20 22:53:46 +0000\tmaster-replica-0\t\tSuccessfully built trainer\n",
      "INFO\t2019-08-20 22:53:46 +0000\tmaster-replica-0\t\tInstalling collected packages: trainer\n",
      "INFO\t2019-08-20 22:53:46 +0000\tmaster-replica-0\t\tSuccessfully installed trainer-0.1\n",
      "ERROR\t2019-08-20 22:53:46 +0000\tmaster-replica-0\t\tWARNING: You are using pip version 19.2.1, however version 19.2.2 is available.\n",
      "ERROR\t2019-08-20 22:53:46 +0000\tmaster-replica-0\t\tYou should consider upgrading via the 'pip install --upgrade pip' command.\n",
      "INFO\t2019-08-20 22:53:46 +0000\tmaster-replica-0\t\tRunning command: pip3 install --user trainer-0.1.tar.gz\n",
      "INFO\t2019-08-20 22:53:47 +0000\tmaster-replica-0\t\tProcessing ./trainer-0.1.tar.gz\n",
      "INFO\t2019-08-20 22:53:47 +0000\tmaster-replica-0\t\tGenerating grammar tables from /usr/lib/python3.5/lib2to3/Grammar.txt\n",
      "INFO\t2019-08-20 22:53:47 +0000\tmaster-replica-0\t\tGenerating grammar tables from /usr/lib/python3.5/lib2to3/PatternGrammar.txt\n",
      "INFO\t2019-08-20 22:53:47 +0000\tmaster-replica-0\t\tCollecting fire (from trainer==0.1)\n",
      "INFO\t2019-08-20 22:53:47 +0000\tmaster-replica-0\t\t  Downloading https://files.pythonhosted.org/packages/d9/69/faeaae8687f4de0f5973694d02e9d6c3eb827636a009157352d98de1129e/fire-0.2.1.tar.gz (76kB)\n",
      "INFO\t2019-08-20 22:53:48 +0000\tmaster-replica-0\t\tGenerating grammar tables from /usr/lib/python3.5/lib2to3/Grammar.txt\n",
      "INFO\t2019-08-20 22:53:48 +0000\tmaster-replica-0\t\tGenerating grammar tables from /usr/lib/python3.5/lib2to3/PatternGrammar.txt\n",
      "INFO\t2019-08-20 22:53:48 +0000\tmaster-replica-0\t\tCollecting gcsfs (from trainer==0.1)\n",
      "INFO\t2019-08-20 22:53:48 +0000\tmaster-replica-0\t\t  Downloading https://files.pythonhosted.org/packages/f8/35/65faba9cdf8f6df166ec4005cf1722fb699c034380f6acb897f354b464a7/gcsfs-0.2.3.tar.gz (51kB)\n",
      "INFO\t2019-08-20 22:53:48 +0000\tmaster-replica-0\t\tGenerating grammar tables from /usr/lib/python3.5/lib2to3/Grammar.txt\n",
      "INFO\t2019-08-20 22:53:48 +0000\tmaster-replica-0\t\tGenerating grammar tables from /usr/lib/python3.5/lib2to3/PatternGrammar.txt\n",
      "INFO\t2019-08-20 22:53:48 +0000\tmaster-replica-0\t\tRequirement already satisfied: six in /usr/local/lib/python3.5/dist-packages (from fire->trainer==0.1) (1.12.0)\n",
      "INFO\t2019-08-20 22:53:48 +0000\tmaster-replica-0\t\tRequirement already satisfied: termcolor in /usr/local/lib/python3.5/dist-packages (from fire->trainer==0.1) (1.1.0)\n",
      "INFO\t2019-08-20 22:53:48 +0000\tmaster-replica-0\t\tRequirement already satisfied: google-auth>=1.2 in /usr/local/lib/python3.5/dist-packages (from gcsfs->trainer==0.1) (1.6.3)\n",
      "INFO\t2019-08-20 22:53:48 +0000\tmaster-replica-0\t\tCollecting google-auth-oauthlib (from gcsfs->trainer==0.1)\n",
      "INFO\t2019-08-20 22:53:48 +0000\tmaster-replica-0\t\t  Downloading https://files.pythonhosted.org/packages/74/a2/1323b1bce9935ac948cd4863509de16cf852cd80b12dd29e648c65fea93d/google_auth_oauthlib-0.4.0-py2.py3-none-any.whl\n",
      "INFO\t2019-08-20 22:53:48 +0000\tmaster-replica-0\t\tRequirement already satisfied: requests in /usr/local/lib/python3.5/dist-packages (from gcsfs->trainer==0.1) (2.19.0)\n",
      "INFO\t2019-08-20 22:53:48 +0000\tmaster-replica-0\t\tCollecting decorator (from gcsfs->trainer==0.1)\n",
      "INFO\t2019-08-20 22:53:48 +0000\tmaster-replica-0\t\t  Downloading https://files.pythonhosted.org/packages/5f/88/0075e461560a1e750a0dcbf77f1d9de775028c37a19a346a6c565a257399/decorator-4.4.0-py2.py3-none-any.whl\n",
      "INFO\t2019-08-20 22:53:48 +0000\tmaster-replica-0\t\tRequirement already satisfied: pyasn1-modules>=0.2.1 in /usr/local/lib/python3.5/dist-packages (from google-auth>=1.2->gcsfs->trainer==0.1) (0.2.6)\n",
      "INFO\t2019-08-20 22:53:49 +0000\tmaster-replica-0\t\tRequirement already satisfied: rsa>=3.1.4 in /usr/local/lib/python3.5/dist-packages (from google-auth>=1.2->gcsfs->trainer==0.1) (4.0)\n",
      "INFO\t2019-08-20 22:53:49 +0000\tmaster-replica-0\t\tRequirement already satisfied: cachetools>=2.0.0 in /usr/local/lib/python3.5/dist-packages (from google-auth>=1.2->gcsfs->trainer==0.1) (3.1.1)\n",
      "INFO\t2019-08-20 22:53:49 +0000\tmaster-replica-0\t\tCollecting requests-oauthlib>=0.7.0 (from google-auth-oauthlib->gcsfs->trainer==0.1)\n",
      "INFO\t2019-08-20 22:53:49 +0000\tmaster-replica-0\t\t  Downloading https://files.pythonhosted.org/packages/c2/e2/9fd03d55ffb70fe51f587f20bcf407a6927eb121de86928b34d162f0b1ac/requests_oauthlib-1.2.0-py2.py3-none-any.whl\n",
      "INFO\t2019-08-20 22:53:49 +0000\tmaster-replica-0\t\tRequirement already satisfied: urllib3<1.24,>=1.21.1 in /usr/local/lib/python3.5/dist-packages (from requests->gcsfs->trainer==0.1) (1.23)\n",
      "INFO\t2019-08-20 22:53:50 +0000\tmaster-replica-0\t\tRequirement already satisfied: chardet<3.1.0,>=3.0.2 in /usr/local/lib/python3.5/dist-packages (from requests->gcsfs->trainer==0.1) (3.0.4)\n",
      "INFO\t2019-08-20 22:53:50 +0000\tmaster-replica-0\t\tRequirement already satisfied: idna<2.8,>=2.5 in /usr/local/lib/python3.5/dist-packages (from requests->gcsfs->trainer==0.1) (2.7)\n",
      "INFO\t2019-08-20 22:53:50 +0000\tmaster-replica-0\t\tRequirement already satisfied: certifi>=2017.4.17 in /usr/local/lib/python3.5/dist-packages (from requests->gcsfs->trainer==0.1) (2019.6.16)\n",
      "INFO\t2019-08-20 22:53:51 +0000\tmaster-replica-0\t\tRequirement already satisfied: pyasn1<0.5.0,>=0.4.6 in /usr/local/lib/python3.5/dist-packages (from pyasn1-modules>=0.2.1->google-auth>=1.2->gcsfs->trainer==0.1) (0.4.6)\n",
      "INFO\t2019-08-20 22:53:51 +0000\tmaster-replica-0\t\tCollecting oauthlib>=3.0.0 (from requests-oauthlib>=0.7.0->google-auth-oauthlib->gcsfs->trainer==0.1)\n",
      "INFO\t2019-08-20 22:53:51 +0000\tmaster-replica-0\t\t  Downloading https://files.pythonhosted.org/packages/05/57/ce2e7a8fa7c0afb54a0581b14a65b56e62b5759dbc98e80627142b8a3704/oauthlib-3.1.0-py2.py3-none-any.whl (147kB)\n",
      "INFO\t2019-08-20 22:53:51 +0000\tmaster-replica-0\t\tBuilding wheels for collected packages: trainer, fire, gcsfs\n",
      "INFO\t2019-08-20 22:53:51 +0000\tmaster-replica-0\t\t  Building wheel for trainer (setup.py): started\n",
      "INFO\t2019-08-20 22:53:51 +0000\tmaster-replica-0\t\tGenerating grammar tables from /usr/lib/python3.5/lib2to3/Grammar.txt\n",
      "INFO\t2019-08-20 22:53:51 +0000\tmaster-replica-0\t\tGenerating grammar tables from /usr/lib/python3.5/lib2to3/PatternGrammar.txt\n",
      "INFO\t2019-08-20 22:53:52 +0000\tmaster-replica-0\t\t  Building wheel for trainer (setup.py): finished with status 'done'\n",
      "INFO\t2019-08-20 22:53:52 +0000\tmaster-replica-0\t\t  Created wheel for trainer: filename=trainer-0.1-cp35-none-any.whl size=2125 sha256=2f2d001698db55097687526b38db585c2364747723d0b4b6cf50d2fdd126a8cf\n",
      "INFO\t2019-08-20 22:53:52 +0000\tmaster-replica-0\t\t  Stored in directory: /root/.cache/pip/wheels/e8/0c/c7/b77d64796dbbac82503870c4881d606fa27e63942e07c75f0e\n",
      "INFO\t2019-08-20 22:53:52 +0000\tmaster-replica-0\t\t  Building wheel for fire (setup.py): started\n",
      "INFO\t2019-08-20 22:53:52 +0000\tmaster-replica-0\t\tGenerating grammar tables from /usr/lib/python3.5/lib2to3/Grammar.txt\n",
      "INFO\t2019-08-20 22:53:52 +0000\tmaster-replica-0\t\tGenerating grammar tables from /usr/lib/python3.5/lib2to3/PatternGrammar.txt\n",
      "INFO\t2019-08-20 22:53:52 +0000\tmaster-replica-0\t\t  Building wheel for fire (setup.py): finished with status 'done'\n",
      "INFO\t2019-08-20 22:53:52 +0000\tmaster-replica-0\t\t  Created wheel for fire: filename=fire-0.2.1-py2.py3-none-any.whl size=103527 sha256=8efbd6df91aa54fdc612ef3437d34888194717188320fdae382522d5e67ebbcb\n",
      "INFO\t2019-08-20 22:53:52 +0000\tmaster-replica-0\t\t  Stored in directory: /root/.cache/pip/wheels/31/9c/c0/07b6dc7faf1844bb4688f46b569efe6cafaa2179c95db821da\n",
      "INFO\t2019-08-20 22:53:52 +0000\tmaster-replica-0\t\t  Building wheel for gcsfs (setup.py): started\n",
      "INFO\t2019-08-20 22:53:52 +0000\tmaster-replica-0\t\tGenerating grammar tables from /usr/lib/python3.5/lib2to3/Grammar.txt\n",
      "INFO\t2019-08-20 22:53:52 +0000\tmaster-replica-0\t\tGenerating grammar tables from /usr/lib/python3.5/lib2to3/PatternGrammar.txt\n",
      "INFO\t2019-08-20 22:53:53 +0000\tmaster-replica-0\t\t  Building wheel for gcsfs (setup.py): finished with status 'done'\n",
      "INFO\t2019-08-20 22:53:53 +0000\tmaster-replica-0\t\t  Created wheel for gcsfs: filename=gcsfs-0.2.3-cp35-none-any.whl size=27597 sha256=5561ac04269cab9c63c6683be92cd0cbc62a7e0f326c5e7f69926eb894169fc9\n",
      "INFO\t2019-08-20 22:53:53 +0000\tmaster-replica-0\t\t  Stored in directory: /root/.cache/pip/wheels/cf/68/29/276205e6d8fb4de46f5cbe6098c26cea34eae21334f636b24a\n",
      "INFO\t2019-08-20 22:53:53 +0000\tmaster-replica-0\t\tSuccessfully built trainer fire gcsfs\n",
      "INFO\t2019-08-20 22:53:53 +0000\tmaster-replica-0\t\tInstalling collected packages: fire, oauthlib, requests-oauthlib, google-auth-oauthlib, decorator, gcsfs, trainer\n",
      "ERROR\t2019-08-20 22:53:53 +0000\tmaster-replica-0\t\t  WARNING: The script google-oauthlib-tool is installed in '/root/.local/bin' which is not on PATH.\n",
      "ERROR\t2019-08-20 22:53:53 +0000\tmaster-replica-0\t\t  Consider adding this directory to PATH or, if you prefer to suppress this warning, use --no-warn-script-location.\n",
      "ERROR\t2019-08-20 22:53:53 +0000\tmaster-replica-0\t\t  WARNING: The script gcsfuse is installed in '/root/.local/bin' which is not on PATH.\n",
      "ERROR\t2019-08-20 22:53:53 +0000\tmaster-replica-0\t\t  Consider adding this directory to PATH or, if you prefer to suppress this warning, use --no-warn-script-location.\n",
      "INFO\t2019-08-20 22:53:53 +0000\tmaster-replica-0\t\t  Found existing installation: trainer 0.1\n",
      "INFO\t2019-08-20 22:53:53 +0000\tmaster-replica-0\t\t    Uninstalling trainer-0.1:\n",
      "INFO\t2019-08-20 22:53:53 +0000\tmaster-replica-0\t\t      Successfully uninstalled trainer-0.1\n",
      "INFO\t2019-08-20 22:53:53 +0000\tmaster-replica-0\t\tSuccessfully installed decorator-4.4.0 fire-0.2.1 gcsfs-0.2.3 google-auth-oauthlib-0.4.0 oauthlib-3.1.0 requests-oauthlib-1.2.0 trainer-0.1\n",
      "ERROR\t2019-08-20 22:53:53 +0000\tmaster-replica-0\t\tWARNING: You are using pip version 19.2.1, however version 19.2.2 is available.\n",
      "ERROR\t2019-08-20 22:53:53 +0000\tmaster-replica-0\t\tYou should consider upgrading via the 'pip install --upgrade pip' command.\n",
      "INFO\t2019-08-20 22:53:53 +0000\tmaster-replica-0\t\tRunning command: python3 -m trainer.train --data_path gs://jk-demo-datasets/gasdata/training.csv --n_features_options [2,4,6] --l2_reg_options [0.1,0.2,0.3,0.5] --job-dir gs://jk-demo-jobdir/JOB_20190820_225215\n",
      "INFO\t2019-08-20 22:53:58 +0000\tmaster-replica-0\t\tBest estimator: {'reduce_dim__n_components': 6, 'regress__alpha': 0.1}\n",
      "INFO\t2019-08-20 22:53:58 +0000\tmaster-replica-0\t\tBest score: -0.04955742381198045\n",
      "INFO\t2019-08-20 22:53:59 +0000\tmaster-replica-0\t\tCopying file://model.joblib [Content-Type=application/octet-stream]...\n",
      "INFO\t2019-08-20 22:53:59 +0000\tmaster-replica-0\t\t/ [0 files][    0.0 B/ 33.1 KiB]                                                \n",
      "INFO\t2019-08-20 22:53:59 +0000\tmaster-replica-0\t\t/ [1 files][ 33.1 KiB/ 33.1 KiB]                                                \n",
      "INFO\t2019-08-20 22:53:59 +0000\tmaster-replica-0\t\tOperation completed over 1 objects/33.1 KiB.                                     \n",
      "INFO\t2019-08-20 22:53:59 +0000\tmaster-replica-0\t\tSaved model in: gs://jk-demo-jobdir/JOB_20190820_225215/model.joblib\n",
      "INFO\t2019-08-20 22:54:00 +0000\tmaster-replica-0\t\tModule completed; cleaning up.\n",
      "INFO\t2019-08-20 22:54:00 +0000\tmaster-replica-0\t\tClean up finished.\n",
      "INFO\t2019-08-20 22:54:00 +0000\tmaster-replica-0\t\tTask completed successfully.\n"
     ]
    }
   ],
   "source": [
    "!gcloud ai-platform jobs describe $JOB_NAME\n",
    "!gcloud ai-platform jobs stream-logs $JOB_NAME"
   ]
  },
  {
   "cell_type": "markdown",
   "metadata": {},
   "source": [
    "### Copy the trained model to model repo"
   ]
  },
  {
   "cell_type": "code",
   "execution_count": 13,
   "metadata": {},
   "outputs": [
    {
     "name": "stdout",
     "output_type": "stream",
     "text": [
      "Copying gs://jk-demo-jobdir/JOB_20190820_225215/model.joblib [Content-Type=application/octet-stream]...\n",
      "/ [1 files][ 33.1 KiB/ 33.1 KiB]                                                \n",
      "Operation completed over 1 objects/33.1 KiB.                                     \n"
     ]
    }
   ],
   "source": [
    "MODEL_NAME = \"octane_regressor_r14\"\n",
    "\n",
    "!gsutil cp $JOBDIR_BUCKET/$JOB_NAME/model.joblib $ARTIFACT_BUCKET/models/$MODEL_NAME/model.joblib"
   ]
  },
  {
   "cell_type": "markdown",
   "metadata": {},
   "source": [
    "## Training with a custom container\n",
    "### Create a training container image\n",
    "#### Configure Cloud Build to use Kaniko"
   ]
  },
  {
   "cell_type": "code",
   "execution_count": 14,
   "metadata": {},
   "outputs": [
    {
     "name": "stdout",
     "output_type": "stream",
     "text": [
      "Updated property [builds/use_kaniko].\n"
     ]
    }
   ],
   "source": [
    "!gcloud config set builds/use_kaniko True"
   ]
  },
  {
   "cell_type": "markdown",
   "metadata": {},
   "source": [
    "#### Create a Dockerfile"
   ]
  },
  {
   "cell_type": "code",
   "execution_count": 16,
   "metadata": {},
   "outputs": [],
   "source": [
    "TRAINING_IMAGE_FOLDER = '../training_image'\n",
    "\n",
    "os.makedirs(TRAINING_IMAGE_FOLDER, exist_ok=True)"
   ]
  },
  {
   "cell_type": "code",
   "execution_count": 17,
   "metadata": {},
   "outputs": [
    {
     "name": "stdout",
     "output_type": "stream",
     "text": [
      "Overwriting ../training_image/Dockerfile\n"
     ]
    }
   ],
   "source": [
    "%%writefile $TRAINING_IMAGE_FOLDER/Dockerfile\n",
    "\n",
    "FROM gcr.io/jk-demo1/sklearn-cpu:latest\n",
    "WORKDIR /app\n",
    "COPY train.py .\n",
    "\n",
    "ENTRYPOINT [\"python\", \"train.py\"]"
   ]
  },
  {
   "cell_type": "markdown",
   "metadata": {},
   "source": [
    "#### Create a training script"
   ]
  },
  {
   "cell_type": "code",
   "execution_count": 18,
   "metadata": {},
   "outputs": [
    {
     "name": "stdout",
     "output_type": "stream",
     "text": [
      "Overwriting ../training_image/train.py\n"
     ]
    }
   ],
   "source": [
    "%%writefile $TRAINING_IMAGE_FOLDER/train.py\n",
    "\n",
    "import logging\n",
    "import os\n",
    "import subprocess\n",
    "import sys\n",
    "import joblib\n",
    "import fire\n",
    "import numpy as np\n",
    "import pandas as pd\n",
    "\n",
    "from sklearn.cross_decomposition import PLSRegression\n",
    "from sklearn.decomposition import PCA\n",
    "from sklearn.feature_selection import SelectKBest, chi2\n",
    "from sklearn.linear_model import Ridge\n",
    "from sklearn.manifold import TSNE \n",
    "from sklearn.metrics import mean_squared_error\n",
    "from sklearn.model_selection import GridSearchCV\n",
    "from sklearn.model_selection import train_test_split\n",
    "from sklearn.pipeline import Pipeline\n",
    "from sklearn.preprocessing import StandardScaler\n",
    "\n",
    "\n",
    "def train(job_dir, data_path, n_features_options, l2_reg_options):\n",
    "    \n",
    "  # Load data from GCS\n",
    "  df_train = pd.read_csv(data_path)\n",
    "\n",
    "  y = df_train.octane\n",
    "  X = df_train.drop('octane', axis=1)\n",
    "    \n",
    "  pipeline = Pipeline([\n",
    "    ('scale', StandardScaler()),\n",
    "    ('reduce_dim', PCA()),\n",
    "    ('regress', Ridge())\n",
    "  ])\n",
    "\n",
    "  param_grid = [\n",
    "    {\n",
    "      'reduce_dim__n_components': n_features_options,\n",
    "      'regress__alpha': l2_reg_options\n",
    "    }\n",
    "  ]\n",
    "\n",
    "  grid = GridSearchCV(pipeline, cv=10, n_jobs=None, param_grid=param_grid, scoring='neg_mean_squared_error', iid=False)\n",
    "  \n",
    "  grid.fit(X, y)\n",
    "\n",
    "  logging.info(\"Best estimator: {}\".format(grid.best_params_))\n",
    "  logging.info(\"Best score: {}\".format(grid.best_score_))\n",
    "    \n",
    "  # Retrain the best model on a full dataset\n",
    "  best_estimator = grid.best_estimator_\n",
    "  trained_pipeline = best_estimator.fit(X, y)\n",
    "\n",
    "  # Save the model\n",
    "  model_filename = 'model.joblib'\n",
    "  joblib.dump(value=trained_pipeline, filename=model_filename)\n",
    "  gcs_model_path = \"{}/{}\".format(job_dir, model_filename)\n",
    "  subprocess.check_call(['gsutil', 'cp', model_filename, gcs_model_path], stderr=sys.stdout)\n",
    "  logging.info(\"Saved model in: {}\".format(gcs_model_path)) \n",
    "    \n",
    "if __name__ == \"__main__\":\n",
    "  logging.basicConfig(level=logging.INFO)\n",
    "  fire.Fire(train)"
   ]
  },
  {
   "cell_type": "markdown",
   "metadata": {},
   "source": [
    "#### Build the image"
   ]
  },
  {
   "cell_type": "code",
   "execution_count": 19,
   "metadata": {},
   "outputs": [
    {
     "name": "stdout",
     "output_type": "stream",
     "text": [
      "Creating temporary tarball archive of 2 file(s) totalling 1.9 KiB before compression.\n",
      "Uploading tarball of [../training_image] to [gs://jk-demo1_cloudbuild/source/1566342876.51-e2fd899d389f443da947737c85c82426.tgz]\n",
      "Created [https://cloudbuild.googleapis.com/v1/projects/jk-demo1/builds/10fedaa2-42a3-4cd8-b062-b7dbb83f94a3].\n",
      "Logs are available at [https://console.cloud.google.com/gcr/builds/10fedaa2-42a3-4cd8-b062-b7dbb83f94a3?project=826865698127].\n",
      "----------------------------- REMOTE BUILD OUTPUT ------------------------------\n",
      "starting build \"10fedaa2-42a3-4cd8-b062-b7dbb83f94a3\"\n",
      "\n",
      "FETCHSOURCE\n",
      "Fetching storage object: gs://jk-demo1_cloudbuild/source/1566342876.51-e2fd899d389f443da947737c85c82426.tgz#1566342876976044\n",
      "Copying gs://jk-demo1_cloudbuild/source/1566342876.51-e2fd899d389f443da947737c85c82426.tgz#1566342876976044...\n",
      "/ [1 files][  1.0 KiB/  1.0 KiB]                                                \n",
      "Operation completed over 1 objects/1.0 KiB.                                      \n",
      "BUILD\n",
      "Pulling image: gcr.io/kaniko-project/executor:latest\n",
      "latest: Pulling from kaniko-project/executor\n",
      "Digest: sha256:78d44ec4e9cb5545d7f85c1924695c89503ded86a59f92c7ae658afa3cff5400\n",
      "Status: Downloaded newer image for gcr.io/kaniko-project/executor:latest\n",
      "gcr.io/kaniko-project/executor:latest\n",
      "\u001b[36mINFO\u001b[0m[0000] Resolved base name gcr.io/jk-demo1/sklearn-cpu:latest to gcr.io/jk-demo1/sklearn-cpu:latest \n",
      "\u001b[36mINFO\u001b[0m[0000] Resolved base name gcr.io/jk-demo1/sklearn-cpu:latest to gcr.io/jk-demo1/sklearn-cpu:latest \n",
      "\u001b[36mINFO\u001b[0m[0000] Downloading base image gcr.io/jk-demo1/sklearn-cpu:latest \n",
      "\u001b[36mINFO\u001b[0m[0000] Error while retrieving image from cache: getting file info: stat /cache/sha256:9641e43af0816270b5c797fd6009d6b65bd9a9775f014f3b58ea0e37d617bb3a: no such file or directory \n",
      "\u001b[36mINFO\u001b[0m[0000] Downloading base image gcr.io/jk-demo1/sklearn-cpu:latest \n",
      "\u001b[36mINFO\u001b[0m[0000] Built cross stage deps: map[]                \n",
      "\u001b[36mINFO\u001b[0m[0000] Downloading base image gcr.io/jk-demo1/sklearn-cpu:latest \n",
      "\u001b[36mINFO\u001b[0m[0000] Error while retrieving image from cache: getting file info: stat /cache/sha256:9641e43af0816270b5c797fd6009d6b65bd9a9775f014f3b58ea0e37d617bb3a: no such file or directory \n",
      "\u001b[36mINFO\u001b[0m[0000] Downloading base image gcr.io/jk-demo1/sklearn-cpu:latest \n",
      "\u001b[36mINFO\u001b[0m[0001] Using files from context: [/workspace/train.py] \n",
      "\u001b[36mINFO\u001b[0m[0001] Skipping unpacking as no commands require it. \n",
      "\u001b[36mINFO\u001b[0m[0001] Taking snapshot of full filesystem...        \n",
      "\u001b[36mINFO\u001b[0m[0001] WORKDIR /app                                 \n",
      "\u001b[36mINFO\u001b[0m[0001] cmd: workdir                                 \n",
      "\u001b[36mINFO\u001b[0m[0001] Changed working directory to /app            \n",
      "\u001b[36mINFO\u001b[0m[0001] Creating directory /app                      \n",
      "\u001b[36mINFO\u001b[0m[0001] Taking snapshot of files...                  \n",
      "\u001b[36mINFO\u001b[0m[0001] Using files from context: [/workspace/train.py] \n",
      "\u001b[36mINFO\u001b[0m[0001] COPY train.py .                              \n",
      "\u001b[36mINFO\u001b[0m[0001] Taking snapshot of files...                  \n",
      "\u001b[36mINFO\u001b[0m[0001] ENTRYPOINT [\"python\", \"train.py\"]            \n",
      "\u001b[36mINFO\u001b[0m[0001] No files changed in this command, skipping snapshotting. \n",
      "2019/08/20 23:14:55 existing blob: sha256:a74bd22c075359ac48a9f161bc4e6901d4a5289903d7653af5fc3c8d9e58d6fd\n",
      "2019/08/20 23:14:55 existing blob: sha256:23aa97798c19c7b3722715e384d840803fde9cbdf59b1ea574ab3f184d2bae8c\n",
      "2019/08/20 23:14:55 existing blob: sha256:bf6b8299d4b6a75ba222f5030c878756efc496ad3fa884b9ce8eac03ab9eb9b4\n",
      "2019/08/20 23:14:55 existing blob: sha256:7413c47ba209e555018c4be91101d017737f24b0c9d1f65339b97a4da98acb2a\n",
      "2019/08/20 23:14:55 existing blob: sha256:6ed4546c074e590fa0e18249a743b6ef4791a0357f1e65ff1875af3baa251505\n",
      "2019/08/20 23:14:55 existing blob: sha256:376e851883a7316289c8dbd4da636de7cdd3756b5b653dcb30c7a2a9cd9a2c66\n",
      "2019/08/20 23:14:55 existing blob: sha256:1d425c98234572d4221a1ac173162c4279f9fdde4726ec22ad3c399f59bb7503\n",
      "2019/08/20 23:14:55 existing blob: sha256:1c75398b6b38b33b19ef8cb52c5a2b290182227e6267555623e8d1f76813a74c\n",
      "2019/08/20 23:14:55 existing blob: sha256:be6f29e4b5b17aff2c0b5c73b71f537280752170aba53cfa05d2aaba28854b8f\n",
      "2019/08/20 23:14:55 existing blob: sha256:27364346da9f15cf2ed310941d2e7bb73956350d7252be2af9c9abb4febc069a\n",
      "2019/08/20 23:14:55 existing blob: sha256:344da5c95cecd0f55238ce59b8469ee301056001ece2b769e9691b80f94f9f37\n",
      "2019/08/20 23:14:55 existing blob: sha256:63099198646c4864de393c33a7e013e0b7f369a0b5c4283bc9ed8b66ed62f13c\n",
      "2019/08/20 23:14:55 existing blob: sha256:32b22702030c512ccdfea8f820519d9ec017a85e36cadf8aff9ed323d2edb6d8\n",
      "2019/08/20 23:14:55 existing blob: sha256:be36d213ecbafdf6a96ff10fbc2a53311cb116c7359a3d34a31703384e712e48\n",
      "2019/08/20 23:14:55 existing blob: sha256:f961afefb5b48bd0161367c89a4df03581118e14b1f4bed638fd876e7969c161\n",
      "2019/08/20 23:14:55 existing blob: sha256:0fe7e7cbb2e88617d969efeeb3bd3125f7d309335c736a0525233ec2dc06aee1\n",
      "2019/08/20 23:14:55 existing blob: sha256:8e7f4eb46254f843037a1c65cbd7b0e2fceae689fe2db7b39c2f30a0c37f92fe\n",
      "2019/08/20 23:14:55 existing blob: sha256:a0fccb56e473519006c7c3567e4e85d50f0e833604541e531117cbb4515a601a\n",
      "2019/08/20 23:14:57 pushed blob: sha256:46ba8f4e686290593edb2cf01a43f4f32f3da2507e5825d6b16250e755002397\n",
      "2019/08/20 23:14:57 pushed blob: sha256:d1523af60de812ef3ff427889e21257254694e2c2c7ff06a4378b7e761cb15d8\n",
      "2019/08/20 23:14:57 pushed blob: sha256:1e88a59172ae96b76719c158c5cefef99a4520cc7c0d213b5b41248b9d31552e\n",
      "2019/08/20 23:14:58 gcr.io/jk-demo1/octane-regression-training:latest: digest: sha256:88692c567f133378bce65fc56938d177c9f47d8ae8c4c9ed4219d0d45e61c955 size: 3497\n",
      "PUSH\n",
      "DONE\n",
      "--------------------------------------------------------------------------------\n",
      "\n",
      "ID                                    CREATE_TIME                DURATION  SOURCE                                                                              IMAGES  STATUS\n",
      "10fedaa2-42a3-4cd8-b062-b7dbb83f94a3  2019-08-20T23:14:37+00:00  21S       gs://jk-demo1_cloudbuild/source/1566342876.51-e2fd899d389f443da947737c85c82426.tgz  -       SUCCESS\n"
     ]
    }
   ],
   "source": [
    "PROJECT_ID = !gcloud config list project --format \"value(core.project)\"\n",
    "PROJECT_ID = PROJECT_ID[0]\n",
    "IMAGE_REPO_NAME=\"octane-regression-training\"\n",
    "IMAGE_TAG=\"latest\"\n",
    "IMAGE_URI=\"gcr.io/{}/{}:{}\".format(PROJECT_ID, IMAGE_REPO_NAME, IMAGE_TAG)\n",
    "\n",
    "!gcloud builds submit --tag $IMAGE_URI $TRAINING_IMAGE_FOLDER"
   ]
  },
  {
   "cell_type": "markdown",
   "metadata": {},
   "source": [
    "### Submit a training job"
   ]
  },
  {
   "cell_type": "code",
   "execution_count": 20,
   "metadata": {},
   "outputs": [],
   "source": [
    "JOB_NAME = \"JOB_{}\".format(time.strftime(\"%Y%m%d_%H%M%S\"))\n",
    "SCALE_TIER = \"BASIC\"\n",
    "\n",
    "N_FEATURES_OPTIONS=\"[2,4,6]\"\n",
    "L2_REG_OPTIONS=\"[0.1,0.2,0.3,0.5]\""
   ]
  },
  {
   "cell_type": "code",
   "execution_count": 21,
   "metadata": {},
   "outputs": [
    {
     "name": "stdout",
     "output_type": "stream",
     "text": [
      "Job [JOB_20190820_231609] submitted successfully.\n",
      "Your job is still active. You may view the status of your job with the command\n",
      "\n",
      "  $ gcloud ai-platform jobs describe JOB_20190820_231609\n",
      "\n",
      "or continue streaming the logs with the command\n",
      "\n",
      "  $ gcloud ai-platform jobs stream-logs JOB_20190820_231609\n",
      "jobId: JOB_20190820_231609\n",
      "state: QUEUED\n"
     ]
    }
   ],
   "source": [
    "!gcloud ai-platform jobs submit training $JOB_NAME \\\n",
    "--region $REGION \\\n",
    "--job-dir $JOBDIR_BUCKET/$JOB_NAME \\\n",
    "--master-image-uri $IMAGE_URI \\\n",
    "--scale-tier $SCALE_TIER \\\n",
    "-- \\\n",
    "--data_path $TRAINING_DATA_PATH  \\\n",
    "--n_features_options $N_FEATURES_OPTIONS \\\n",
    "--l2_reg_options $L2_REG_OPTIONS"
   ]
  },
  {
   "cell_type": "code",
   "execution_count": 22,
   "metadata": {},
   "outputs": [
    {
     "name": "stdout",
     "output_type": "stream",
     "text": [
      "createTime: '2019-08-20T23:16:59Z'\n",
      "etag: iE4ppY21-RE=\n",
      "jobId: JOB_20190820_231609\n",
      "state: PREPARING\n",
      "trainingInput:\n",
      "  args:\n",
      "  - --data_path\n",
      "  - gs://jk-demo-datasets/gasdata/training.csv\n",
      "  - --n_features_options\n",
      "  - '[2,4,6]'\n",
      "  - --l2_reg_options\n",
      "  - '[0.1,0.2,0.3,0.5]'\n",
      "  jobDir: gs://jk-demo-jobdir/JOB_20190820_231609\n",
      "  masterConfig:\n",
      "    imageUri: gcr.io/jk-demo1/octane-regression-training:latest\n",
      "  region: us-central1\n",
      "trainingOutput: {}\n",
      "\n",
      "View job in the Cloud Console at:\n",
      "https://console.cloud.google.com/mlengine/jobs/JOB_20190820_231609?project=jk-demo1\n",
      "\n",
      "View logs at:\n",
      "https://console.cloud.google.com/logs?resource=ml.googleapis.com%2Fjob_id%2FJOB_20190820_231609&project=jk-demo1\n",
      "INFO\t2019-08-20 23:16:58 +0000\tservice\t\tValidating job requirements...\n",
      "INFO\t2019-08-20 23:16:59 +0000\tservice\t\tJob creation request has been successfully validated.\n",
      "INFO\t2019-08-20 23:16:59 +0000\tservice\t\tJob JOB_20190820_231609 is queued.\n",
      "INFO\t2019-08-20 23:16:59 +0000\tservice\t\tWaiting for job to be provisioned.\n",
      "INFO\t2019-08-20 23:17:01 +0000\tservice\t\tWaiting for training program to start.\n",
      "ERROR\t2019-08-20 23:20:09 +0000\tmaster-replica-0\t\tINFO:root:Best estimator: {'reduce_dim__n_components': 6, 'regress__alpha': 0.1}\n",
      "ERROR\t2019-08-20 23:20:09 +0000\tmaster-replica-0\t\tINFO:root:Best score: -0.04955742381198019\n",
      "INFO\t2019-08-20 23:20:10 +0000\tmaster-replica-0\t\tCopying file://model.joblib [Content-Type=application/octet-stream]...\n",
      "INFO\t2019-08-20 23:20:11 +0000\tmaster-replica-0\t\t/ [0 files][    0.0 B/ 33.1 KiB]                                                \n",
      "INFO\t2019-08-20 23:20:11 +0000\tmaster-replica-0\t\t/ [1 files][ 33.1 KiB/ 33.1 KiB]                                                \n",
      "INFO\t2019-08-20 23:20:11 +0000\tmaster-replica-0\t\tOperation completed over 1 objects/33.1 KiB.                                     \n",
      "ERROR\t2019-08-20 23:20:11 +0000\tmaster-replica-0\t\tINFO:root:Saved model in: gs://jk-demo-jobdir/JOB_20190820_231609/model.joblib\n"
     ]
    }
   ],
   "source": [
    "!gcloud ai-platform jobs describe $JOB_NAME\n",
    "!gcloud ai-platform jobs stream-logs $JOB_NAME"
   ]
  },
  {
   "cell_type": "markdown",
   "metadata": {},
   "source": [
    "### Copy the trained model to model repo"
   ]
  },
  {
   "cell_type": "code",
   "execution_count": 23,
   "metadata": {},
   "outputs": [
    {
     "name": "stdout",
     "output_type": "stream",
     "text": [
      "Copying gs://jk-demo-jobdir/JOB_20190820_231609/model.joblib [Content-Type=application/octet-stream]...\n",
      "/ [1 files][ 33.1 KiB/ 33.1 KiB]                                                \n",
      "Operation completed over 1 objects/33.1 KiB.                                     \n"
     ]
    }
   ],
   "source": [
    "MODEL_NAME = \"octane_regressor_container\"\n",
    "\n",
    "!gsutil cp $JOBDIR_BUCKET/$JOB_NAME/model.joblib $ARTIFACT_BUCKET/models/$MODEL_NAME/model.joblib"
   ]
  },
  {
   "cell_type": "code",
   "execution_count": null,
   "metadata": {},
   "outputs": [],
   "source": []
  }
 ],
 "metadata": {
  "kernelspec": {
   "display_name": "Python 3",
   "language": "python",
   "name": "python3"
  },
  "language_info": {
   "codemirror_mode": {
    "name": "ipython",
    "version": 3
   },
   "file_extension": ".py",
   "mimetype": "text/x-python",
   "name": "python",
   "nbconvert_exporter": "python",
   "pygments_lexer": "ipython3",
   "version": "3.5.3"
  }
 },
 "nbformat": 4,
 "nbformat_minor": 4
}
