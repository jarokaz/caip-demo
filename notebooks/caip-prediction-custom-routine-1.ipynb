{
 "cells": [
  {
   "cell_type": "markdown",
   "metadata": {},
   "source": [
    "# Cloud AI Platform Prediction - Custom Prediction Routine V1"
   ]
  },
  {
   "cell_type": "code",
   "execution_count": 1,
   "metadata": {},
   "outputs": [],
   "source": [
    "import json\n",
    "import os\n",
    "import pandas as pd\n",
    "import time"
   ]
  },
  {
   "cell_type": "code",
   "execution_count": 2,
   "metadata": {},
   "outputs": [],
   "source": [
    "PREDICT_APP_V1_FOLDER = '../predict_app_v1'\n",
    "TESTING_DATA_PATH = 'gs://jk-demo-datasets/gasdata/testing.csv'\n",
    "REGION = \"us-central1\"\n",
    "ARTIFACT_BUCKET = \"gs://jk-demo-artifacts\""
   ]
  },
  {
   "cell_type": "markdown",
   "metadata": {},
   "source": [
    "## Create a model resource"
   ]
  },
  {
   "cell_type": "code",
   "execution_count": 3,
   "metadata": {},
   "outputs": [],
   "source": [
    "MODEL_NAME = \"octane_regression\"\n",
    "LABELS = \"task=regression,domain=chemometrics\""
   ]
  },
  {
   "cell_type": "code",
   "execution_count": null,
   "metadata": {},
   "outputs": [],
   "source": [
    "!gcloud ai-platform models create  $MODEL_NAME \\\n",
    "--regions=$REGION \\\n",
    "--labels=$LABELS"
   ]
  },
  {
   "cell_type": "markdown",
   "metadata": {},
   "source": [
    "## Create a model version from a custom prediction routine\n",
    "### Create a predictor class"
   ]
  },
  {
   "cell_type": "code",
   "execution_count": 4,
   "metadata": {},
   "outputs": [],
   "source": [
    "os.makedirs(PREDICT_APP_V1_FOLDER, exist_ok=True)"
   ]
  },
  {
   "cell_type": "code",
   "execution_count": 5,
   "metadata": {},
   "outputs": [
    {
     "name": "stdout",
     "output_type": "stream",
     "text": [
      "Writing ../predict_app_v1/predict.py\n"
     ]
    }
   ],
   "source": [
    "%%writefile $PREDICT_APP_V1_FOLDER/predict.py\n",
    "\n",
    "import os\n",
    "import numpy as np\n",
    "\n",
    "from sklearn.externals import joblib\n",
    "\n",
    "class OctaneRegressor(object):\n",
    "    \"\"\"A custom prediction routine for Octane regressor\"\"\"\n",
    "    \n",
    "    def __init__(self, model):\n",
    "        \"\"\"Stores the model loaded in from_path\"\"\"\n",
    "        self._model = model\n",
    "        \n",
    "    def predict(self, instances, **kwargs):\n",
    "        \"\"\"Runs inference\"\"\"\n",
    "    \n",
    "        outputs = self._model.predict(np.asarray(instances))\n",
    "        \n",
    "        return outputs.tolist()\n",
    "\n",
    "        \n",
    "    @classmethod\n",
    "    def from_path(cls, model_dir):\n",
    "        \"\"\"Loads the model from the joblib file\"\"\"\n",
    "        model_path = os.path.join(model_dir, 'model.joblib')\n",
    "        model = joblib.load(model_path)\n",
    "        \n",
    "        \n",
    "        return cls(model)\n",
    "    "
   ]
  },
  {
   "cell_type": "markdown",
   "metadata": {},
   "source": [
    "### Create a source distribution package"
   ]
  },
  {
   "cell_type": "code",
   "execution_count": 6,
   "metadata": {},
   "outputs": [
    {
     "name": "stdout",
     "output_type": "stream",
     "text": [
      "Writing ../predict_app_v1/setup.py\n"
     ]
    }
   ],
   "source": [
    "%%writefile $PREDICT_APP_V1_FOLDER/setup.py\n",
    "\n",
    "from setuptools import setup\n",
    "\n",
    "setup(\n",
    "    name='custom-predictor-1',\n",
    "    description='Custom prediction routine.',\n",
    "    version='0.1',\n",
    "    scripts=['predict.py']\n",
    ")"
   ]
  },
  {
   "cell_type": "code",
   "execution_count": 7,
   "metadata": {},
   "outputs": [
    {
     "name": "stdout",
     "output_type": "stream",
     "text": [
      "/home/jupyter/caip-demo/predict_app_v1\n",
      "running sdist\n",
      "running egg_info\n",
      "creating custom_predictor_1.egg-info\n",
      "writing top-level names to custom_predictor_1.egg-info/top_level.txt\n",
      "writing dependency_links to custom_predictor_1.egg-info/dependency_links.txt\n",
      "writing custom_predictor_1.egg-info/PKG-INFO\n",
      "writing manifest file 'custom_predictor_1.egg-info/SOURCES.txt'\n",
      "reading manifest file 'custom_predictor_1.egg-info/SOURCES.txt'\n",
      "writing manifest file 'custom_predictor_1.egg-info/SOURCES.txt'\n"
     ]
    },
    {
     "name": "stderr",
     "output_type": "stream",
     "text": [
      "warning: sdist: standard file not found: should have one of README, README.rst, README.txt, README.md\n",
      "\n"
     ]
    },
    {
     "name": "stdout",
     "output_type": "stream",
     "text": [
      "running check\n"
     ]
    },
    {
     "name": "stderr",
     "output_type": "stream",
     "text": [
      "warning: check: missing required meta-data: url\n",
      "\n",
      "warning: check: missing meta-data: either (author and author_email) or (maintainer and maintainer_email) must be supplied\n",
      "\n"
     ]
    },
    {
     "name": "stdout",
     "output_type": "stream",
     "text": [
      "creating custom-predictor-1-0.1\n",
      "creating custom-predictor-1-0.1/custom_predictor_1.egg-info\n",
      "copying files to custom-predictor-1-0.1...\n",
      "copying predict.py -> custom-predictor-1-0.1\n",
      "copying setup.py -> custom-predictor-1-0.1\n",
      "copying custom_predictor_1.egg-info/PKG-INFO -> custom-predictor-1-0.1/custom_predictor_1.egg-info\n",
      "copying custom_predictor_1.egg-info/SOURCES.txt -> custom-predictor-1-0.1/custom_predictor_1.egg-info\n",
      "copying custom_predictor_1.egg-info/dependency_links.txt -> custom-predictor-1-0.1/custom_predictor_1.egg-info\n",
      "copying custom_predictor_1.egg-info/top_level.txt -> custom-predictor-1-0.1/custom_predictor_1.egg-info\n",
      "Writing custom-predictor-1-0.1/setup.cfg\n",
      "creating dist\n",
      "Creating tar archive\n",
      "removing 'custom-predictor-1-0.1' (and everything under it)\n",
      "/home/jupyter/caip-demo/notebooks\n"
     ]
    }
   ],
   "source": [
    "%cd $PREDICT_APP_V1_FOLDER\n",
    "%run $PREDICT_APP_V1_FOLDER/setup.py sdist --formats=gztar\n",
    "%cd -"
   ]
  },
  {
   "cell_type": "markdown",
   "metadata": {},
   "source": [
    "### Copy the source distribution package to GCS"
   ]
  },
  {
   "cell_type": "code",
   "execution_count": 8,
   "metadata": {},
   "outputs": [],
   "source": [
    "CUSTOM_ROUTINE_NAME = \"custom-predictor-1\"\n",
    "TARBALL_NAME = \"custom-predictor-1-0.1.tar.gz\"\n",
    "LOCAL_PATH = \"{}/dist/{}\".format(PREDICT_APP_V1_FOLDER, TARBALL_NAME)\n",
    "GCS_PATH = \"{}/prediction_routines/{}/{}\".format(ARTIFACT_BUCKET, CUSTOM_ROUTINE_NAME, TARBALL_NAME)"
   ]
  },
  {
   "cell_type": "code",
   "execution_count": 9,
   "metadata": {},
   "outputs": [
    {
     "name": "stdout",
     "output_type": "stream",
     "text": [
      "Copying file://../predict_app_v1/dist/custom-predictor-1-0.1.tar.gz [Content-Type=application/x-tar]...\n",
      "/ [1 files][  990.0 B/  990.0 B]                                                \n",
      "Operation completed over 1 objects/990.0 B.                                      \n"
     ]
    }
   ],
   "source": [
    "!gsutil cp $LOCAL_PATH $GCS_PATH"
   ]
  },
  {
   "cell_type": "markdown",
   "metadata": {},
   "source": [
    "### Create a model version"
   ]
  },
  {
   "cell_type": "code",
   "execution_count": 13,
   "metadata": {},
   "outputs": [],
   "source": [
    "TRAINED_MODEL_PATH = 'gs://jk-demo-artifacts/models/octane-regressor-r14/'\n",
    "MODEL_VERSION = 'v02'"
   ]
  },
  {
   "cell_type": "code",
   "execution_count": 14,
   "metadata": {},
   "outputs": [
    {
     "name": "stdout",
     "output_type": "stream",
     "text": [
      "Creating version (this might take a few minutes)......done.                    \n"
     ]
    }
   ],
   "source": [
    "!gcloud beta ai-platform versions create $MODEL_VERSION \\\n",
    "--model=$MODEL_NAME \\\n",
    "--origin=$TRAINED_MODEL_PATH \\x\n",
    "--runtime-version=1.14 \\\n",
    "--python-version=3.5 \\\n",
    "--package-uris $GCS_PATH \\\n",
    "--prediction-class predict.OctaneRegressor"
   ]
  },
  {
   "cell_type": "markdown",
   "metadata": {},
   "source": [
    "### Test the model"
   ]
  },
  {
   "cell_type": "code",
   "execution_count": 15,
   "metadata": {},
   "outputs": [],
   "source": [
    "INPUT_FILE = '../datasets/testing_instances.json'"
   ]
  },
  {
   "cell_type": "code",
   "execution_count": 16,
   "metadata": {},
   "outputs": [
    {
     "name": "stdout",
     "output_type": "stream",
     "text": [
      "[88.59553605661218, 88.84093111257747, 87.35784874687317, 88.73399177287303, 85.26014664670036, 88.12292248697285]\n"
     ]
    }
   ],
   "source": [
    "!gcloud ai-platform predict \\\n",
    "--model $MODEL_NAME \\\n",
    "--version $MODEL_VERSION \\\n",
    "--json-instances $INPUT_FILE"
   ]
  },
  {
   "cell_type": "code",
   "execution_count": null,
   "metadata": {},
   "outputs": [],
   "source": []
  }
 ],
 "metadata": {
  "kernelspec": {
   "display_name": "Python 3",
   "language": "python",
   "name": "python3"
  },
  "language_info": {
   "codemirror_mode": {
    "name": "ipython",
    "version": 3
   },
   "file_extension": ".py",
   "mimetype": "text/x-python",
   "name": "python",
   "nbconvert_exporter": "python",
   "pygments_lexer": "ipython3",
   "version": "3.5.3"
  }
 },
 "nbformat": 4,
 "nbformat_minor": 4
}
