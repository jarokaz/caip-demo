{
 "cells": [
  {
   "cell_type": "markdown",
   "metadata": {},
   "source": [
    "# Operationalizing training with KFP"
   ]
  },
  {
   "cell_type": "code",
   "execution_count": 1,
   "metadata": {},
   "outputs": [],
   "source": [
    "import kfp\n",
    "from kfp import gcp\n",
    "import json"
   ]
  },
  {
   "cell_type": "code",
   "execution_count": 11,
   "metadata": {},
   "outputs": [],
   "source": [
    "PROJECT_ID = !gcloud config list project --format \"value(core.project)\"\n",
    "PROJECT_ID = PROJECT_ID[0]\n",
    "REGION = 'us-central1'\n",
    "MASTER_IMAGE_URI = 'gcr.io/jk-demo1/octane-regression-training:latest'\n",
    "JOB_DIR = \"gs://jk-demo-jobdir/\"\n",
    "ARGS = json.dumps([\n",
    "    '--data-path', 'gs://jk-demo-datasets/gasdata/training.csv',\n",
    "    '--n-features-options', '[2,4,6]', \n",
    "    '--l2-reg-options', '[0.1,0.2,0.3,0.5]'\n",
    "])\n",
    "    \n",
    "TRAIN_COMPONENT_SPEC=\"https://raw.githubusercontent.com/kubeflow/pipelines/master/components/gcp/ml_engine/train/component.yaml\"\n",
    "DEPLOY_COMPONENT_SPEC=\"\"\n",
    "JOB_ID_PREFIX=\"JOB\""
   ]
  },
  {
   "cell_type": "markdown",
   "metadata": {},
   "source": [
    "## Define the pipeline"
   ]
  },
  {
   "cell_type": "code",
   "execution_count": 12,
   "metadata": {},
   "outputs": [],
   "source": [
    "mlengine_train_op = kfp.components.load_component_from_url(TRAIN_COMPONENT_SPEC)"
   ]
  },
  {
   "cell_type": "code",
   "execution_count": 13,
   "metadata": {},
   "outputs": [],
   "source": [
    "@kfp.dsl.pipeline(\n",
    "    name=\"CAIP_training\",\n",
    "    description=\"Cloud AI Platform Training and Deployment\")\n",
    "def pipeline(\n",
    "    project_id=PROJECT_ID,\n",
    "    region=REGION,\n",
    "    master_image_uri=MASTER_IMAGE_URI,\n",
    "    job_dir=JOB_DIR,\n",
    "    job_id_prefix=JOB_ID_PREFIX,\n",
    "    args=ARGS):\n",
    "    \n",
    "  train_task = mlengine_train_op(\n",
    "      project_id=project_id,\n",
    "      region=region,\n",
    "      args=args,\n",
    "      job_dir=job_dir,\n",
    "      master_image_uri=master_image_uri,\n",
    "   ).apply(gcp.use_gcp_secret('user-gcp-sa'))\n",
    "  "
   ]
  },
  {
   "cell_type": "markdown",
   "metadata": {},
   "source": [
    "## Compile the pipeline"
   ]
  },
  {
   "cell_type": "code",
   "execution_count": 14,
   "metadata": {},
   "outputs": [],
   "source": [
    "pipeline_filename = pipeline._pipeline_name + '.zip'\n",
    "kfp.compiler.Compiler().compile(pipeline, pipeline_filename)\n"
   ]
  },
  {
   "cell_type": "markdown",
   "metadata": {},
   "source": [
    "## Submit the run\n",
    "### Fetch GKE credentials"
   ]
  },
  {
   "cell_type": "code",
   "execution_count": 15,
   "metadata": {},
   "outputs": [
    {
     "name": "stdout",
     "output_type": "stream",
     "text": [
      "Fetching cluster endpoint and auth data.\n",
      "kubeconfig entry generated for kf-gke-cluster.\n"
     ]
    }
   ],
   "source": [
    "CLUSTER_NAME = \"kf-gke-cluster\"\n",
    "ZONE = \"us-west1-a\"\n",
    "\n",
    "!gcloud container clusters get-credentials $CLUSTER_NAME --zone $ZONE"
   ]
  },
  {
   "cell_type": "markdown",
   "metadata": {},
   "source": [
    "### Create a KFP experiment"
   ]
  },
  {
   "cell_type": "code",
   "execution_count": 16,
   "metadata": {},
   "outputs": [
    {
     "data": {
      "text/html": [
       "Experiment link <a href=\"/pipeline/#/experiments/details/a861e243-e8f7-46aa-8f41-b6bba39e8e3c\" target=\"_blank\" >here</a>"
      ],
      "text/plain": [
       "<IPython.core.display.HTML object>"
      ]
     },
     "metadata": {},
     "output_type": "display_data"
    }
   ],
   "source": [
    "EXPERIMENT_NAME = \"CAIP_Training_Deployment\"\n",
    "\n",
    "client = kfp.Client()\n",
    "experiment = client.create_experiment(EXPERIMENT_NAME)"
   ]
  },
  {
   "cell_type": "markdown",
   "metadata": {},
   "source": [
    "### Submit a run"
   ]
  },
  {
   "cell_type": "code",
   "execution_count": 17,
   "metadata": {},
   "outputs": [
    {
     "data": {
      "text/html": [
       "Run link <a href=\"/pipeline/#/runs/details/810eeaac-01d7-49f9-ab62-07572ab614a1\" target=\"_blank\" >here</a>"
      ],
      "text/plain": [
       "<IPython.core.display.HTML object>"
      ]
     },
     "metadata": {},
     "output_type": "display_data"
    }
   ],
   "source": [
    "run_name =  'run1'\n",
    "arguments = {}\n",
    "run_result = client.run_pipeline(experiment.id, run_name, pipeline_filename, arguments)"
   ]
  },
  {
   "cell_type": "code",
   "execution_count": null,
   "metadata": {},
   "outputs": [],
   "source": []
  }
 ],
 "metadata": {
  "kernelspec": {
   "display_name": "Python 3",
   "language": "python",
   "name": "python3"
  },
  "language_info": {
   "codemirror_mode": {
    "name": "ipython",
    "version": 3
   },
   "file_extension": ".py",
   "mimetype": "text/x-python",
   "name": "python",
   "nbconvert_exporter": "python",
   "pygments_lexer": "ipython3",
   "version": "3.7.3"
  }
 },
 "nbformat": 4,
 "nbformat_minor": 4
}
