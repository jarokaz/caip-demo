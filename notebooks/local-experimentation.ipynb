{
 "cells": [
  {
   "cell_type": "markdown",
   "metadata": {},
   "source": [
    "# Experimenting in AI Platform Notebook"
   ]
  },
  {
   "cell_type": "code",
   "execution_count": 1,
   "metadata": {},
   "outputs": [],
   "source": [
    "import numpy as np\n",
    "import pandas as pd\n",
    "import joblib\n",
    "\n",
    "from sklearn.decomposition import PCA\n",
    "from sklearn.linear_model import Ridge \n",
    "from sklearn.metrics import mean_squared_error\n",
    "from sklearn.model_selection import GridSearchCV\n",
    "from sklearn.model_selection import train_test_split\n",
    "from sklearn.pipeline import Pipeline\n",
    "from sklearn.preprocessing import StandardScaler"
   ]
  },
  {
   "cell_type": "markdown",
   "metadata": {},
   "source": [
    "## Configure environment "
   ]
  },
  {
   "cell_type": "markdown",
   "metadata": {},
   "source": [
    "### Create a GCS bucket\n",
    "\n",
    "Ignore the error message if the bucket already exists."
   ]
  },
  {
   "cell_type": "code",
   "execution_count": 2,
   "metadata": {},
   "outputs": [
    {
     "name": "stdout",
     "output_type": "stream",
     "text": [
      "Creating gs://mlops-dev-100-artifact-store/...\n",
      "ServiceException: 409 Bucket mlops-dev-100-artifact-store already exists.\n"
     ]
    }
   ],
   "source": [
    "PROJECT_ID = !(gcloud config get-value core/project)\n",
    "ARTIFACT_STORE = 'gs://{}-artifact-store'.format(PROJECT_ID[0])\n",
    "!gsutil mb $ARTIFACT_STORE"
   ]
  },
  {
   "cell_type": "markdown",
   "metadata": {},
   "source": [
    "### Copy the dataset to the GCS bucket"
   ]
  },
  {
   "cell_type": "code",
   "execution_count": 3,
   "metadata": {},
   "outputs": [
    {
     "name": "stdout",
     "output_type": "stream",
     "text": [
      "Copying file://../datasets/gasData.csv [Content-Type=text/csv]...\n",
      "/ [1 files][226.6 KiB/226.6 KiB]                                                \n",
      "Operation completed over 1 objects/226.6 KiB.                                    \n"
     ]
    }
   ],
   "source": [
    "DATASET_PATH = '{}/datasets/gasdataset.csv'.format(ARTIFACT_STORE)\n",
    "!gsutil cp ../datasets/gasData.csv $DATASET_PATH"
   ]
  },
  {
   "cell_type": "markdown",
   "metadata": {},
   "source": [
    "## Load and analyze data\n",
    "### Load data from GCS"
   ]
  },
  {
   "cell_type": "code",
   "execution_count": 4,
   "metadata": {},
   "outputs": [
    {
     "data": {
      "text/plain": [
       "(60, 402)"
      ]
     },
     "execution_count": 4,
     "metadata": {},
     "output_type": "execute_result"
    }
   ],
   "source": [
    "df = pd.read_csv(DATASET_PATH, index_col=0)\n",
    "df.shape"
   ]
  },
  {
   "cell_type": "markdown",
   "metadata": {},
   "source": [
    "### Split into development and testing datasets"
   ]
  },
  {
   "cell_type": "code",
   "execution_count": 5,
   "metadata": {},
   "outputs": [
    {
     "name": "stdout",
     "output_type": "stream",
     "text": [
      "(54, 402)\n",
      "(6, 402)\n"
     ]
    }
   ],
   "source": [
    "TRAINING_DATASET_PATH = '{}/datasets/training.csv'.format(ARTIFACT_STORE)\n",
    "TESTING_DATASET_PATH = '{}/datasets/testing.csv'.format(ARTIFACT_STORE)\n",
    "\n",
    "df_train, df_test = train_test_split(df, test_size=0.1)\n",
    "\n",
    "print(df_train.shape)\n",
    "print(df_test.shape)\n",
    "\n",
    "df_train.to_csv(TRAINING_DATASET_PATH, index=False)\n",
    "df_test.to_csv(TESTING_DATASET_PATH, index=False)"
   ]
  },
  {
   "cell_type": "code",
   "execution_count": 7,
   "metadata": {},
   "outputs": [
    {
     "name": "stdout",
     "output_type": "stream",
     "text": [
      "gs://mlops-dev-100-artifact-store/datasets/gasdataset.csv\n",
      "gs://mlops-dev-100-artifact-store/datasets/testing.csv\n",
      "gs://mlops-dev-100-artifact-store/datasets/training.csv\n"
     ]
    }
   ],
   "source": [
    "!gsutil ls $ARTIFACT_STORE/datasets"
   ]
  },
  {
   "cell_type": "markdown",
   "metadata": {},
   "source": [
    "### Analyze training dataset"
   ]
  },
  {
   "cell_type": "code",
   "execution_count": 8,
   "metadata": {},
   "outputs": [
    {
     "data": {
      "text/html": [
       "<div>\n",
       "<style scoped>\n",
       "    .dataframe tbody tr th:only-of-type {\n",
       "        vertical-align: middle;\n",
       "    }\n",
       "\n",
       "    .dataframe tbody tr th {\n",
       "        vertical-align: top;\n",
       "    }\n",
       "\n",
       "    .dataframe thead th {\n",
       "        text-align: right;\n",
       "    }\n",
       "</style>\n",
       "<table border=\"1\" class=\"dataframe\">\n",
       "  <thead>\n",
       "    <tr style=\"text-align: right;\">\n",
       "      <th></th>\n",
       "      <th>octane</th>\n",
       "      <th>NIR.900 nm</th>\n",
       "      <th>NIR.902 nm</th>\n",
       "      <th>NIR.904 nm</th>\n",
       "      <th>NIR.906 nm</th>\n",
       "      <th>NIR.908 nm</th>\n",
       "      <th>NIR.910 nm</th>\n",
       "      <th>NIR.912 nm</th>\n",
       "      <th>NIR.914 nm</th>\n",
       "      <th>NIR.916 nm</th>\n",
       "      <th>...</th>\n",
       "      <th>NIR.1682 nm</th>\n",
       "      <th>NIR.1684 nm</th>\n",
       "      <th>NIR.1686 nm</th>\n",
       "      <th>NIR.1688 nm</th>\n",
       "      <th>NIR.1690 nm</th>\n",
       "      <th>NIR.1692 nm</th>\n",
       "      <th>NIR.1694 nm</th>\n",
       "      <th>NIR.1696 nm</th>\n",
       "      <th>NIR.1698 nm</th>\n",
       "      <th>NIR.1700 nm</th>\n",
       "    </tr>\n",
       "  </thead>\n",
       "  <tbody>\n",
       "    <tr>\n",
       "      <th>14</th>\n",
       "      <td>88.00</td>\n",
       "      <td>-0.046594</td>\n",
       "      <td>-0.041111</td>\n",
       "      <td>-0.036881</td>\n",
       "      <td>-0.031122</td>\n",
       "      <td>-0.026667</td>\n",
       "      <td>-0.023717</td>\n",
       "      <td>-0.021758</td>\n",
       "      <td>-0.024917</td>\n",
       "      <td>-0.029152</td>\n",
       "      <td>...</td>\n",
       "      <td>1.150171</td>\n",
       "      <td>1.162515</td>\n",
       "      <td>1.196462</td>\n",
       "      <td>1.221030</td>\n",
       "      <td>1.245689</td>\n",
       "      <td>1.255820</td>\n",
       "      <td>1.195502</td>\n",
       "      <td>1.201374</td>\n",
       "      <td>1.217044</td>\n",
       "      <td>1.190482</td>\n",
       "    </tr>\n",
       "    <tr>\n",
       "      <th>31</th>\n",
       "      <td>86.30</td>\n",
       "      <td>-0.055856</td>\n",
       "      <td>-0.050983</td>\n",
       "      <td>-0.047003</td>\n",
       "      <td>-0.042624</td>\n",
       "      <td>-0.038003</td>\n",
       "      <td>-0.035975</td>\n",
       "      <td>-0.034708</td>\n",
       "      <td>-0.036853</td>\n",
       "      <td>-0.039795</td>\n",
       "      <td>...</td>\n",
       "      <td>1.222627</td>\n",
       "      <td>1.222856</td>\n",
       "      <td>1.242992</td>\n",
       "      <td>1.264961</td>\n",
       "      <td>1.278480</td>\n",
       "      <td>1.291149</td>\n",
       "      <td>1.223628</td>\n",
       "      <td>1.232818</td>\n",
       "      <td>1.223925</td>\n",
       "      <td>1.203394</td>\n",
       "    </tr>\n",
       "    <tr>\n",
       "      <th>59</th>\n",
       "      <td>89.60</td>\n",
       "      <td>-0.056311</td>\n",
       "      <td>-0.051231</td>\n",
       "      <td>-0.047483</td>\n",
       "      <td>-0.044605</td>\n",
       "      <td>-0.039404</td>\n",
       "      <td>-0.037526</td>\n",
       "      <td>-0.034336</td>\n",
       "      <td>-0.037852</td>\n",
       "      <td>-0.041023</td>\n",
       "      <td>...</td>\n",
       "      <td>1.247442</td>\n",
       "      <td>1.237687</td>\n",
       "      <td>1.246042</td>\n",
       "      <td>1.253986</td>\n",
       "      <td>1.211382</td>\n",
       "      <td>1.203032</td>\n",
       "      <td>1.209177</td>\n",
       "      <td>1.183871</td>\n",
       "      <td>1.175997</td>\n",
       "      <td>1.154696</td>\n",
       "    </tr>\n",
       "    <tr>\n",
       "      <th>10</th>\n",
       "      <td>88.45</td>\n",
       "      <td>-0.051054</td>\n",
       "      <td>-0.045678</td>\n",
       "      <td>-0.041673</td>\n",
       "      <td>-0.036761</td>\n",
       "      <td>-0.033078</td>\n",
       "      <td>-0.030466</td>\n",
       "      <td>-0.029295</td>\n",
       "      <td>-0.031736</td>\n",
       "      <td>-0.034843</td>\n",
       "      <td>...</td>\n",
       "      <td>1.227318</td>\n",
       "      <td>1.224755</td>\n",
       "      <td>1.238409</td>\n",
       "      <td>1.262493</td>\n",
       "      <td>1.272277</td>\n",
       "      <td>1.289548</td>\n",
       "      <td>1.213103</td>\n",
       "      <td>1.212666</td>\n",
       "      <td>1.216313</td>\n",
       "      <td>1.192221</td>\n",
       "    </tr>\n",
       "    <tr>\n",
       "      <th>60</th>\n",
       "      <td>87.10</td>\n",
       "      <td>-0.058805</td>\n",
       "      <td>-0.053311</td>\n",
       "      <td>-0.049543</td>\n",
       "      <td>-0.045053</td>\n",
       "      <td>-0.040598</td>\n",
       "      <td>-0.038965</td>\n",
       "      <td>-0.036749</td>\n",
       "      <td>-0.040284</td>\n",
       "      <td>-0.042080</td>\n",
       "      <td>...</td>\n",
       "      <td>1.211312</td>\n",
       "      <td>1.228345</td>\n",
       "      <td>1.237367</td>\n",
       "      <td>1.203006</td>\n",
       "      <td>1.200348</td>\n",
       "      <td>1.209557</td>\n",
       "      <td>1.182911</td>\n",
       "      <td>1.184077</td>\n",
       "      <td>1.154355</td>\n",
       "      <td>1.163959</td>\n",
       "    </tr>\n",
       "  </tbody>\n",
       "</table>\n",
       "<p>5 rows × 402 columns</p>\n",
       "</div>"
      ],
      "text/plain": [
       "    octane  NIR.900 nm  NIR.902 nm  NIR.904 nm  NIR.906 nm  NIR.908 nm  \\\n",
       "14   88.00   -0.046594   -0.041111   -0.036881   -0.031122   -0.026667   \n",
       "31   86.30   -0.055856   -0.050983   -0.047003   -0.042624   -0.038003   \n",
       "59   89.60   -0.056311   -0.051231   -0.047483   -0.044605   -0.039404   \n",
       "10   88.45   -0.051054   -0.045678   -0.041673   -0.036761   -0.033078   \n",
       "60   87.10   -0.058805   -0.053311   -0.049543   -0.045053   -0.040598   \n",
       "\n",
       "    NIR.910 nm  NIR.912 nm  NIR.914 nm  NIR.916 nm  ...  NIR.1682 nm  \\\n",
       "14   -0.023717   -0.021758   -0.024917   -0.029152  ...     1.150171   \n",
       "31   -0.035975   -0.034708   -0.036853   -0.039795  ...     1.222627   \n",
       "59   -0.037526   -0.034336   -0.037852   -0.041023  ...     1.247442   \n",
       "10   -0.030466   -0.029295   -0.031736   -0.034843  ...     1.227318   \n",
       "60   -0.038965   -0.036749   -0.040284   -0.042080  ...     1.211312   \n",
       "\n",
       "    NIR.1684 nm  NIR.1686 nm  NIR.1688 nm  NIR.1690 nm  NIR.1692 nm  \\\n",
       "14     1.162515     1.196462     1.221030     1.245689     1.255820   \n",
       "31     1.222856     1.242992     1.264961     1.278480     1.291149   \n",
       "59     1.237687     1.246042     1.253986     1.211382     1.203032   \n",
       "10     1.224755     1.238409     1.262493     1.272277     1.289548   \n",
       "60     1.228345     1.237367     1.203006     1.200348     1.209557   \n",
       "\n",
       "    NIR.1694 nm  NIR.1696 nm  NIR.1698 nm  NIR.1700 nm  \n",
       "14     1.195502     1.201374     1.217044     1.190482  \n",
       "31     1.223628     1.232818     1.223925     1.203394  \n",
       "59     1.209177     1.183871     1.175997     1.154696  \n",
       "10     1.213103     1.212666     1.216313     1.192221  \n",
       "60     1.182911     1.184077     1.154355     1.163959  \n",
       "\n",
       "[5 rows x 402 columns]"
      ]
     },
     "execution_count": 8,
     "metadata": {},
     "output_type": "execute_result"
    }
   ],
   "source": [
    "df_train.head()"
   ]
  },
  {
   "cell_type": "code",
   "execution_count": 9,
   "metadata": {},
   "outputs": [
    {
     "data": {
      "text/html": [
       "<div>\n",
       "<style scoped>\n",
       "    .dataframe tbody tr th:only-of-type {\n",
       "        vertical-align: middle;\n",
       "    }\n",
       "\n",
       "    .dataframe tbody tr th {\n",
       "        vertical-align: top;\n",
       "    }\n",
       "\n",
       "    .dataframe thead th {\n",
       "        text-align: right;\n",
       "    }\n",
       "</style>\n",
       "<table border=\"1\" class=\"dataframe\">\n",
       "  <thead>\n",
       "    <tr style=\"text-align: right;\">\n",
       "      <th></th>\n",
       "      <th>octane</th>\n",
       "      <th>NIR.900 nm</th>\n",
       "      <th>NIR.902 nm</th>\n",
       "      <th>NIR.904 nm</th>\n",
       "      <th>NIR.906 nm</th>\n",
       "      <th>NIR.908 nm</th>\n",
       "      <th>NIR.910 nm</th>\n",
       "      <th>NIR.912 nm</th>\n",
       "      <th>NIR.914 nm</th>\n",
       "      <th>NIR.916 nm</th>\n",
       "      <th>...</th>\n",
       "      <th>NIR.1682 nm</th>\n",
       "      <th>NIR.1684 nm</th>\n",
       "      <th>NIR.1686 nm</th>\n",
       "      <th>NIR.1688 nm</th>\n",
       "      <th>NIR.1690 nm</th>\n",
       "      <th>NIR.1692 nm</th>\n",
       "      <th>NIR.1694 nm</th>\n",
       "      <th>NIR.1696 nm</th>\n",
       "      <th>NIR.1698 nm</th>\n",
       "      <th>NIR.1700 nm</th>\n",
       "    </tr>\n",
       "  </thead>\n",
       "  <tbody>\n",
       "    <tr>\n",
       "      <th>count</th>\n",
       "      <td>54.000000</td>\n",
       "      <td>54.000000</td>\n",
       "      <td>54.000000</td>\n",
       "      <td>54.000000</td>\n",
       "      <td>54.000000</td>\n",
       "      <td>54.000000</td>\n",
       "      <td>54.000000</td>\n",
       "      <td>54.000000</td>\n",
       "      <td>54.000000</td>\n",
       "      <td>54.000000</td>\n",
       "      <td>...</td>\n",
       "      <td>54.000000</td>\n",
       "      <td>54.000000</td>\n",
       "      <td>54.000000</td>\n",
       "      <td>54.000000</td>\n",
       "      <td>54.000000</td>\n",
       "      <td>54.000000</td>\n",
       "      <td>54.000000</td>\n",
       "      <td>54.000000</td>\n",
       "      <td>54.000000</td>\n",
       "      <td>54.000000</td>\n",
       "    </tr>\n",
       "    <tr>\n",
       "      <th>mean</th>\n",
       "      <td>87.238889</td>\n",
       "      <td>-0.053102</td>\n",
       "      <td>-0.047686</td>\n",
       "      <td>-0.043826</td>\n",
       "      <td>-0.039399</td>\n",
       "      <td>-0.034949</td>\n",
       "      <td>-0.032604</td>\n",
       "      <td>-0.031070</td>\n",
       "      <td>-0.033783</td>\n",
       "      <td>-0.036977</td>\n",
       "      <td>...</td>\n",
       "      <td>1.206772</td>\n",
       "      <td>1.217167</td>\n",
       "      <td>1.237683</td>\n",
       "      <td>1.252914</td>\n",
       "      <td>1.263827</td>\n",
       "      <td>1.265380</td>\n",
       "      <td>1.232164</td>\n",
       "      <td>1.225396</td>\n",
       "      <td>1.219217</td>\n",
       "      <td>1.201143</td>\n",
       "    </tr>\n",
       "    <tr>\n",
       "      <th>std</th>\n",
       "      <td>1.499266</td>\n",
       "      <td>0.004241</td>\n",
       "      <td>0.004155</td>\n",
       "      <td>0.004234</td>\n",
       "      <td>0.004432</td>\n",
       "      <td>0.004417</td>\n",
       "      <td>0.004613</td>\n",
       "      <td>0.004611</td>\n",
       "      <td>0.004659</td>\n",
       "      <td>0.004314</td>\n",
       "      <td>...</td>\n",
       "      <td>0.029810</td>\n",
       "      <td>0.025949</td>\n",
       "      <td>0.024796</td>\n",
       "      <td>0.026598</td>\n",
       "      <td>0.034962</td>\n",
       "      <td>0.037538</td>\n",
       "      <td>0.035967</td>\n",
       "      <td>0.028140</td>\n",
       "      <td>0.026965</td>\n",
       "      <td>0.028435</td>\n",
       "    </tr>\n",
       "    <tr>\n",
       "      <th>min</th>\n",
       "      <td>84.400000</td>\n",
       "      <td>-0.062839</td>\n",
       "      <td>-0.056232</td>\n",
       "      <td>-0.053075</td>\n",
       "      <td>-0.048156</td>\n",
       "      <td>-0.044493</td>\n",
       "      <td>-0.041965</td>\n",
       "      <td>-0.040467</td>\n",
       "      <td>-0.043202</td>\n",
       "      <td>-0.046477</td>\n",
       "      <td>...</td>\n",
       "      <td>1.107501</td>\n",
       "      <td>1.147547</td>\n",
       "      <td>1.162770</td>\n",
       "      <td>1.170451</td>\n",
       "      <td>1.159782</td>\n",
       "      <td>1.168570</td>\n",
       "      <td>1.148061</td>\n",
       "      <td>1.162526</td>\n",
       "      <td>1.117087</td>\n",
       "      <td>1.095777</td>\n",
       "    </tr>\n",
       "    <tr>\n",
       "      <th>25%</th>\n",
       "      <td>86.025000</td>\n",
       "      <td>-0.055829</td>\n",
       "      <td>-0.050705</td>\n",
       "      <td>-0.046628</td>\n",
       "      <td>-0.042132</td>\n",
       "      <td>-0.037475</td>\n",
       "      <td>-0.035374</td>\n",
       "      <td>-0.034039</td>\n",
       "      <td>-0.036722</td>\n",
       "      <td>-0.039441</td>\n",
       "      <td>...</td>\n",
       "      <td>1.192563</td>\n",
       "      <td>1.202948</td>\n",
       "      <td>1.228753</td>\n",
       "      <td>1.244997</td>\n",
       "      <td>1.260260</td>\n",
       "      <td>1.249607</td>\n",
       "      <td>1.213278</td>\n",
       "      <td>1.215338</td>\n",
       "      <td>1.213137</td>\n",
       "      <td>1.191154</td>\n",
       "    </tr>\n",
       "    <tr>\n",
       "      <th>50%</th>\n",
       "      <td>87.950000</td>\n",
       "      <td>-0.053773</td>\n",
       "      <td>-0.048116</td>\n",
       "      <td>-0.044314</td>\n",
       "      <td>-0.040453</td>\n",
       "      <td>-0.035685</td>\n",
       "      <td>-0.033854</td>\n",
       "      <td>-0.031683</td>\n",
       "      <td>-0.034971</td>\n",
       "      <td>-0.037620</td>\n",
       "      <td>...</td>\n",
       "      <td>1.210629</td>\n",
       "      <td>1.222615</td>\n",
       "      <td>1.240984</td>\n",
       "      <td>1.255770</td>\n",
       "      <td>1.273834</td>\n",
       "      <td>1.278435</td>\n",
       "      <td>1.223389</td>\n",
       "      <td>1.228796</td>\n",
       "      <td>1.223857</td>\n",
       "      <td>1.200454</td>\n",
       "    </tr>\n",
       "    <tr>\n",
       "      <th>75%</th>\n",
       "      <td>88.450000</td>\n",
       "      <td>-0.050162</td>\n",
       "      <td>-0.044652</td>\n",
       "      <td>-0.040868</td>\n",
       "      <td>-0.036592</td>\n",
       "      <td>-0.032365</td>\n",
       "      <td>-0.030184</td>\n",
       "      <td>-0.028639</td>\n",
       "      <td>-0.031341</td>\n",
       "      <td>-0.034380</td>\n",
       "      <td>...</td>\n",
       "      <td>1.223737</td>\n",
       "      <td>1.234668</td>\n",
       "      <td>1.250007</td>\n",
       "      <td>1.268638</td>\n",
       "      <td>1.285190</td>\n",
       "      <td>1.292524</td>\n",
       "      <td>1.242693</td>\n",
       "      <td>1.237108</td>\n",
       "      <td>1.236140</td>\n",
       "      <td>1.219367</td>\n",
       "    </tr>\n",
       "    <tr>\n",
       "      <th>max</th>\n",
       "      <td>89.600000</td>\n",
       "      <td>-0.042470</td>\n",
       "      <td>-0.036621</td>\n",
       "      <td>-0.032430</td>\n",
       "      <td>-0.026807</td>\n",
       "      <td>-0.021276</td>\n",
       "      <td>-0.018356</td>\n",
       "      <td>-0.016116</td>\n",
       "      <td>-0.019680</td>\n",
       "      <td>-0.024589</td>\n",
       "      <td>...</td>\n",
       "      <td>1.276561</td>\n",
       "      <td>1.268445</td>\n",
       "      <td>1.293267</td>\n",
       "      <td>1.300765</td>\n",
       "      <td>1.316014</td>\n",
       "      <td>1.307505</td>\n",
       "      <td>1.312363</td>\n",
       "      <td>1.301496</td>\n",
       "      <td>1.264217</td>\n",
       "      <td>1.253576</td>\n",
       "    </tr>\n",
       "  </tbody>\n",
       "</table>\n",
       "<p>8 rows × 402 columns</p>\n",
       "</div>"
      ],
      "text/plain": [
       "          octane  NIR.900 nm  NIR.902 nm  NIR.904 nm  NIR.906 nm  NIR.908 nm  \\\n",
       "count  54.000000   54.000000   54.000000   54.000000   54.000000   54.000000   \n",
       "mean   87.238889   -0.053102   -0.047686   -0.043826   -0.039399   -0.034949   \n",
       "std     1.499266    0.004241    0.004155    0.004234    0.004432    0.004417   \n",
       "min    84.400000   -0.062839   -0.056232   -0.053075   -0.048156   -0.044493   \n",
       "25%    86.025000   -0.055829   -0.050705   -0.046628   -0.042132   -0.037475   \n",
       "50%    87.950000   -0.053773   -0.048116   -0.044314   -0.040453   -0.035685   \n",
       "75%    88.450000   -0.050162   -0.044652   -0.040868   -0.036592   -0.032365   \n",
       "max    89.600000   -0.042470   -0.036621   -0.032430   -0.026807   -0.021276   \n",
       "\n",
       "       NIR.910 nm  NIR.912 nm  NIR.914 nm  NIR.916 nm  ...  NIR.1682 nm  \\\n",
       "count   54.000000   54.000000   54.000000   54.000000  ...    54.000000   \n",
       "mean    -0.032604   -0.031070   -0.033783   -0.036977  ...     1.206772   \n",
       "std      0.004613    0.004611    0.004659    0.004314  ...     0.029810   \n",
       "min     -0.041965   -0.040467   -0.043202   -0.046477  ...     1.107501   \n",
       "25%     -0.035374   -0.034039   -0.036722   -0.039441  ...     1.192563   \n",
       "50%     -0.033854   -0.031683   -0.034971   -0.037620  ...     1.210629   \n",
       "75%     -0.030184   -0.028639   -0.031341   -0.034380  ...     1.223737   \n",
       "max     -0.018356   -0.016116   -0.019680   -0.024589  ...     1.276561   \n",
       "\n",
       "       NIR.1684 nm  NIR.1686 nm  NIR.1688 nm  NIR.1690 nm  NIR.1692 nm  \\\n",
       "count    54.000000    54.000000    54.000000    54.000000    54.000000   \n",
       "mean      1.217167     1.237683     1.252914     1.263827     1.265380   \n",
       "std       0.025949     0.024796     0.026598     0.034962     0.037538   \n",
       "min       1.147547     1.162770     1.170451     1.159782     1.168570   \n",
       "25%       1.202948     1.228753     1.244997     1.260260     1.249607   \n",
       "50%       1.222615     1.240984     1.255770     1.273834     1.278435   \n",
       "75%       1.234668     1.250007     1.268638     1.285190     1.292524   \n",
       "max       1.268445     1.293267     1.300765     1.316014     1.307505   \n",
       "\n",
       "       NIR.1694 nm  NIR.1696 nm  NIR.1698 nm  NIR.1700 nm  \n",
       "count    54.000000    54.000000    54.000000    54.000000  \n",
       "mean      1.232164     1.225396     1.219217     1.201143  \n",
       "std       0.035967     0.028140     0.026965     0.028435  \n",
       "min       1.148061     1.162526     1.117087     1.095777  \n",
       "25%       1.213278     1.215338     1.213137     1.191154  \n",
       "50%       1.223389     1.228796     1.223857     1.200454  \n",
       "75%       1.242693     1.237108     1.236140     1.219367  \n",
       "max       1.312363     1.301496     1.264217     1.253576  \n",
       "\n",
       "[8 rows x 402 columns]"
      ]
     },
     "execution_count": 9,
     "metadata": {},
     "output_type": "execute_result"
    }
   ],
   "source": [
    "df_train.describe()"
   ]
  },
  {
   "cell_type": "markdown",
   "metadata": {},
   "source": [
    "## Train in notebook\n",
    "### Tune hyperparameters"
   ]
  },
  {
   "cell_type": "code",
   "execution_count": 10,
   "metadata": {},
   "outputs": [
    {
     "name": "stdout",
     "output_type": "stream",
     "text": [
      "Best estimator:\n",
      "{'reduce_dim__n_components': 8, 'regress__alpha': 0.3}\n",
      "Best score\n",
      "-0.04534674942356423\n"
     ]
    },
    {
     "name": "stderr",
     "output_type": "stream",
     "text": [
      "/opt/conda/lib/python3.7/site-packages/sklearn/model_selection/_search.py:823: FutureWarning: The parameter 'iid' is deprecated in 0.22 and will be removed in 0.24.\n",
      "  \"removed in 0.24.\", FutureWarning\n"
     ]
    }
   ],
   "source": [
    "# Set up grid search\n",
    "n_features_options = [2, 3, 4, 6, 8]\n",
    "l2_reg_options = [0.05, 0.1, 0.2, 0.3]\n",
    "\n",
    "pipeline = Pipeline([\n",
    "  ('scale', StandardScaler()),\n",
    "  ('reduce_dim', PCA()),\n",
    "  ('regress', Ridge())\n",
    "])\n",
    "\n",
    "param_grid = [\n",
    "  {\n",
    "    'reduce_dim__n_components': n_features_options,\n",
    "    'regress__alpha': l2_reg_options\n",
    "  }\n",
    "]\n",
    "\n",
    "grid = GridSearchCV(pipeline, cv=10, n_jobs=None, param_grid=param_grid, scoring='neg_mean_squared_error', iid=False)\n",
    "\n",
    "y = df_train.octane\n",
    "X = df_train.drop('octane', axis=1)\n",
    "  \n",
    "grid.fit(X, y)\n",
    "\n",
    "print(\"Best estimator:\")\n",
    "print(grid.best_params_)\n",
    "print(\"Best score\")\n",
    "print(grid.best_score_)"
   ]
  },
  {
   "cell_type": "markdown",
   "metadata": {},
   "source": [
    "### Retrain the best estimator on the full dataset"
   ]
  },
  {
   "cell_type": "code",
   "execution_count": 11,
   "metadata": {},
   "outputs": [],
   "source": [
    "best_estimator = grid.best_estimator_\n",
    "trained_pipeline = best_estimator.fit(X, y)"
   ]
  },
  {
   "cell_type": "markdown",
   "metadata": {},
   "source": [
    "### Save the model"
   ]
  },
  {
   "cell_type": "code",
   "execution_count": 12,
   "metadata": {},
   "outputs": [
    {
     "name": "stdout",
     "output_type": "stream",
     "text": [
      "Copying file:///tmp/model.joblib [Content-Type=application/octet-stream]...\n",
      "/ [1 files][ 39.4 KiB/ 39.4 KiB]                                                \n",
      "Operation completed over 1 objects/39.4 KiB.                                     \n"
     ]
    }
   ],
   "source": [
    "LOCAL_PATH = '/tmp/model.joblib'\n",
    "GCS_PATH = \"{}/models/trained-in-notebook/model.joblib\".format(ARTIFACT_STORE)\n",
    "\n",
    "joblib.dump(value=trained_pipeline, filename=LOCAL_PATH)\n",
    "\n",
    "!gsutil cp $LOCAL_PATH $GCS_PATH"
   ]
  },
  {
   "cell_type": "markdown",
   "metadata": {},
   "source": [
    "## Test the model"
   ]
  },
  {
   "cell_type": "code",
   "execution_count": 13,
   "metadata": {},
   "outputs": [
    {
     "name": "stdout",
     "output_type": "stream",
     "text": [
      "Copying gs://mlops-dev-100-artifact-store/models/trained-in-notebook/model.joblib...\n",
      "/ [1 files][ 39.4 KiB/ 39.4 KiB]                                                \n",
      "Operation completed over 1 objects/39.4 KiB.                                     \n"
     ]
    }
   ],
   "source": [
    "!gsutil cp $GCS_PATH $LOCAL_PATH \n",
    "predictor = joblib.load(LOCAL_PATH)\n",
    "\n",
    "y = df_test.octane\n",
    "X = df_test.drop('octane', axis=1)\n",
    "y_hat = predictor.predict(X)"
   ]
  },
  {
   "cell_type": "code",
   "execution_count": 14,
   "metadata": {},
   "outputs": [
    {
     "name": "stdout",
     "output_type": "stream",
     "text": [
      "[(88.0, 88.37674245678724), (87.6, 87.38357615678136), (85.5, 85.45234534058822), (87.15, 87.34400559141466), (83.4, 83.52687214841733), (88.1, 87.98632716506933)]\n"
     ]
    }
   ],
   "source": [
    "print(list(zip(y, y_hat)))"
   ]
  },
  {
   "cell_type": "code",
   "execution_count": 15,
   "metadata": {},
   "outputs": [
    {
     "data": {
      "text/plain": [
       "0.04295022502810215"
      ]
     },
     "execution_count": 15,
     "metadata": {},
     "output_type": "execute_result"
    }
   ],
   "source": [
    "mean_squared_error(y, y_hat)"
   ]
  },
  {
   "cell_type": "code",
   "execution_count": null,
   "metadata": {},
   "outputs": [],
   "source": []
  }
 ],
 "metadata": {
  "kernelspec": {
   "display_name": "Python 3",
   "language": "python",
   "name": "python3"
  },
  "language_info": {
   "codemirror_mode": {
    "name": "ipython",
    "version": 3
   },
   "file_extension": ".py",
   "mimetype": "text/x-python",
   "name": "python",
   "nbconvert_exporter": "python",
   "pygments_lexer": "ipython3",
   "version": "3.7.6"
  }
 },
 "nbformat": 4,
 "nbformat_minor": 4
}
