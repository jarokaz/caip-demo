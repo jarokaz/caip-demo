{
 "cells": [
  {
   "cell_type": "markdown",
   "metadata": {},
   "source": [
    "# Experimenting in AI Platform Notebook"
   ]
  },
  {
   "cell_type": "code",
   "execution_count": null,
   "metadata": {},
   "outputs": [],
   "source": [
    "# %pip install scikit-learn==0.20.2 --upgrade\n",
    "# %pip install pandas==0.24.0 --upgrade"
   ]
  },
  {
   "cell_type": "code",
   "execution_count": 1,
   "metadata": {},
   "outputs": [],
   "source": [
    "import numpy as np\n",
    "import pandas as pd\n",
    "import joblib\n",
    "\n",
    "from sklearn.externals import joblib\n",
    "from sklearn.cross_decomposition import PLSRegression\n",
    "from sklearn.decomposition import PCA\n",
    "from sklearn.feature_selection import SelectKBest, chi2\n",
    "from sklearn.linear_model import Ridge\n",
    "from sklearn.manifold import TSNE \n",
    "from sklearn.metrics import mean_squared_error\n",
    "from sklearn.model_selection import GridSearchCV\n",
    "from sklearn.model_selection import train_test_split\n",
    "from sklearn.pipeline import Pipeline\n",
    "from sklearn.preprocessing import StandardScaler"
   ]
  },
  {
   "cell_type": "code",
   "execution_count": 11,
   "metadata": {},
   "outputs": [],
   "source": [
    "DATASET_PATH = \"gs://jk-demo-datasets/gasdata/gasdata.csv\"\n",
    "ARTIFACT_BUCKET = \"gs://jk-demo-artifacts\""
   ]
  },
  {
   "cell_type": "markdown",
   "metadata": {},
   "source": [
    "## Load and analyze data\n",
    "### Load data from GCS"
   ]
  },
  {
   "cell_type": "code",
   "execution_count": 2,
   "metadata": {},
   "outputs": [
    {
     "data": {
      "text/plain": [
       "(60, 402)"
      ]
     },
     "execution_count": 2,
     "metadata": {},
     "output_type": "execute_result"
    }
   ],
   "source": [
    "df = pd.read_csv(DATASET_PATH, index_col=0)\n",
    "df.shape"
   ]
  },
  {
   "cell_type": "markdown",
   "metadata": {},
   "source": [
    "### Split into development and testing datasets"
   ]
  },
  {
   "cell_type": "code",
   "execution_count": 3,
   "metadata": {},
   "outputs": [
    {
     "name": "stdout",
     "output_type": "stream",
     "text": [
      "(54, 402)\n",
      "(6, 402)\n"
     ]
    }
   ],
   "source": [
    "TRAINING_DATASET_PATH = \"gs://jk-demo-datasets/gasdata/training.csv\"\n",
    "TESTING_DATASET_PATH = \"gs://jk-demo-datasets/gasdata/testing.csv\"\n",
    "\n",
    "df_train, df_test = train_test_split(df, test_size=0.1)\n",
    "\n",
    "print(df_train.shape)\n",
    "print(df_test.shape)\n",
    "\n",
    "df_train.to_csv(TRAINING_DATASET_PATH, index=False)\n",
    "df_test.to_csv(TESTING_DATASET_PATH, index=False)"
   ]
  },
  {
   "cell_type": "code",
   "execution_count": 4,
   "metadata": {},
   "outputs": [
    {
     "name": "stdout",
     "output_type": "stream",
     "text": [
      "gs://jk-demo-datasets/gasdata/gasdata.csv\n",
      "gs://jk-demo-datasets/gasdata/testing.csv\n",
      "gs://jk-demo-datasets/gasdata/training.csv\n"
     ]
    }
   ],
   "source": [
    "!gsutil ls gs://jk-demo-datasets/gasdata"
   ]
  },
  {
   "cell_type": "markdown",
   "metadata": {},
   "source": [
    "### Analyze training dataset"
   ]
  },
  {
   "cell_type": "code",
   "execution_count": 5,
   "metadata": {},
   "outputs": [
    {
     "data": {
      "text/html": [
       "<div>\n",
       "<style scoped>\n",
       "    .dataframe tbody tr th:only-of-type {\n",
       "        vertical-align: middle;\n",
       "    }\n",
       "\n",
       "    .dataframe tbody tr th {\n",
       "        vertical-align: top;\n",
       "    }\n",
       "\n",
       "    .dataframe thead th {\n",
       "        text-align: right;\n",
       "    }\n",
       "</style>\n",
       "<table border=\"1\" class=\"dataframe\">\n",
       "  <thead>\n",
       "    <tr style=\"text-align: right;\">\n",
       "      <th></th>\n",
       "      <th>octane</th>\n",
       "      <th>NIR.900 nm</th>\n",
       "      <th>NIR.902 nm</th>\n",
       "      <th>NIR.904 nm</th>\n",
       "      <th>NIR.906 nm</th>\n",
       "      <th>NIR.908 nm</th>\n",
       "      <th>NIR.910 nm</th>\n",
       "      <th>NIR.912 nm</th>\n",
       "      <th>NIR.914 nm</th>\n",
       "      <th>NIR.916 nm</th>\n",
       "      <th>...</th>\n",
       "      <th>NIR.1682 nm</th>\n",
       "      <th>NIR.1684 nm</th>\n",
       "      <th>NIR.1686 nm</th>\n",
       "      <th>NIR.1688 nm</th>\n",
       "      <th>NIR.1690 nm</th>\n",
       "      <th>NIR.1692 nm</th>\n",
       "      <th>NIR.1694 nm</th>\n",
       "      <th>NIR.1696 nm</th>\n",
       "      <th>NIR.1698 nm</th>\n",
       "      <th>NIR.1700 nm</th>\n",
       "    </tr>\n",
       "  </thead>\n",
       "  <tbody>\n",
       "    <tr>\n",
       "      <th>36</th>\n",
       "      <td>88.1</td>\n",
       "      <td>-0.054786</td>\n",
       "      <td>-0.049772</td>\n",
       "      <td>-0.045728</td>\n",
       "      <td>-0.041781</td>\n",
       "      <td>-0.037103</td>\n",
       "      <td>-0.034873</td>\n",
       "      <td>-0.032462</td>\n",
       "      <td>-0.035916</td>\n",
       "      <td>-0.038543</td>\n",
       "      <td>...</td>\n",
       "      <td>1.208933</td>\n",
       "      <td>1.223582</td>\n",
       "      <td>1.253362</td>\n",
       "      <td>1.270257</td>\n",
       "      <td>1.286046</td>\n",
       "      <td>1.222422</td>\n",
       "      <td>1.236444</td>\n",
       "      <td>1.226974</td>\n",
       "      <td>1.207932</td>\n",
       "      <td>1.208693</td>\n",
       "    </tr>\n",
       "    <tr>\n",
       "      <th>58</th>\n",
       "      <td>86.6</td>\n",
       "      <td>-0.053693</td>\n",
       "      <td>-0.048020</td>\n",
       "      <td>-0.044677</td>\n",
       "      <td>-0.041021</td>\n",
       "      <td>-0.036254</td>\n",
       "      <td>-0.034531</td>\n",
       "      <td>-0.032428</td>\n",
       "      <td>-0.035264</td>\n",
       "      <td>-0.038362</td>\n",
       "      <td>...</td>\n",
       "      <td>1.217198</td>\n",
       "      <td>1.222375</td>\n",
       "      <td>1.238392</td>\n",
       "      <td>1.252411</td>\n",
       "      <td>1.195963</td>\n",
       "      <td>1.210064</td>\n",
       "      <td>1.199746</td>\n",
       "      <td>1.173102</td>\n",
       "      <td>1.191871</td>\n",
       "      <td>1.150779</td>\n",
       "    </tr>\n",
       "    <tr>\n",
       "      <th>51</th>\n",
       "      <td>88.1</td>\n",
       "      <td>-0.052634</td>\n",
       "      <td>-0.046971</td>\n",
       "      <td>-0.043205</td>\n",
       "      <td>-0.039538</td>\n",
       "      <td>-0.034724</td>\n",
       "      <td>-0.032414</td>\n",
       "      <td>-0.029820</td>\n",
       "      <td>-0.033670</td>\n",
       "      <td>-0.036481</td>\n",
       "      <td>...</td>\n",
       "      <td>1.205736</td>\n",
       "      <td>1.222295</td>\n",
       "      <td>1.238942</td>\n",
       "      <td>1.245682</td>\n",
       "      <td>1.191846</td>\n",
       "      <td>1.198974</td>\n",
       "      <td>1.180956</td>\n",
       "      <td>1.176291</td>\n",
       "      <td>1.152654</td>\n",
       "      <td>1.170770</td>\n",
       "    </tr>\n",
       "    <tr>\n",
       "      <th>57</th>\n",
       "      <td>87.2</td>\n",
       "      <td>-0.055555</td>\n",
       "      <td>-0.049867</td>\n",
       "      <td>-0.045942</td>\n",
       "      <td>-0.042266</td>\n",
       "      <td>-0.037195</td>\n",
       "      <td>-0.034837</td>\n",
       "      <td>-0.031842</td>\n",
       "      <td>-0.036051</td>\n",
       "      <td>-0.038897</td>\n",
       "      <td>...</td>\n",
       "      <td>1.167444</td>\n",
       "      <td>1.193289</td>\n",
       "      <td>1.209944</td>\n",
       "      <td>1.175943</td>\n",
       "      <td>1.159782</td>\n",
       "      <td>1.184718</td>\n",
       "      <td>1.155629</td>\n",
       "      <td>1.175611</td>\n",
       "      <td>1.117087</td>\n",
       "      <td>1.095777</td>\n",
       "    </tr>\n",
       "    <tr>\n",
       "      <th>7</th>\n",
       "      <td>88.9</td>\n",
       "      <td>-0.049906</td>\n",
       "      <td>-0.044558</td>\n",
       "      <td>-0.040543</td>\n",
       "      <td>-0.035716</td>\n",
       "      <td>-0.031844</td>\n",
       "      <td>-0.029581</td>\n",
       "      <td>-0.027915</td>\n",
       "      <td>-0.030292</td>\n",
       "      <td>-0.033590</td>\n",
       "      <td>...</td>\n",
       "      <td>1.234174</td>\n",
       "      <td>1.226153</td>\n",
       "      <td>1.245143</td>\n",
       "      <td>1.265648</td>\n",
       "      <td>1.274731</td>\n",
       "      <td>1.292441</td>\n",
       "      <td>1.218317</td>\n",
       "      <td>1.218147</td>\n",
       "      <td>1.222273</td>\n",
       "      <td>1.200446</td>\n",
       "    </tr>\n",
       "  </tbody>\n",
       "</table>\n",
       "<p>5 rows × 402 columns</p>\n",
       "</div>"
      ],
      "text/plain": [
       "    octane  NIR.900 nm  NIR.902 nm  NIR.904 nm  NIR.906 nm  NIR.908 nm  \\\n",
       "36    88.1   -0.054786   -0.049772   -0.045728   -0.041781   -0.037103   \n",
       "58    86.6   -0.053693   -0.048020   -0.044677   -0.041021   -0.036254   \n",
       "51    88.1   -0.052634   -0.046971   -0.043205   -0.039538   -0.034724   \n",
       "57    87.2   -0.055555   -0.049867   -0.045942   -0.042266   -0.037195   \n",
       "7     88.9   -0.049906   -0.044558   -0.040543   -0.035716   -0.031844   \n",
       "\n",
       "    NIR.910 nm  NIR.912 nm  NIR.914 nm  NIR.916 nm  ...  NIR.1682 nm  \\\n",
       "36   -0.034873   -0.032462   -0.035916   -0.038543  ...     1.208933   \n",
       "58   -0.034531   -0.032428   -0.035264   -0.038362  ...     1.217198   \n",
       "51   -0.032414   -0.029820   -0.033670   -0.036481  ...     1.205736   \n",
       "57   -0.034837   -0.031842   -0.036051   -0.038897  ...     1.167444   \n",
       "7    -0.029581   -0.027915   -0.030292   -0.033590  ...     1.234174   \n",
       "\n",
       "    NIR.1684 nm  NIR.1686 nm  NIR.1688 nm  NIR.1690 nm  NIR.1692 nm  \\\n",
       "36     1.223582     1.253362     1.270257     1.286046     1.222422   \n",
       "58     1.222375     1.238392     1.252411     1.195963     1.210064   \n",
       "51     1.222295     1.238942     1.245682     1.191846     1.198974   \n",
       "57     1.193289     1.209944     1.175943     1.159782     1.184718   \n",
       "7      1.226153     1.245143     1.265648     1.274731     1.292441   \n",
       "\n",
       "    NIR.1694 nm  NIR.1696 nm  NIR.1698 nm  NIR.1700 nm  \n",
       "36     1.236444     1.226974     1.207932     1.208693  \n",
       "58     1.199746     1.173102     1.191871     1.150779  \n",
       "51     1.180956     1.176291     1.152654     1.170770  \n",
       "57     1.155629     1.175611     1.117087     1.095777  \n",
       "7      1.218317     1.218147     1.222273     1.200446  \n",
       "\n",
       "[5 rows x 402 columns]"
      ]
     },
     "execution_count": 5,
     "metadata": {},
     "output_type": "execute_result"
    }
   ],
   "source": [
    "df_train.head()"
   ]
  },
  {
   "cell_type": "code",
   "execution_count": 6,
   "metadata": {},
   "outputs": [
    {
     "data": {
      "text/html": [
       "<div>\n",
       "<style scoped>\n",
       "    .dataframe tbody tr th:only-of-type {\n",
       "        vertical-align: middle;\n",
       "    }\n",
       "\n",
       "    .dataframe tbody tr th {\n",
       "        vertical-align: top;\n",
       "    }\n",
       "\n",
       "    .dataframe thead th {\n",
       "        text-align: right;\n",
       "    }\n",
       "</style>\n",
       "<table border=\"1\" class=\"dataframe\">\n",
       "  <thead>\n",
       "    <tr style=\"text-align: right;\">\n",
       "      <th></th>\n",
       "      <th>octane</th>\n",
       "      <th>NIR.900 nm</th>\n",
       "      <th>NIR.902 nm</th>\n",
       "      <th>NIR.904 nm</th>\n",
       "      <th>NIR.906 nm</th>\n",
       "      <th>NIR.908 nm</th>\n",
       "      <th>NIR.910 nm</th>\n",
       "      <th>NIR.912 nm</th>\n",
       "      <th>NIR.914 nm</th>\n",
       "      <th>NIR.916 nm</th>\n",
       "      <th>...</th>\n",
       "      <th>NIR.1682 nm</th>\n",
       "      <th>NIR.1684 nm</th>\n",
       "      <th>NIR.1686 nm</th>\n",
       "      <th>NIR.1688 nm</th>\n",
       "      <th>NIR.1690 nm</th>\n",
       "      <th>NIR.1692 nm</th>\n",
       "      <th>NIR.1694 nm</th>\n",
       "      <th>NIR.1696 nm</th>\n",
       "      <th>NIR.1698 nm</th>\n",
       "      <th>NIR.1700 nm</th>\n",
       "    </tr>\n",
       "  </thead>\n",
       "  <tbody>\n",
       "    <tr>\n",
       "      <th>count</th>\n",
       "      <td>54.000000</td>\n",
       "      <td>54.000000</td>\n",
       "      <td>54.000000</td>\n",
       "      <td>54.000000</td>\n",
       "      <td>54.000000</td>\n",
       "      <td>54.000000</td>\n",
       "      <td>54.000000</td>\n",
       "      <td>54.000000</td>\n",
       "      <td>54.000000</td>\n",
       "      <td>54.000000</td>\n",
       "      <td>...</td>\n",
       "      <td>54.000000</td>\n",
       "      <td>54.000000</td>\n",
       "      <td>54.000000</td>\n",
       "      <td>54.000000</td>\n",
       "      <td>54.000000</td>\n",
       "      <td>54.000000</td>\n",
       "      <td>54.000000</td>\n",
       "      <td>54.000000</td>\n",
       "      <td>54.000000</td>\n",
       "      <td>54.000000</td>\n",
       "    </tr>\n",
       "    <tr>\n",
       "      <th>mean</th>\n",
       "      <td>87.124074</td>\n",
       "      <td>-0.052717</td>\n",
       "      <td>-0.047308</td>\n",
       "      <td>-0.043464</td>\n",
       "      <td>-0.039027</td>\n",
       "      <td>-0.034579</td>\n",
       "      <td>-0.032235</td>\n",
       "      <td>-0.030668</td>\n",
       "      <td>-0.033415</td>\n",
       "      <td>-0.036612</td>\n",
       "      <td>...</td>\n",
       "      <td>1.205172</td>\n",
       "      <td>1.217192</td>\n",
       "      <td>1.238358</td>\n",
       "      <td>1.253384</td>\n",
       "      <td>1.264370</td>\n",
       "      <td>1.264692</td>\n",
       "      <td>1.234279</td>\n",
       "      <td>1.227849</td>\n",
       "      <td>1.219784</td>\n",
       "      <td>1.203603</td>\n",
       "    </tr>\n",
       "    <tr>\n",
       "      <th>std</th>\n",
       "      <td>1.508865</td>\n",
       "      <td>0.004663</td>\n",
       "      <td>0.004512</td>\n",
       "      <td>0.004587</td>\n",
       "      <td>0.004750</td>\n",
       "      <td>0.004740</td>\n",
       "      <td>0.004909</td>\n",
       "      <td>0.004908</td>\n",
       "      <td>0.004977</td>\n",
       "      <td>0.004704</td>\n",
       "      <td>...</td>\n",
       "      <td>0.029277</td>\n",
       "      <td>0.026556</td>\n",
       "      <td>0.025843</td>\n",
       "      <td>0.026850</td>\n",
       "      <td>0.036066</td>\n",
       "      <td>0.038133</td>\n",
       "      <td>0.037975</td>\n",
       "      <td>0.031343</td>\n",
       "      <td>0.028282</td>\n",
       "      <td>0.028788</td>\n",
       "    </tr>\n",
       "    <tr>\n",
       "      <th>min</th>\n",
       "      <td>83.400000</td>\n",
       "      <td>-0.062839</td>\n",
       "      <td>-0.056232</td>\n",
       "      <td>-0.053075</td>\n",
       "      <td>-0.048156</td>\n",
       "      <td>-0.044493</td>\n",
       "      <td>-0.041965</td>\n",
       "      <td>-0.040467</td>\n",
       "      <td>-0.043202</td>\n",
       "      <td>-0.046477</td>\n",
       "      <td>...</td>\n",
       "      <td>1.107501</td>\n",
       "      <td>1.147547</td>\n",
       "      <td>1.162770</td>\n",
       "      <td>1.170451</td>\n",
       "      <td>1.159782</td>\n",
       "      <td>1.168570</td>\n",
       "      <td>1.148061</td>\n",
       "      <td>1.162526</td>\n",
       "      <td>1.117087</td>\n",
       "      <td>1.095777</td>\n",
       "    </tr>\n",
       "    <tr>\n",
       "      <th>25%</th>\n",
       "      <td>85.625000</td>\n",
       "      <td>-0.055698</td>\n",
       "      <td>-0.050310</td>\n",
       "      <td>-0.046238</td>\n",
       "      <td>-0.042039</td>\n",
       "      <td>-0.037348</td>\n",
       "      <td>-0.035283</td>\n",
       "      <td>-0.033805</td>\n",
       "      <td>-0.036464</td>\n",
       "      <td>-0.039395</td>\n",
       "      <td>...</td>\n",
       "      <td>1.192563</td>\n",
       "      <td>1.203936</td>\n",
       "      <td>1.228753</td>\n",
       "      <td>1.245707</td>\n",
       "      <td>1.260260</td>\n",
       "      <td>1.237560</td>\n",
       "      <td>1.215049</td>\n",
       "      <td>1.216696</td>\n",
       "      <td>1.213244</td>\n",
       "      <td>1.192724</td>\n",
       "    </tr>\n",
       "    <tr>\n",
       "      <th>50%</th>\n",
       "      <td>87.600000</td>\n",
       "      <td>-0.053544</td>\n",
       "      <td>-0.047905</td>\n",
       "      <td>-0.043758</td>\n",
       "      <td>-0.039809</td>\n",
       "      <td>-0.035329</td>\n",
       "      <td>-0.032747</td>\n",
       "      <td>-0.031370</td>\n",
       "      <td>-0.034473</td>\n",
       "      <td>-0.037221</td>\n",
       "      <td>...</td>\n",
       "      <td>1.210629</td>\n",
       "      <td>1.222615</td>\n",
       "      <td>1.241347</td>\n",
       "      <td>1.259448</td>\n",
       "      <td>1.275511</td>\n",
       "      <td>1.277902</td>\n",
       "      <td>1.225820</td>\n",
       "      <td>1.230322</td>\n",
       "      <td>1.225268</td>\n",
       "      <td>1.205405</td>\n",
       "    </tr>\n",
       "    <tr>\n",
       "      <th>75%</th>\n",
       "      <td>88.400000</td>\n",
       "      <td>-0.049965</td>\n",
       "      <td>-0.044182</td>\n",
       "      <td>-0.040564</td>\n",
       "      <td>-0.036211</td>\n",
       "      <td>-0.031922</td>\n",
       "      <td>-0.029570</td>\n",
       "      <td>-0.028125</td>\n",
       "      <td>-0.030366</td>\n",
       "      <td>-0.033747</td>\n",
       "      <td>...</td>\n",
       "      <td>1.223305</td>\n",
       "      <td>1.228021</td>\n",
       "      <td>1.250477</td>\n",
       "      <td>1.269753</td>\n",
       "      <td>1.286038</td>\n",
       "      <td>1.292524</td>\n",
       "      <td>1.244581</td>\n",
       "      <td>1.239971</td>\n",
       "      <td>1.236921</td>\n",
       "      <td>1.220707</td>\n",
       "    </tr>\n",
       "    <tr>\n",
       "      <th>max</th>\n",
       "      <td>88.900000</td>\n",
       "      <td>-0.041806</td>\n",
       "      <td>-0.036621</td>\n",
       "      <td>-0.032430</td>\n",
       "      <td>-0.026807</td>\n",
       "      <td>-0.021276</td>\n",
       "      <td>-0.018356</td>\n",
       "      <td>-0.016116</td>\n",
       "      <td>-0.019680</td>\n",
       "      <td>-0.024589</td>\n",
       "      <td>...</td>\n",
       "      <td>1.276561</td>\n",
       "      <td>1.268445</td>\n",
       "      <td>1.293267</td>\n",
       "      <td>1.300765</td>\n",
       "      <td>1.316014</td>\n",
       "      <td>1.313725</td>\n",
       "      <td>1.316089</td>\n",
       "      <td>1.324185</td>\n",
       "      <td>1.264217</td>\n",
       "      <td>1.254192</td>\n",
       "    </tr>\n",
       "  </tbody>\n",
       "</table>\n",
       "<p>8 rows × 402 columns</p>\n",
       "</div>"
      ],
      "text/plain": [
       "          octane  NIR.900 nm  NIR.902 nm  NIR.904 nm  NIR.906 nm  NIR.908 nm  \\\n",
       "count  54.000000   54.000000   54.000000   54.000000   54.000000   54.000000   \n",
       "mean   87.124074   -0.052717   -0.047308   -0.043464   -0.039027   -0.034579   \n",
       "std     1.508865    0.004663    0.004512    0.004587    0.004750    0.004740   \n",
       "min    83.400000   -0.062839   -0.056232   -0.053075   -0.048156   -0.044493   \n",
       "25%    85.625000   -0.055698   -0.050310   -0.046238   -0.042039   -0.037348   \n",
       "50%    87.600000   -0.053544   -0.047905   -0.043758   -0.039809   -0.035329   \n",
       "75%    88.400000   -0.049965   -0.044182   -0.040564   -0.036211   -0.031922   \n",
       "max    88.900000   -0.041806   -0.036621   -0.032430   -0.026807   -0.021276   \n",
       "\n",
       "       NIR.910 nm  NIR.912 nm  NIR.914 nm  NIR.916 nm  ...  NIR.1682 nm  \\\n",
       "count   54.000000   54.000000   54.000000   54.000000  ...    54.000000   \n",
       "mean    -0.032235   -0.030668   -0.033415   -0.036612  ...     1.205172   \n",
       "std      0.004909    0.004908    0.004977    0.004704  ...     0.029277   \n",
       "min     -0.041965   -0.040467   -0.043202   -0.046477  ...     1.107501   \n",
       "25%     -0.035283   -0.033805   -0.036464   -0.039395  ...     1.192563   \n",
       "50%     -0.032747   -0.031370   -0.034473   -0.037221  ...     1.210629   \n",
       "75%     -0.029570   -0.028125   -0.030366   -0.033747  ...     1.223305   \n",
       "max     -0.018356   -0.016116   -0.019680   -0.024589  ...     1.276561   \n",
       "\n",
       "       NIR.1684 nm  NIR.1686 nm  NIR.1688 nm  NIR.1690 nm  NIR.1692 nm  \\\n",
       "count    54.000000    54.000000    54.000000    54.000000    54.000000   \n",
       "mean      1.217192     1.238358     1.253384     1.264370     1.264692   \n",
       "std       0.026556     0.025843     0.026850     0.036066     0.038133   \n",
       "min       1.147547     1.162770     1.170451     1.159782     1.168570   \n",
       "25%       1.203936     1.228753     1.245707     1.260260     1.237560   \n",
       "50%       1.222615     1.241347     1.259448     1.275511     1.277902   \n",
       "75%       1.228021     1.250477     1.269753     1.286038     1.292524   \n",
       "max       1.268445     1.293267     1.300765     1.316014     1.313725   \n",
       "\n",
       "       NIR.1694 nm  NIR.1696 nm  NIR.1698 nm  NIR.1700 nm  \n",
       "count    54.000000    54.000000    54.000000    54.000000  \n",
       "mean      1.234279     1.227849     1.219784     1.203603  \n",
       "std       0.037975     0.031343     0.028282     0.028788  \n",
       "min       1.148061     1.162526     1.117087     1.095777  \n",
       "25%       1.215049     1.216696     1.213244     1.192724  \n",
       "50%       1.225820     1.230322     1.225268     1.205405  \n",
       "75%       1.244581     1.239971     1.236921     1.220707  \n",
       "max       1.316089     1.324185     1.264217     1.254192  \n",
       "\n",
       "[8 rows x 402 columns]"
      ]
     },
     "execution_count": 6,
     "metadata": {},
     "output_type": "execute_result"
    }
   ],
   "source": [
    "df_train.describe()"
   ]
  },
  {
   "cell_type": "markdown",
   "metadata": {},
   "source": [
    "## Train in notebook\n",
    "### Hyperparameter tuning"
   ]
  },
  {
   "cell_type": "code",
   "execution_count": 7,
   "metadata": {},
   "outputs": [
    {
     "name": "stdout",
     "output_type": "stream",
     "text": [
      "Best estimator:\n",
      "{'regress__alpha': 0.3, 'reduce_dim__n_components': 8}\n",
      "Best score\n",
      "-0.041975618313078035\n"
     ]
    }
   ],
   "source": [
    "# Set up grid search\n",
    "n_features_options = [2, 3, 4, 6, 8]\n",
    "l2_reg_options = [0.05, 0.1, 0.2, 0.3]\n",
    "\n",
    "pipeline = Pipeline([\n",
    "  ('scale', StandardScaler()),\n",
    "  ('reduce_dim', PCA()),\n",
    "  ('regress', Ridge())\n",
    "])\n",
    "\n",
    "param_grid = [\n",
    "  {\n",
    "    'reduce_dim__n_components': n_features_options,\n",
    "    'regress__alpha': l2_reg_options\n",
    "  }\n",
    "]\n",
    "\n",
    "grid = GridSearchCV(pipeline, cv=10, n_jobs=None, param_grid=param_grid, scoring='neg_mean_squared_error', iid=False)\n",
    "\n",
    "y = df_train.octane\n",
    "X = df_train.drop('octane', axis=1)\n",
    "  \n",
    "grid.fit(X, y)\n",
    "\n",
    "print(\"Best estimator:\")\n",
    "print(grid.best_params_)\n",
    "print(\"Best score\")\n",
    "print(grid.best_score_)"
   ]
  },
  {
   "cell_type": "markdown",
   "metadata": {},
   "source": [
    "### Retrain the best estimator on the full dataset"
   ]
  },
  {
   "cell_type": "code",
   "execution_count": 8,
   "metadata": {},
   "outputs": [],
   "source": [
    "best_estimator = grid.best_estimator_\n",
    "trained_pipeline = best_estimator.fit(X, y)"
   ]
  },
  {
   "cell_type": "markdown",
   "metadata": {},
   "source": [
    "### Save the model"
   ]
  },
  {
   "cell_type": "code",
   "execution_count": 12,
   "metadata": {},
   "outputs": [
    {
     "name": "stdout",
     "output_type": "stream",
     "text": [
      "Copying file:///tmp/model.joblib [Content-Type=application/octet-stream]...\n",
      "/ [1 files][ 39.4 KiB/ 39.4 KiB]                                                \n",
      "Operation completed over 1 objects/39.4 KiB.                                     \n"
     ]
    }
   ],
   "source": [
    "LOCAL_PATH = '/tmp/model.joblib'\n",
    "GCS_PATH = \"{}/models/model.joblib\".format(ARTIFACT_BUCKET)\n",
    "\n",
    "joblib.dump(value=trained_pipeline, filename=LOCAL_PATH)\n",
    "\n",
    "!gsutil cp $LOCAL_PATH $GCS_PATH"
   ]
  },
  {
   "cell_type": "markdown",
   "metadata": {},
   "source": [
    "## Test the model"
   ]
  },
  {
   "cell_type": "code",
   "execution_count": 13,
   "metadata": {},
   "outputs": [
    {
     "name": "stdout",
     "output_type": "stream",
     "text": [
      "Copying gs://jk-demo-artifacts/models/model.joblib...\n",
      "/ [1 files][ 39.4 KiB/ 39.4 KiB]                                                \n",
      "Operation completed over 1 objects/39.4 KiB.                                     \n"
     ]
    }
   ],
   "source": [
    "!gsutil cp $GCS_PATH $LOCAL_PATH \n",
    "predictor = joblib.load(LOCAL_PATH)\n",
    "\n",
    "y = df_test.octane\n",
    "X = df_test.drop('octane', axis=1)\n",
    "y_hat = predictor.predict(X)"
   ]
  },
  {
   "cell_type": "code",
   "execution_count": 14,
   "metadata": {},
   "outputs": [
    {
     "name": "stdout",
     "output_type": "stream",
     "text": [
      "[(89.6, 89.29312236886084), (88.7, 88.72294484965242), (84.7, 84.52842417650457), (86.6, 86.52655712189213), (88.75, 88.26114847412543), (87.6, 87.33268252894892)]\n"
     ]
    }
   ],
   "source": [
    "print(list(zip(y, y_hat)))"
   ]
  },
  {
   "cell_type": "code",
   "execution_count": 15,
   "metadata": {},
   "outputs": [
    {
     "data": {
      "text/plain": [
       "0.07332781847518134"
      ]
     },
     "execution_count": 15,
     "metadata": {},
     "output_type": "execute_result"
    }
   ],
   "source": [
    "mean_squared_error(y, y_hat)"
   ]
  },
  {
   "cell_type": "code",
   "execution_count": null,
   "metadata": {},
   "outputs": [],
   "source": []
  }
 ],
 "metadata": {
  "kernelspec": {
   "display_name": "Python 3",
   "language": "python",
   "name": "python3"
  },
  "language_info": {
   "codemirror_mode": {
    "name": "ipython",
    "version": 3
   },
   "file_extension": ".py",
   "mimetype": "text/x-python",
   "name": "python",
   "nbconvert_exporter": "python",
   "pygments_lexer": "ipython3",
   "version": "3.5.3"
  }
 },
 "nbformat": 4,
 "nbformat_minor": 4
}
