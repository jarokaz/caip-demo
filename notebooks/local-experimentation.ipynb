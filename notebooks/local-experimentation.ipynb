{
 "cells": [
  {
   "cell_type": "markdown",
   "metadata": {},
   "source": [
    "# Experimenting in AI Platform Notebook"
   ]
  },
  {
   "cell_type": "code",
   "execution_count": 16,
   "metadata": {},
   "outputs": [
    {
     "name": "stdout",
     "output_type": "stream",
     "text": [
      "Requirement already up-to-date: scikit-learn==0.20.2 in /home/jupyter/.local/lib/python3.5/site-packages\n",
      "Requirement already up-to-date: pandas==0.24.0 in /home/jupyter/.local/lib/python3.5/site-packages\n",
      "Requirement already up-to-date: scipy>=0.13.3 in /home/jupyter/.local/lib/python3.5/site-packages (from scikit-learn==0.20.2)\n",
      "Requirement already up-to-date: numpy>=1.8.2 in /home/jupyter/.local/lib/python3.5/site-packages (from scikit-learn==0.20.2)\n",
      "Requirement already up-to-date: pytz>=2011k in /usr/local/lib/python3.5/dist-packages (from pandas==0.24.0)\n",
      "Requirement already up-to-date: python-dateutil>=2.5.0 in /usr/local/lib/python3.5/dist-packages (from pandas==0.24.0)\n",
      "Requirement already up-to-date: six>=1.5 in /usr/local/lib/python3.5/dist-packages (from python-dateutil>=2.5.0->pandas==0.24.0)\n",
      "Note: you may need to restart the kernel to use updated packages.\n"
     ]
    }
   ],
   "source": [
    "%pip install scikit-learn==0.20.2 pandas==0.24.0 --upgrade"
   ]
  },
  {
   "cell_type": "code",
   "execution_count": 18,
   "metadata": {},
   "outputs": [],
   "source": [
    "import numpy as np\n",
    "import pandas as pd\n",
    "import joblib\n",
    "\n",
    "from sklearn.externals import joblib\n",
    "from sklearn.decomposition import PCA\n",
    "from sklearn.linear_model import Ridge \n",
    "from sklearn.metrics import mean_squared_error\n",
    "from sklearn.model_selection import GridSearchCV\n",
    "from sklearn.model_selection import train_test_split\n",
    "from sklearn.pipeline import Pipeline\n",
    "from sklearn.preprocessing import StandardScaler"
   ]
  },
  {
   "cell_type": "code",
   "execution_count": 19,
   "metadata": {},
   "outputs": [],
   "source": [
    "DATASET_PATH = \"gs://jk-demo-datasets/gasdata/gasdata.csv\"\n",
    "ARTIFACT_BUCKET = \"gs://jk-demo-artifacts\""
   ]
  },
  {
   "cell_type": "markdown",
   "metadata": {},
   "source": [
    "## Load and analyze data\n",
    "### Load data from GCS"
   ]
  },
  {
   "cell_type": "code",
   "execution_count": 20,
   "metadata": {},
   "outputs": [
    {
     "data": {
      "text/plain": [
       "(60, 402)"
      ]
     },
     "execution_count": 20,
     "metadata": {},
     "output_type": "execute_result"
    }
   ],
   "source": [
    "df = pd.read_csv(DATASET_PATH, index_col=0)\n",
    "df.shape"
   ]
  },
  {
   "cell_type": "markdown",
   "metadata": {},
   "source": [
    "### Split into development and testing datasets"
   ]
  },
  {
   "cell_type": "code",
   "execution_count": 21,
   "metadata": {},
   "outputs": [
    {
     "name": "stdout",
     "output_type": "stream",
     "text": [
      "(54, 402)\n",
      "(6, 402)\n"
     ]
    }
   ],
   "source": [
    "TRAINING_DATASET_PATH = \"gs://jk-demo-datasets/gasdata/training.csv\"\n",
    "TESTING_DATASET_PATH = \"gs://jk-demo-datasets/gasdata/testing.csv\"\n",
    "\n",
    "df_train, df_test = train_test_split(df, test_size=0.1)\n",
    "\n",
    "print(df_train.shape)\n",
    "print(df_test.shape)\n",
    "\n",
    "df_train.to_csv(TRAINING_DATASET_PATH, index=False)\n",
    "df_test.to_csv(TESTING_DATASET_PATH, index=False)"
   ]
  },
  {
   "cell_type": "code",
   "execution_count": 22,
   "metadata": {},
   "outputs": [
    {
     "name": "stdout",
     "output_type": "stream",
     "text": [
      "gs://jk-demo-datasets/gasdata/gasdata.csv\n",
      "gs://jk-demo-datasets/gasdata/testing.csv\n",
      "gs://jk-demo-datasets/gasdata/training.csv\n"
     ]
    }
   ],
   "source": [
    "!gsutil ls gs://jk-demo-datasets/gasdata"
   ]
  },
  {
   "cell_type": "markdown",
   "metadata": {},
   "source": [
    "### Analyze training dataset"
   ]
  },
  {
   "cell_type": "code",
   "execution_count": 23,
   "metadata": {},
   "outputs": [
    {
     "data": {
      "text/html": [
       "<div>\n",
       "<style scoped>\n",
       "    .dataframe tbody tr th:only-of-type {\n",
       "        vertical-align: middle;\n",
       "    }\n",
       "\n",
       "    .dataframe tbody tr th {\n",
       "        vertical-align: top;\n",
       "    }\n",
       "\n",
       "    .dataframe thead th {\n",
       "        text-align: right;\n",
       "    }\n",
       "</style>\n",
       "<table border=\"1\" class=\"dataframe\">\n",
       "  <thead>\n",
       "    <tr style=\"text-align: right;\">\n",
       "      <th></th>\n",
       "      <th>octane</th>\n",
       "      <th>NIR.900 nm</th>\n",
       "      <th>NIR.902 nm</th>\n",
       "      <th>NIR.904 nm</th>\n",
       "      <th>NIR.906 nm</th>\n",
       "      <th>NIR.908 nm</th>\n",
       "      <th>NIR.910 nm</th>\n",
       "      <th>NIR.912 nm</th>\n",
       "      <th>NIR.914 nm</th>\n",
       "      <th>NIR.916 nm</th>\n",
       "      <th>...</th>\n",
       "      <th>NIR.1682 nm</th>\n",
       "      <th>NIR.1684 nm</th>\n",
       "      <th>NIR.1686 nm</th>\n",
       "      <th>NIR.1688 nm</th>\n",
       "      <th>NIR.1690 nm</th>\n",
       "      <th>NIR.1692 nm</th>\n",
       "      <th>NIR.1694 nm</th>\n",
       "      <th>NIR.1696 nm</th>\n",
       "      <th>NIR.1698 nm</th>\n",
       "      <th>NIR.1700 nm</th>\n",
       "    </tr>\n",
       "  </thead>\n",
       "  <tbody>\n",
       "    <tr>\n",
       "      <th>19</th>\n",
       "      <td>85.4</td>\n",
       "      <td>-0.055002</td>\n",
       "      <td>-0.049353</td>\n",
       "      <td>-0.045749</td>\n",
       "      <td>-0.040881</td>\n",
       "      <td>-0.036641</td>\n",
       "      <td>-0.034485</td>\n",
       "      <td>-0.032852</td>\n",
       "      <td>-0.035723</td>\n",
       "      <td>-0.038415</td>\n",
       "      <td>...</td>\n",
       "      <td>1.185953</td>\n",
       "      <td>1.187329</td>\n",
       "      <td>1.216092</td>\n",
       "      <td>1.239588</td>\n",
       "      <td>1.259853</td>\n",
       "      <td>1.281106</td>\n",
       "      <td>1.213803</td>\n",
       "      <td>1.216212</td>\n",
       "      <td>1.212221</td>\n",
       "      <td>1.187919</td>\n",
       "    </tr>\n",
       "    <tr>\n",
       "      <th>5</th>\n",
       "      <td>87.9</td>\n",
       "      <td>-0.050859</td>\n",
       "      <td>-0.045145</td>\n",
       "      <td>-0.041025</td>\n",
       "      <td>-0.036357</td>\n",
       "      <td>-0.032747</td>\n",
       "      <td>-0.031498</td>\n",
       "      <td>-0.031415</td>\n",
       "      <td>-0.034611</td>\n",
       "      <td>-0.037781</td>\n",
       "      <td>...</td>\n",
       "      <td>1.252712</td>\n",
       "      <td>1.238013</td>\n",
       "      <td>1.259616</td>\n",
       "      <td>1.273713</td>\n",
       "      <td>1.296524</td>\n",
       "      <td>1.299507</td>\n",
       "      <td>1.226448</td>\n",
       "      <td>1.230718</td>\n",
       "      <td>1.232864</td>\n",
       "      <td>1.202926</td>\n",
       "    </tr>\n",
       "    <tr>\n",
       "      <th>47</th>\n",
       "      <td>88.0</td>\n",
       "      <td>-0.060146</td>\n",
       "      <td>-0.054662</td>\n",
       "      <td>-0.051013</td>\n",
       "      <td>-0.046707</td>\n",
       "      <td>-0.042162</td>\n",
       "      <td>-0.040352</td>\n",
       "      <td>-0.038058</td>\n",
       "      <td>-0.041425</td>\n",
       "      <td>-0.044844</td>\n",
       "      <td>...</td>\n",
       "      <td>1.227396</td>\n",
       "      <td>1.253407</td>\n",
       "      <td>1.283604</td>\n",
       "      <td>1.271473</td>\n",
       "      <td>1.287577</td>\n",
       "      <td>1.313725</td>\n",
       "      <td>1.316089</td>\n",
       "      <td>1.324185</td>\n",
       "      <td>1.251984</td>\n",
       "      <td>1.254192</td>\n",
       "    </tr>\n",
       "    <tr>\n",
       "      <th>57</th>\n",
       "      <td>87.2</td>\n",
       "      <td>-0.055555</td>\n",
       "      <td>-0.049867</td>\n",
       "      <td>-0.045942</td>\n",
       "      <td>-0.042266</td>\n",
       "      <td>-0.037195</td>\n",
       "      <td>-0.034837</td>\n",
       "      <td>-0.031842</td>\n",
       "      <td>-0.036051</td>\n",
       "      <td>-0.038897</td>\n",
       "      <td>...</td>\n",
       "      <td>1.167444</td>\n",
       "      <td>1.193289</td>\n",
       "      <td>1.209944</td>\n",
       "      <td>1.175943</td>\n",
       "      <td>1.159782</td>\n",
       "      <td>1.184718</td>\n",
       "      <td>1.155629</td>\n",
       "      <td>1.175611</td>\n",
       "      <td>1.117087</td>\n",
       "      <td>1.095777</td>\n",
       "    </tr>\n",
       "    <tr>\n",
       "      <th>54</th>\n",
       "      <td>85.1</td>\n",
       "      <td>-0.054134</td>\n",
       "      <td>-0.048487</td>\n",
       "      <td>-0.045171</td>\n",
       "      <td>-0.041012</td>\n",
       "      <td>-0.035553</td>\n",
       "      <td>-0.034104</td>\n",
       "      <td>-0.031523</td>\n",
       "      <td>-0.034866</td>\n",
       "      <td>-0.037200</td>\n",
       "      <td>...</td>\n",
       "      <td>1.170220</td>\n",
       "      <td>1.201926</td>\n",
       "      <td>1.162770</td>\n",
       "      <td>1.173205</td>\n",
       "      <td>1.162726</td>\n",
       "      <td>1.168570</td>\n",
       "      <td>1.148061</td>\n",
       "      <td>1.167755</td>\n",
       "      <td>1.137953</td>\n",
       "      <td>1.145351</td>\n",
       "    </tr>\n",
       "  </tbody>\n",
       "</table>\n",
       "<p>5 rows × 402 columns</p>\n",
       "</div>"
      ],
      "text/plain": [
       "    octane  NIR.900 nm  NIR.902 nm  NIR.904 nm  NIR.906 nm  NIR.908 nm  \\\n",
       "19    85.4   -0.055002   -0.049353   -0.045749   -0.040881   -0.036641   \n",
       "5     87.9   -0.050859   -0.045145   -0.041025   -0.036357   -0.032747   \n",
       "47    88.0   -0.060146   -0.054662   -0.051013   -0.046707   -0.042162   \n",
       "57    87.2   -0.055555   -0.049867   -0.045942   -0.042266   -0.037195   \n",
       "54    85.1   -0.054134   -0.048487   -0.045171   -0.041012   -0.035553   \n",
       "\n",
       "    NIR.910 nm  NIR.912 nm  NIR.914 nm  NIR.916 nm  ...  NIR.1682 nm  \\\n",
       "19   -0.034485   -0.032852   -0.035723   -0.038415  ...     1.185953   \n",
       "5    -0.031498   -0.031415   -0.034611   -0.037781  ...     1.252712   \n",
       "47   -0.040352   -0.038058   -0.041425   -0.044844  ...     1.227396   \n",
       "57   -0.034837   -0.031842   -0.036051   -0.038897  ...     1.167444   \n",
       "54   -0.034104   -0.031523   -0.034866   -0.037200  ...     1.170220   \n",
       "\n",
       "    NIR.1684 nm  NIR.1686 nm  NIR.1688 nm  NIR.1690 nm  NIR.1692 nm  \\\n",
       "19     1.187329     1.216092     1.239588     1.259853     1.281106   \n",
       "5      1.238013     1.259616     1.273713     1.296524     1.299507   \n",
       "47     1.253407     1.283604     1.271473     1.287577     1.313725   \n",
       "57     1.193289     1.209944     1.175943     1.159782     1.184718   \n",
       "54     1.201926     1.162770     1.173205     1.162726     1.168570   \n",
       "\n",
       "    NIR.1694 nm  NIR.1696 nm  NIR.1698 nm  NIR.1700 nm  \n",
       "19     1.213803     1.216212     1.212221     1.187919  \n",
       "5      1.226448     1.230718     1.232864     1.202926  \n",
       "47     1.316089     1.324185     1.251984     1.254192  \n",
       "57     1.155629     1.175611     1.117087     1.095777  \n",
       "54     1.148061     1.167755     1.137953     1.145351  \n",
       "\n",
       "[5 rows x 402 columns]"
      ]
     },
     "execution_count": 23,
     "metadata": {},
     "output_type": "execute_result"
    }
   ],
   "source": [
    "df_train.head()"
   ]
  },
  {
   "cell_type": "code",
   "execution_count": 24,
   "metadata": {},
   "outputs": [
    {
     "data": {
      "text/html": [
       "<div>\n",
       "<style scoped>\n",
       "    .dataframe tbody tr th:only-of-type {\n",
       "        vertical-align: middle;\n",
       "    }\n",
       "\n",
       "    .dataframe tbody tr th {\n",
       "        vertical-align: top;\n",
       "    }\n",
       "\n",
       "    .dataframe thead th {\n",
       "        text-align: right;\n",
       "    }\n",
       "</style>\n",
       "<table border=\"1\" class=\"dataframe\">\n",
       "  <thead>\n",
       "    <tr style=\"text-align: right;\">\n",
       "      <th></th>\n",
       "      <th>octane</th>\n",
       "      <th>NIR.900 nm</th>\n",
       "      <th>NIR.902 nm</th>\n",
       "      <th>NIR.904 nm</th>\n",
       "      <th>NIR.906 nm</th>\n",
       "      <th>NIR.908 nm</th>\n",
       "      <th>NIR.910 nm</th>\n",
       "      <th>NIR.912 nm</th>\n",
       "      <th>NIR.914 nm</th>\n",
       "      <th>NIR.916 nm</th>\n",
       "      <th>...</th>\n",
       "      <th>NIR.1682 nm</th>\n",
       "      <th>NIR.1684 nm</th>\n",
       "      <th>NIR.1686 nm</th>\n",
       "      <th>NIR.1688 nm</th>\n",
       "      <th>NIR.1690 nm</th>\n",
       "      <th>NIR.1692 nm</th>\n",
       "      <th>NIR.1694 nm</th>\n",
       "      <th>NIR.1696 nm</th>\n",
       "      <th>NIR.1698 nm</th>\n",
       "      <th>NIR.1700 nm</th>\n",
       "    </tr>\n",
       "  </thead>\n",
       "  <tbody>\n",
       "    <tr>\n",
       "      <th>count</th>\n",
       "      <td>54.000000</td>\n",
       "      <td>54.000000</td>\n",
       "      <td>54.000000</td>\n",
       "      <td>54.000000</td>\n",
       "      <td>54.000000</td>\n",
       "      <td>54.000000</td>\n",
       "      <td>54.000000</td>\n",
       "      <td>54.000000</td>\n",
       "      <td>54.000000</td>\n",
       "      <td>54.000000</td>\n",
       "      <td>...</td>\n",
       "      <td>54.000000</td>\n",
       "      <td>54.000000</td>\n",
       "      <td>54.000000</td>\n",
       "      <td>54.000000</td>\n",
       "      <td>54.000000</td>\n",
       "      <td>54.000000</td>\n",
       "      <td>54.000000</td>\n",
       "      <td>54.000000</td>\n",
       "      <td>54.000000</td>\n",
       "      <td>54.000000</td>\n",
       "    </tr>\n",
       "    <tr>\n",
       "      <th>mean</th>\n",
       "      <td>87.104630</td>\n",
       "      <td>-0.052908</td>\n",
       "      <td>-0.047522</td>\n",
       "      <td>-0.043682</td>\n",
       "      <td>-0.039291</td>\n",
       "      <td>-0.034844</td>\n",
       "      <td>-0.032550</td>\n",
       "      <td>-0.030964</td>\n",
       "      <td>-0.033700</td>\n",
       "      <td>-0.036829</td>\n",
       "      <td>...</td>\n",
       "      <td>1.206844</td>\n",
       "      <td>1.217002</td>\n",
       "      <td>1.238022</td>\n",
       "      <td>1.254558</td>\n",
       "      <td>1.263198</td>\n",
       "      <td>1.264155</td>\n",
       "      <td>1.231278</td>\n",
       "      <td>1.225446</td>\n",
       "      <td>1.218614</td>\n",
       "      <td>1.200892</td>\n",
       "    </tr>\n",
       "    <tr>\n",
       "      <th>std</th>\n",
       "      <td>1.534087</td>\n",
       "      <td>0.004546</td>\n",
       "      <td>0.004441</td>\n",
       "      <td>0.004521</td>\n",
       "      <td>0.004700</td>\n",
       "      <td>0.004713</td>\n",
       "      <td>0.004880</td>\n",
       "      <td>0.004872</td>\n",
       "      <td>0.004914</td>\n",
       "      <td>0.004612</td>\n",
       "      <td>...</td>\n",
       "      <td>0.030357</td>\n",
       "      <td>0.026824</td>\n",
       "      <td>0.026095</td>\n",
       "      <td>0.024446</td>\n",
       "      <td>0.035677</td>\n",
       "      <td>0.037539</td>\n",
       "      <td>0.036280</td>\n",
       "      <td>0.028948</td>\n",
       "      <td>0.028437</td>\n",
       "      <td>0.027946</td>\n",
       "    </tr>\n",
       "    <tr>\n",
       "      <th>min</th>\n",
       "      <td>83.400000</td>\n",
       "      <td>-0.062839</td>\n",
       "      <td>-0.056232</td>\n",
       "      <td>-0.053075</td>\n",
       "      <td>-0.048156</td>\n",
       "      <td>-0.044493</td>\n",
       "      <td>-0.041965</td>\n",
       "      <td>-0.040467</td>\n",
       "      <td>-0.043202</td>\n",
       "      <td>-0.046477</td>\n",
       "      <td>...</td>\n",
       "      <td>1.107501</td>\n",
       "      <td>1.147547</td>\n",
       "      <td>1.162770</td>\n",
       "      <td>1.173205</td>\n",
       "      <td>1.159782</td>\n",
       "      <td>1.168570</td>\n",
       "      <td>1.148061</td>\n",
       "      <td>1.165040</td>\n",
       "      <td>1.117087</td>\n",
       "      <td>1.095777</td>\n",
       "    </tr>\n",
       "    <tr>\n",
       "      <th>25%</th>\n",
       "      <td>85.625000</td>\n",
       "      <td>-0.055829</td>\n",
       "      <td>-0.050705</td>\n",
       "      <td>-0.046628</td>\n",
       "      <td>-0.042132</td>\n",
       "      <td>-0.037475</td>\n",
       "      <td>-0.035374</td>\n",
       "      <td>-0.034039</td>\n",
       "      <td>-0.036722</td>\n",
       "      <td>-0.039441</td>\n",
       "      <td>...</td>\n",
       "      <td>1.192563</td>\n",
       "      <td>1.202296</td>\n",
       "      <td>1.228332</td>\n",
       "      <td>1.245707</td>\n",
       "      <td>1.259895</td>\n",
       "      <td>1.232341</td>\n",
       "      <td>1.213278</td>\n",
       "      <td>1.215193</td>\n",
       "      <td>1.213244</td>\n",
       "      <td>1.190578</td>\n",
       "    </tr>\n",
       "    <tr>\n",
       "      <th>50%</th>\n",
       "      <td>87.425000</td>\n",
       "      <td>-0.053702</td>\n",
       "      <td>-0.048005</td>\n",
       "      <td>-0.044314</td>\n",
       "      <td>-0.040501</td>\n",
       "      <td>-0.035685</td>\n",
       "      <td>-0.033854</td>\n",
       "      <td>-0.031683</td>\n",
       "      <td>-0.034971</td>\n",
       "      <td>-0.037641</td>\n",
       "      <td>...</td>\n",
       "      <td>1.211580</td>\n",
       "      <td>1.223025</td>\n",
       "      <td>1.240726</td>\n",
       "      <td>1.257194</td>\n",
       "      <td>1.273834</td>\n",
       "      <td>1.277211</td>\n",
       "      <td>1.224146</td>\n",
       "      <td>1.227294</td>\n",
       "      <td>1.223857</td>\n",
       "      <td>1.201693</td>\n",
       "    </tr>\n",
       "    <tr>\n",
       "      <th>75%</th>\n",
       "      <td>88.387500</td>\n",
       "      <td>-0.050162</td>\n",
       "      <td>-0.044652</td>\n",
       "      <td>-0.040658</td>\n",
       "      <td>-0.036402</td>\n",
       "      <td>-0.032206</td>\n",
       "      <td>-0.029708</td>\n",
       "      <td>-0.028539</td>\n",
       "      <td>-0.030766</td>\n",
       "      <td>-0.034271</td>\n",
       "      <td>...</td>\n",
       "      <td>1.224627</td>\n",
       "      <td>1.236854</td>\n",
       "      <td>1.251467</td>\n",
       "      <td>1.269753</td>\n",
       "      <td>1.286038</td>\n",
       "      <td>1.292118</td>\n",
       "      <td>1.237820</td>\n",
       "      <td>1.236377</td>\n",
       "      <td>1.235728</td>\n",
       "      <td>1.215165</td>\n",
       "    </tr>\n",
       "    <tr>\n",
       "      <th>max</th>\n",
       "      <td>89.600000</td>\n",
       "      <td>-0.041806</td>\n",
       "      <td>-0.036621</td>\n",
       "      <td>-0.032430</td>\n",
       "      <td>-0.026807</td>\n",
       "      <td>-0.021276</td>\n",
       "      <td>-0.018356</td>\n",
       "      <td>-0.016116</td>\n",
       "      <td>-0.019680</td>\n",
       "      <td>-0.024589</td>\n",
       "      <td>...</td>\n",
       "      <td>1.276561</td>\n",
       "      <td>1.268445</td>\n",
       "      <td>1.293267</td>\n",
       "      <td>1.300765</td>\n",
       "      <td>1.316014</td>\n",
       "      <td>1.313725</td>\n",
       "      <td>1.316089</td>\n",
       "      <td>1.324185</td>\n",
       "      <td>1.264217</td>\n",
       "      <td>1.254192</td>\n",
       "    </tr>\n",
       "  </tbody>\n",
       "</table>\n",
       "<p>8 rows × 402 columns</p>\n",
       "</div>"
      ],
      "text/plain": [
       "          octane  NIR.900 nm  NIR.902 nm  NIR.904 nm  NIR.906 nm  NIR.908 nm  \\\n",
       "count  54.000000   54.000000   54.000000   54.000000   54.000000   54.000000   \n",
       "mean   87.104630   -0.052908   -0.047522   -0.043682   -0.039291   -0.034844   \n",
       "std     1.534087    0.004546    0.004441    0.004521    0.004700    0.004713   \n",
       "min    83.400000   -0.062839   -0.056232   -0.053075   -0.048156   -0.044493   \n",
       "25%    85.625000   -0.055829   -0.050705   -0.046628   -0.042132   -0.037475   \n",
       "50%    87.425000   -0.053702   -0.048005   -0.044314   -0.040501   -0.035685   \n",
       "75%    88.387500   -0.050162   -0.044652   -0.040658   -0.036402   -0.032206   \n",
       "max    89.600000   -0.041806   -0.036621   -0.032430   -0.026807   -0.021276   \n",
       "\n",
       "       NIR.910 nm  NIR.912 nm  NIR.914 nm  NIR.916 nm  ...  NIR.1682 nm  \\\n",
       "count   54.000000   54.000000   54.000000   54.000000  ...    54.000000   \n",
       "mean    -0.032550   -0.030964   -0.033700   -0.036829  ...     1.206844   \n",
       "std      0.004880    0.004872    0.004914    0.004612  ...     0.030357   \n",
       "min     -0.041965   -0.040467   -0.043202   -0.046477  ...     1.107501   \n",
       "25%     -0.035374   -0.034039   -0.036722   -0.039441  ...     1.192563   \n",
       "50%     -0.033854   -0.031683   -0.034971   -0.037641  ...     1.211580   \n",
       "75%     -0.029708   -0.028539   -0.030766   -0.034271  ...     1.224627   \n",
       "max     -0.018356   -0.016116   -0.019680   -0.024589  ...     1.276561   \n",
       "\n",
       "       NIR.1684 nm  NIR.1686 nm  NIR.1688 nm  NIR.1690 nm  NIR.1692 nm  \\\n",
       "count    54.000000    54.000000    54.000000    54.000000    54.000000   \n",
       "mean      1.217002     1.238022     1.254558     1.263198     1.264155   \n",
       "std       0.026824     0.026095     0.024446     0.035677     0.037539   \n",
       "min       1.147547     1.162770     1.173205     1.159782     1.168570   \n",
       "25%       1.202296     1.228332     1.245707     1.259895     1.232341   \n",
       "50%       1.223025     1.240726     1.257194     1.273834     1.277211   \n",
       "75%       1.236854     1.251467     1.269753     1.286038     1.292118   \n",
       "max       1.268445     1.293267     1.300765     1.316014     1.313725   \n",
       "\n",
       "       NIR.1694 nm  NIR.1696 nm  NIR.1698 nm  NIR.1700 nm  \n",
       "count    54.000000    54.000000    54.000000    54.000000  \n",
       "mean      1.231278     1.225446     1.218614     1.200892  \n",
       "std       0.036280     0.028948     0.028437     0.027946  \n",
       "min       1.148061     1.165040     1.117087     1.095777  \n",
       "25%       1.213278     1.215193     1.213244     1.190578  \n",
       "50%       1.224146     1.227294     1.223857     1.201693  \n",
       "75%       1.237820     1.236377     1.235728     1.215165  \n",
       "max       1.316089     1.324185     1.264217     1.254192  \n",
       "\n",
       "[8 rows x 402 columns]"
      ]
     },
     "execution_count": 24,
     "metadata": {},
     "output_type": "execute_result"
    }
   ],
   "source": [
    "df_train.describe()"
   ]
  },
  {
   "cell_type": "markdown",
   "metadata": {},
   "source": [
    "## Train in notebook\n",
    "### Tune hyperparameters"
   ]
  },
  {
   "cell_type": "code",
   "execution_count": 25,
   "metadata": {},
   "outputs": [
    {
     "name": "stdout",
     "output_type": "stream",
     "text": [
      "Best estimator:\n",
      "{'regress__alpha': 0.3, 'reduce_dim__n_components': 8}\n",
      "Best score\n",
      "-0.044063019484606926\n"
     ]
    }
   ],
   "source": [
    "# Set up grid search\n",
    "n_features_options = [2, 3, 4, 6, 8]\n",
    "l2_reg_options = [0.05, 0.1, 0.2, 0.3]\n",
    "\n",
    "pipeline = Pipeline([\n",
    "  ('scale', StandardScaler()),\n",
    "  ('reduce_dim', PCA()),\n",
    "  ('regress', Ridge())\n",
    "])\n",
    "\n",
    "param_grid = [\n",
    "  {\n",
    "    'reduce_dim__n_components': n_features_options,\n",
    "    'regress__alpha': l2_reg_options\n",
    "  }\n",
    "]\n",
    "\n",
    "grid = GridSearchCV(pipeline, cv=10, n_jobs=None, param_grid=param_grid, scoring='neg_mean_squared_error', iid=False)\n",
    "\n",
    "y = df_train.octane\n",
    "X = df_train.drop('octane', axis=1)\n",
    "  \n",
    "grid.fit(X, y)\n",
    "\n",
    "print(\"Best estimator:\")\n",
    "print(grid.best_params_)\n",
    "print(\"Best score\")\n",
    "print(grid.best_score_)"
   ]
  },
  {
   "cell_type": "markdown",
   "metadata": {},
   "source": [
    "### Retrain the best estimator on the full dataset"
   ]
  },
  {
   "cell_type": "code",
   "execution_count": 26,
   "metadata": {},
   "outputs": [],
   "source": [
    "best_estimator = grid.best_estimator_\n",
    "trained_pipeline = best_estimator.fit(X, y)"
   ]
  },
  {
   "cell_type": "markdown",
   "metadata": {},
   "source": [
    "### Save the model"
   ]
  },
  {
   "cell_type": "code",
   "execution_count": 27,
   "metadata": {},
   "outputs": [
    {
     "name": "stdout",
     "output_type": "stream",
     "text": [
      "Copying file:///tmp/model.joblib [Content-Type=application/octet-stream]...\n",
      "/ [1 files][ 39.4 KiB/ 39.4 KiB]                                                \n",
      "Operation completed over 1 objects/39.4 KiB.                                     \n"
     ]
    }
   ],
   "source": [
    "LOCAL_PATH = '/tmp/model.joblib'\n",
    "GCS_PATH = \"{}/models/trained-in-notebook/model.joblib\".format(ARTIFACT_BUCKET)\n",
    "\n",
    "joblib.dump(value=trained_pipeline, filename=LOCAL_PATH)\n",
    "\n",
    "!gsutil cp $LOCAL_PATH $GCS_PATH"
   ]
  },
  {
   "cell_type": "markdown",
   "metadata": {},
   "source": [
    "## Test the model"
   ]
  },
  {
   "cell_type": "code",
   "execution_count": 28,
   "metadata": {},
   "outputs": [
    {
     "name": "stdout",
     "output_type": "stream",
     "text": [
      "Copying gs://jk-demo-artifacts/models/trained-in-notebook/model.joblib...\n",
      "/ [1 files][ 39.4 KiB/ 39.4 KiB]                                                \n",
      "Operation completed over 1 objects/39.4 KiB.                                     \n"
     ]
    }
   ],
   "source": [
    "!gsutil cp $GCS_PATH $LOCAL_PATH \n",
    "predictor = joblib.load(LOCAL_PATH)\n",
    "\n",
    "y = df_test.octane\n",
    "X = df_test.drop('octane', axis=1)\n",
    "y_hat = predictor.predict(X)"
   ]
  },
  {
   "cell_type": "code",
   "execution_count": 29,
   "metadata": {},
   "outputs": [
    {
     "name": "stdout",
     "output_type": "stream",
     "text": [
      "[(88.65, 88.58228819502202), (88.7, 88.68269394207438), (87.3, 87.81257609287483), (88.85, 88.38841717889885), (85.1, 85.27048534546952), (88.4, 88.27605571946398)]\n"
     ]
    }
   ],
   "source": [
    "print(list(zip(y, y_hat)))"
   ]
  },
  {
   "cell_type": "code",
   "execution_count": 30,
   "metadata": {},
   "outputs": [
    {
     "data": {
      "text/plain": [
       "0.08751746293238107"
      ]
     },
     "execution_count": 30,
     "metadata": {},
     "output_type": "execute_result"
    }
   ],
   "source": [
    "mean_squared_error(y, y_hat)"
   ]
  },
  {
   "cell_type": "code",
   "execution_count": null,
   "metadata": {},
   "outputs": [],
   "source": []
  }
 ],
 "metadata": {
  "kernelspec": {
   "display_name": "Python 3",
   "language": "python",
   "name": "python3"
  },
  "language_info": {
   "codemirror_mode": {
    "name": "ipython",
    "version": 3
   },
   "file_extension": ".py",
   "mimetype": "text/x-python",
   "name": "python",
   "nbconvert_exporter": "python",
   "pygments_lexer": "ipython3",
   "version": "3.5.3"
  }
 },
 "nbformat": 4,
 "nbformat_minor": 4
}
