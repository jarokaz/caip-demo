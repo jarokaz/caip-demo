{
 "cells": [
  {
   "cell_type": "markdown",
   "metadata": {},
   "source": [
    "# Experimenting in AI Platform Notebook"
   ]
  },
  {
   "cell_type": "code",
   "execution_count": 1,
   "metadata": {},
   "outputs": [
    {
     "name": "stdout",
     "output_type": "stream",
     "text": [
      "Requirement already up-to-date: scikit-learn in /opt/anaconda3/lib/python3.7/site-packages (0.21.3)\n",
      "Requirement already satisfied, skipping upgrade: numpy>=1.11.0 in /opt/anaconda3/lib/python3.7/site-packages (from scikit-learn) (1.16.2)\n",
      "Requirement already satisfied, skipping upgrade: scipy>=0.17.0 in /opt/anaconda3/lib/python3.7/site-packages (from scikit-learn) (1.2.1)\n",
      "Requirement already satisfied, skipping upgrade: joblib>=0.11 in /opt/anaconda3/lib/python3.7/site-packages (from scikit-learn) (0.13.2)\n",
      "Note: you may need to restart the kernel to use updated packages.\n"
     ]
    }
   ],
   "source": [
    "%pip install scikit-learn --upgrade"
   ]
  },
  {
   "cell_type": "code",
   "execution_count": 3,
   "metadata": {},
   "outputs": [],
   "source": [
    "import numpy as np\n",
    "import pandas as pd\n",
    "import joblib\n",
    "\n",
    "from sklearn.decomposition import PCA\n",
    "from sklearn.linear_model import Ridge \n",
    "from sklearn.metrics import mean_squared_error\n",
    "from sklearn.model_selection import GridSearchCV\n",
    "from sklearn.model_selection import train_test_split\n",
    "from sklearn.pipeline import Pipeline\n",
    "from sklearn.preprocessing import StandardScaler"
   ]
  },
  {
   "cell_type": "code",
   "execution_count": 4,
   "metadata": {},
   "outputs": [],
   "source": [
    "DATASET_PATH = \"gs://jk-demo-datasets/gasdata/gasdata.csv\"\n",
    "ARTIFACT_BUCKET = \"gs://jk-demo-artifacts\""
   ]
  },
  {
   "cell_type": "markdown",
   "metadata": {},
   "source": [
    "## Load and analyze data\n",
    "### Load data from GCS"
   ]
  },
  {
   "cell_type": "code",
   "execution_count": 5,
   "metadata": {},
   "outputs": [
    {
     "data": {
      "text/plain": [
       "(60, 402)"
      ]
     },
     "execution_count": 5,
     "metadata": {},
     "output_type": "execute_result"
    }
   ],
   "source": [
    "df = pd.read_csv(DATASET_PATH, index_col=0)\n",
    "df.shape"
   ]
  },
  {
   "cell_type": "markdown",
   "metadata": {},
   "source": [
    "### Split into development and testing datasets"
   ]
  },
  {
   "cell_type": "code",
   "execution_count": 6,
   "metadata": {},
   "outputs": [
    {
     "name": "stdout",
     "output_type": "stream",
     "text": [
      "(54, 402)\n",
      "(6, 402)\n"
     ]
    }
   ],
   "source": [
    "TRAINING_DATASET_PATH = \"gs://jk-demo-datasets/gasdata/training.csv\"\n",
    "TESTING_DATASET_PATH = \"gs://jk-demo-datasets/gasdata/testing.csv\"\n",
    "\n",
    "df_train, df_test = train_test_split(df, test_size=0.1)\n",
    "\n",
    "print(df_train.shape)\n",
    "print(df_test.shape)\n",
    "\n",
    "df_train.to_csv(TRAINING_DATASET_PATH, index=False)\n",
    "df_test.to_csv(TESTING_DATASET_PATH, index=False)"
   ]
  },
  {
   "cell_type": "code",
   "execution_count": 7,
   "metadata": {},
   "outputs": [
    {
     "name": "stdout",
     "output_type": "stream",
     "text": [
      "gs://jk-demo-datasets/gasdata/gasdata.csv\n",
      "gs://jk-demo-datasets/gasdata/testing.csv\n",
      "gs://jk-demo-datasets/gasdata/training.csv\n"
     ]
    }
   ],
   "source": [
    "!gsutil ls gs://jk-demo-datasets/gasdata"
   ]
  },
  {
   "cell_type": "markdown",
   "metadata": {},
   "source": [
    "### Analyze training dataset"
   ]
  },
  {
   "cell_type": "code",
   "execution_count": 8,
   "metadata": {},
   "outputs": [
    {
     "data": {
      "text/html": [
       "<div>\n",
       "<style scoped>\n",
       "    .dataframe tbody tr th:only-of-type {\n",
       "        vertical-align: middle;\n",
       "    }\n",
       "\n",
       "    .dataframe tbody tr th {\n",
       "        vertical-align: top;\n",
       "    }\n",
       "\n",
       "    .dataframe thead th {\n",
       "        text-align: right;\n",
       "    }\n",
       "</style>\n",
       "<table border=\"1\" class=\"dataframe\">\n",
       "  <thead>\n",
       "    <tr style=\"text-align: right;\">\n",
       "      <th></th>\n",
       "      <th>octane</th>\n",
       "      <th>NIR.900 nm</th>\n",
       "      <th>NIR.902 nm</th>\n",
       "      <th>NIR.904 nm</th>\n",
       "      <th>NIR.906 nm</th>\n",
       "      <th>NIR.908 nm</th>\n",
       "      <th>NIR.910 nm</th>\n",
       "      <th>NIR.912 nm</th>\n",
       "      <th>NIR.914 nm</th>\n",
       "      <th>NIR.916 nm</th>\n",
       "      <th>...</th>\n",
       "      <th>NIR.1682 nm</th>\n",
       "      <th>NIR.1684 nm</th>\n",
       "      <th>NIR.1686 nm</th>\n",
       "      <th>NIR.1688 nm</th>\n",
       "      <th>NIR.1690 nm</th>\n",
       "      <th>NIR.1692 nm</th>\n",
       "      <th>NIR.1694 nm</th>\n",
       "      <th>NIR.1696 nm</th>\n",
       "      <th>NIR.1698 nm</th>\n",
       "      <th>NIR.1700 nm</th>\n",
       "    </tr>\n",
       "  </thead>\n",
       "  <tbody>\n",
       "    <tr>\n",
       "      <th>60</th>\n",
       "      <td>87.1</td>\n",
       "      <td>-0.058805</td>\n",
       "      <td>-0.053311</td>\n",
       "      <td>-0.049543</td>\n",
       "      <td>-0.045053</td>\n",
       "      <td>-0.040598</td>\n",
       "      <td>-0.038965</td>\n",
       "      <td>-0.036749</td>\n",
       "      <td>-0.040284</td>\n",
       "      <td>-0.042080</td>\n",
       "      <td>...</td>\n",
       "      <td>1.211312</td>\n",
       "      <td>1.228345</td>\n",
       "      <td>1.237367</td>\n",
       "      <td>1.203006</td>\n",
       "      <td>1.200348</td>\n",
       "      <td>1.209557</td>\n",
       "      <td>1.182911</td>\n",
       "      <td>1.184077</td>\n",
       "      <td>1.154355</td>\n",
       "      <td>1.163959</td>\n",
       "    </tr>\n",
       "    <tr>\n",
       "      <th>38</th>\n",
       "      <td>88.4</td>\n",
       "      <td>-0.051488</td>\n",
       "      <td>-0.045710</td>\n",
       "      <td>-0.041979</td>\n",
       "      <td>-0.037985</td>\n",
       "      <td>-0.034024</td>\n",
       "      <td>-0.030727</td>\n",
       "      <td>-0.029478</td>\n",
       "      <td>-0.031468</td>\n",
       "      <td>-0.036109</td>\n",
       "      <td>...</td>\n",
       "      <td>1.228883</td>\n",
       "      <td>1.255432</td>\n",
       "      <td>1.259085</td>\n",
       "      <td>1.283364</td>\n",
       "      <td>1.290963</td>\n",
       "      <td>1.303616</td>\n",
       "      <td>1.299003</td>\n",
       "      <td>1.247123</td>\n",
       "      <td>1.242375</td>\n",
       "      <td>1.253576</td>\n",
       "    </tr>\n",
       "    <tr>\n",
       "      <th>6</th>\n",
       "      <td>85.5</td>\n",
       "      <td>-0.048094</td>\n",
       "      <td>-0.042739</td>\n",
       "      <td>-0.038812</td>\n",
       "      <td>-0.034017</td>\n",
       "      <td>-0.030143</td>\n",
       "      <td>-0.027690</td>\n",
       "      <td>-0.026387</td>\n",
       "      <td>-0.028811</td>\n",
       "      <td>-0.031481</td>\n",
       "      <td>...</td>\n",
       "      <td>1.214046</td>\n",
       "      <td>1.210217</td>\n",
       "      <td>1.241090</td>\n",
       "      <td>1.262138</td>\n",
       "      <td>1.288401</td>\n",
       "      <td>1.291118</td>\n",
       "      <td>1.229769</td>\n",
       "      <td>1.227615</td>\n",
       "      <td>1.227630</td>\n",
       "      <td>1.207576</td>\n",
       "    </tr>\n",
       "    <tr>\n",
       "      <th>44</th>\n",
       "      <td>85.3</td>\n",
       "      <td>-0.050142</td>\n",
       "      <td>-0.044155</td>\n",
       "      <td>-0.040605</td>\n",
       "      <td>-0.036775</td>\n",
       "      <td>-0.032357</td>\n",
       "      <td>-0.029566</td>\n",
       "      <td>-0.028514</td>\n",
       "      <td>-0.029725</td>\n",
       "      <td>-0.033475</td>\n",
       "      <td>...</td>\n",
       "      <td>1.196784</td>\n",
       "      <td>1.224243</td>\n",
       "      <td>1.231407</td>\n",
       "      <td>1.255565</td>\n",
       "      <td>1.285385</td>\n",
       "      <td>1.300601</td>\n",
       "      <td>1.288432</td>\n",
       "      <td>1.243036</td>\n",
       "      <td>1.241742</td>\n",
       "      <td>1.239797</td>\n",
       "    </tr>\n",
       "    <tr>\n",
       "      <th>30</th>\n",
       "      <td>86.5</td>\n",
       "      <td>-0.056285</td>\n",
       "      <td>-0.051229</td>\n",
       "      <td>-0.047233</td>\n",
       "      <td>-0.043306</td>\n",
       "      <td>-0.038566</td>\n",
       "      <td>-0.036586</td>\n",
       "      <td>-0.035222</td>\n",
       "      <td>-0.037604</td>\n",
       "      <td>-0.040532</td>\n",
       "      <td>...</td>\n",
       "      <td>1.229997</td>\n",
       "      <td>1.227048</td>\n",
       "      <td>1.249672</td>\n",
       "      <td>1.267421</td>\n",
       "      <td>1.284605</td>\n",
       "      <td>1.304134</td>\n",
       "      <td>1.228024</td>\n",
       "      <td>1.230893</td>\n",
       "      <td>1.224984</td>\n",
       "      <td>1.209100</td>\n",
       "    </tr>\n",
       "  </tbody>\n",
       "</table>\n",
       "<p>5 rows × 402 columns</p>\n",
       "</div>"
      ],
      "text/plain": [
       "    octane  NIR.900 nm  NIR.902 nm  NIR.904 nm  NIR.906 nm  NIR.908 nm  \\\n",
       "60    87.1   -0.058805   -0.053311   -0.049543   -0.045053   -0.040598   \n",
       "38    88.4   -0.051488   -0.045710   -0.041979   -0.037985   -0.034024   \n",
       "6     85.5   -0.048094   -0.042739   -0.038812   -0.034017   -0.030143   \n",
       "44    85.3   -0.050142   -0.044155   -0.040605   -0.036775   -0.032357   \n",
       "30    86.5   -0.056285   -0.051229   -0.047233   -0.043306   -0.038566   \n",
       "\n",
       "    NIR.910 nm  NIR.912 nm  NIR.914 nm  NIR.916 nm  ...  NIR.1682 nm  \\\n",
       "60   -0.038965   -0.036749   -0.040284   -0.042080  ...     1.211312   \n",
       "38   -0.030727   -0.029478   -0.031468   -0.036109  ...     1.228883   \n",
       "6    -0.027690   -0.026387   -0.028811   -0.031481  ...     1.214046   \n",
       "44   -0.029566   -0.028514   -0.029725   -0.033475  ...     1.196784   \n",
       "30   -0.036586   -0.035222   -0.037604   -0.040532  ...     1.229997   \n",
       "\n",
       "    NIR.1684 nm  NIR.1686 nm  NIR.1688 nm  NIR.1690 nm  NIR.1692 nm  \\\n",
       "60     1.228345     1.237367     1.203006     1.200348     1.209557   \n",
       "38     1.255432     1.259085     1.283364     1.290963     1.303616   \n",
       "6      1.210217     1.241090     1.262138     1.288401     1.291118   \n",
       "44     1.224243     1.231407     1.255565     1.285385     1.300601   \n",
       "30     1.227048     1.249672     1.267421     1.284605     1.304134   \n",
       "\n",
       "    NIR.1694 nm  NIR.1696 nm  NIR.1698 nm  NIR.1700 nm  \n",
       "60     1.182911     1.184077     1.154355     1.163959  \n",
       "38     1.299003     1.247123     1.242375     1.253576  \n",
       "6      1.229769     1.227615     1.227630     1.207576  \n",
       "44     1.288432     1.243036     1.241742     1.239797  \n",
       "30     1.228024     1.230893     1.224984     1.209100  \n",
       "\n",
       "[5 rows x 402 columns]"
      ]
     },
     "execution_count": 8,
     "metadata": {},
     "output_type": "execute_result"
    }
   ],
   "source": [
    "df_train.head()"
   ]
  },
  {
   "cell_type": "code",
   "execution_count": 9,
   "metadata": {},
   "outputs": [
    {
     "data": {
      "text/html": [
       "<div>\n",
       "<style scoped>\n",
       "    .dataframe tbody tr th:only-of-type {\n",
       "        vertical-align: middle;\n",
       "    }\n",
       "\n",
       "    .dataframe tbody tr th {\n",
       "        vertical-align: top;\n",
       "    }\n",
       "\n",
       "    .dataframe thead th {\n",
       "        text-align: right;\n",
       "    }\n",
       "</style>\n",
       "<table border=\"1\" class=\"dataframe\">\n",
       "  <thead>\n",
       "    <tr style=\"text-align: right;\">\n",
       "      <th></th>\n",
       "      <th>octane</th>\n",
       "      <th>NIR.900 nm</th>\n",
       "      <th>NIR.902 nm</th>\n",
       "      <th>NIR.904 nm</th>\n",
       "      <th>NIR.906 nm</th>\n",
       "      <th>NIR.908 nm</th>\n",
       "      <th>NIR.910 nm</th>\n",
       "      <th>NIR.912 nm</th>\n",
       "      <th>NIR.914 nm</th>\n",
       "      <th>NIR.916 nm</th>\n",
       "      <th>...</th>\n",
       "      <th>NIR.1682 nm</th>\n",
       "      <th>NIR.1684 nm</th>\n",
       "      <th>NIR.1686 nm</th>\n",
       "      <th>NIR.1688 nm</th>\n",
       "      <th>NIR.1690 nm</th>\n",
       "      <th>NIR.1692 nm</th>\n",
       "      <th>NIR.1694 nm</th>\n",
       "      <th>NIR.1696 nm</th>\n",
       "      <th>NIR.1698 nm</th>\n",
       "      <th>NIR.1700 nm</th>\n",
       "    </tr>\n",
       "  </thead>\n",
       "  <tbody>\n",
       "    <tr>\n",
       "      <th>count</th>\n",
       "      <td>54.000000</td>\n",
       "      <td>54.000000</td>\n",
       "      <td>54.000000</td>\n",
       "      <td>54.000000</td>\n",
       "      <td>54.000000</td>\n",
       "      <td>54.000000</td>\n",
       "      <td>54.000000</td>\n",
       "      <td>54.000000</td>\n",
       "      <td>54.000000</td>\n",
       "      <td>54.000000</td>\n",
       "      <td>...</td>\n",
       "      <td>54.000000</td>\n",
       "      <td>54.000000</td>\n",
       "      <td>54.000000</td>\n",
       "      <td>54.000000</td>\n",
       "      <td>54.000000</td>\n",
       "      <td>54.000000</td>\n",
       "      <td>54.000000</td>\n",
       "      <td>54.000000</td>\n",
       "      <td>54.000000</td>\n",
       "      <td>54.000000</td>\n",
       "    </tr>\n",
       "    <tr>\n",
       "      <th>mean</th>\n",
       "      <td>87.098148</td>\n",
       "      <td>-0.052855</td>\n",
       "      <td>-0.047511</td>\n",
       "      <td>-0.043659</td>\n",
       "      <td>-0.039297</td>\n",
       "      <td>-0.034847</td>\n",
       "      <td>-0.032537</td>\n",
       "      <td>-0.030944</td>\n",
       "      <td>-0.033691</td>\n",
       "      <td>-0.036834</td>\n",
       "      <td>...</td>\n",
       "      <td>1.207869</td>\n",
       "      <td>1.218311</td>\n",
       "      <td>1.239206</td>\n",
       "      <td>1.253884</td>\n",
       "      <td>1.262483</td>\n",
       "      <td>1.262724</td>\n",
       "      <td>1.232206</td>\n",
       "      <td>1.226693</td>\n",
       "      <td>1.218172</td>\n",
       "      <td>1.201320</td>\n",
       "    </tr>\n",
       "    <tr>\n",
       "      <th>std</th>\n",
       "      <td>1.503391</td>\n",
       "      <td>0.004254</td>\n",
       "      <td>0.004127</td>\n",
       "      <td>0.004170</td>\n",
       "      <td>0.004360</td>\n",
       "      <td>0.004233</td>\n",
       "      <td>0.004434</td>\n",
       "      <td>0.004353</td>\n",
       "      <td>0.004481</td>\n",
       "      <td>0.004260</td>\n",
       "      <td>...</td>\n",
       "      <td>0.026873</td>\n",
       "      <td>0.025037</td>\n",
       "      <td>0.023888</td>\n",
       "      <td>0.026696</td>\n",
       "      <td>0.037046</td>\n",
       "      <td>0.039708</td>\n",
       "      <td>0.037291</td>\n",
       "      <td>0.031809</td>\n",
       "      <td>0.028613</td>\n",
       "      <td>0.029318</td>\n",
       "    </tr>\n",
       "    <tr>\n",
       "      <th>min</th>\n",
       "      <td>83.400000</td>\n",
       "      <td>-0.060961</td>\n",
       "      <td>-0.056118</td>\n",
       "      <td>-0.052393</td>\n",
       "      <td>-0.048156</td>\n",
       "      <td>-0.043868</td>\n",
       "      <td>-0.041965</td>\n",
       "      <td>-0.040130</td>\n",
       "      <td>-0.043010</td>\n",
       "      <td>-0.046227</td>\n",
       "      <td>...</td>\n",
       "      <td>1.128877</td>\n",
       "      <td>1.148342</td>\n",
       "      <td>1.162770</td>\n",
       "      <td>1.170451</td>\n",
       "      <td>1.159782</td>\n",
       "      <td>1.168570</td>\n",
       "      <td>1.148061</td>\n",
       "      <td>1.162526</td>\n",
       "      <td>1.117087</td>\n",
       "      <td>1.095777</td>\n",
       "    </tr>\n",
       "    <tr>\n",
       "      <th>25%</th>\n",
       "      <td>85.625000</td>\n",
       "      <td>-0.055829</td>\n",
       "      <td>-0.050705</td>\n",
       "      <td>-0.046628</td>\n",
       "      <td>-0.042132</td>\n",
       "      <td>-0.037475</td>\n",
       "      <td>-0.035374</td>\n",
       "      <td>-0.034039</td>\n",
       "      <td>-0.036722</td>\n",
       "      <td>-0.039441</td>\n",
       "      <td>...</td>\n",
       "      <td>1.196842</td>\n",
       "      <td>1.204393</td>\n",
       "      <td>1.229588</td>\n",
       "      <td>1.244972</td>\n",
       "      <td>1.259895</td>\n",
       "      <td>1.231619</td>\n",
       "      <td>1.212272</td>\n",
       "      <td>1.215193</td>\n",
       "      <td>1.209004</td>\n",
       "      <td>1.190206</td>\n",
       "    </tr>\n",
       "    <tr>\n",
       "      <th>50%</th>\n",
       "      <td>87.275000</td>\n",
       "      <td>-0.053544</td>\n",
       "      <td>-0.047905</td>\n",
       "      <td>-0.043930</td>\n",
       "      <td>-0.040065</td>\n",
       "      <td>-0.035583</td>\n",
       "      <td>-0.033657</td>\n",
       "      <td>-0.031445</td>\n",
       "      <td>-0.034729</td>\n",
       "      <td>-0.037438</td>\n",
       "      <td>...</td>\n",
       "      <td>1.211580</td>\n",
       "      <td>1.222615</td>\n",
       "      <td>1.241347</td>\n",
       "      <td>1.257194</td>\n",
       "      <td>1.273834</td>\n",
       "      <td>1.277211</td>\n",
       "      <td>1.224146</td>\n",
       "      <td>1.227901</td>\n",
       "      <td>1.224112</td>\n",
       "      <td>1.203160</td>\n",
       "    </tr>\n",
       "    <tr>\n",
       "      <th>75%</th>\n",
       "      <td>88.400000</td>\n",
       "      <td>-0.050155</td>\n",
       "      <td>-0.044443</td>\n",
       "      <td>-0.040868</td>\n",
       "      <td>-0.036458</td>\n",
       "      <td>-0.032365</td>\n",
       "      <td>-0.029791</td>\n",
       "      <td>-0.028539</td>\n",
       "      <td>-0.030766</td>\n",
       "      <td>-0.034254</td>\n",
       "      <td>...</td>\n",
       "      <td>1.223737</td>\n",
       "      <td>1.234747</td>\n",
       "      <td>1.251467</td>\n",
       "      <td>1.270069</td>\n",
       "      <td>1.286038</td>\n",
       "      <td>1.292201</td>\n",
       "      <td>1.242693</td>\n",
       "      <td>1.239971</td>\n",
       "      <td>1.236140</td>\n",
       "      <td>1.219367</td>\n",
       "    </tr>\n",
       "    <tr>\n",
       "      <th>max</th>\n",
       "      <td>89.600000</td>\n",
       "      <td>-0.041806</td>\n",
       "      <td>-0.037138</td>\n",
       "      <td>-0.033330</td>\n",
       "      <td>-0.028394</td>\n",
       "      <td>-0.024088</td>\n",
       "      <td>-0.022220</td>\n",
       "      <td>-0.020429</td>\n",
       "      <td>-0.023380</td>\n",
       "      <td>-0.026519</td>\n",
       "      <td>...</td>\n",
       "      <td>1.276561</td>\n",
       "      <td>1.268445</td>\n",
       "      <td>1.293267</td>\n",
       "      <td>1.300765</td>\n",
       "      <td>1.316014</td>\n",
       "      <td>1.313725</td>\n",
       "      <td>1.316089</td>\n",
       "      <td>1.324185</td>\n",
       "      <td>1.264217</td>\n",
       "      <td>1.254192</td>\n",
       "    </tr>\n",
       "  </tbody>\n",
       "</table>\n",
       "<p>8 rows × 402 columns</p>\n",
       "</div>"
      ],
      "text/plain": [
       "          octane  NIR.900 nm  NIR.902 nm  NIR.904 nm  NIR.906 nm  NIR.908 nm  \\\n",
       "count  54.000000   54.000000   54.000000   54.000000   54.000000   54.000000   \n",
       "mean   87.098148   -0.052855   -0.047511   -0.043659   -0.039297   -0.034847   \n",
       "std     1.503391    0.004254    0.004127    0.004170    0.004360    0.004233   \n",
       "min    83.400000   -0.060961   -0.056118   -0.052393   -0.048156   -0.043868   \n",
       "25%    85.625000   -0.055829   -0.050705   -0.046628   -0.042132   -0.037475   \n",
       "50%    87.275000   -0.053544   -0.047905   -0.043930   -0.040065   -0.035583   \n",
       "75%    88.400000   -0.050155   -0.044443   -0.040868   -0.036458   -0.032365   \n",
       "max    89.600000   -0.041806   -0.037138   -0.033330   -0.028394   -0.024088   \n",
       "\n",
       "       NIR.910 nm  NIR.912 nm  NIR.914 nm  NIR.916 nm  ...  NIR.1682 nm  \\\n",
       "count   54.000000   54.000000   54.000000   54.000000  ...    54.000000   \n",
       "mean    -0.032537   -0.030944   -0.033691   -0.036834  ...     1.207869   \n",
       "std      0.004434    0.004353    0.004481    0.004260  ...     0.026873   \n",
       "min     -0.041965   -0.040130   -0.043010   -0.046227  ...     1.128877   \n",
       "25%     -0.035374   -0.034039   -0.036722   -0.039441  ...     1.196842   \n",
       "50%     -0.033657   -0.031445   -0.034729   -0.037438  ...     1.211580   \n",
       "75%     -0.029791   -0.028539   -0.030766   -0.034254  ...     1.223737   \n",
       "max     -0.022220   -0.020429   -0.023380   -0.026519  ...     1.276561   \n",
       "\n",
       "       NIR.1684 nm  NIR.1686 nm  NIR.1688 nm  NIR.1690 nm  NIR.1692 nm  \\\n",
       "count    54.000000    54.000000    54.000000    54.000000    54.000000   \n",
       "mean      1.218311     1.239206     1.253884     1.262483     1.262724   \n",
       "std       0.025037     0.023888     0.026696     0.037046     0.039708   \n",
       "min       1.148342     1.162770     1.170451     1.159782     1.168570   \n",
       "25%       1.204393     1.229588     1.244972     1.259895     1.231619   \n",
       "50%       1.222615     1.241347     1.257194     1.273834     1.277211   \n",
       "75%       1.234747     1.251467     1.270069     1.286038     1.292201   \n",
       "max       1.268445     1.293267     1.300765     1.316014     1.313725   \n",
       "\n",
       "       NIR.1694 nm  NIR.1696 nm  NIR.1698 nm  NIR.1700 nm  \n",
       "count    54.000000    54.000000    54.000000    54.000000  \n",
       "mean      1.232206     1.226693     1.218172     1.201320  \n",
       "std       0.037291     0.031809     0.028613     0.029318  \n",
       "min       1.148061     1.162526     1.117087     1.095777  \n",
       "25%       1.212272     1.215193     1.209004     1.190206  \n",
       "50%       1.224146     1.227901     1.224112     1.203160  \n",
       "75%       1.242693     1.239971     1.236140     1.219367  \n",
       "max       1.316089     1.324185     1.264217     1.254192  \n",
       "\n",
       "[8 rows x 402 columns]"
      ]
     },
     "execution_count": 9,
     "metadata": {},
     "output_type": "execute_result"
    }
   ],
   "source": [
    "df_train.describe()"
   ]
  },
  {
   "cell_type": "markdown",
   "metadata": {},
   "source": [
    "## Train in notebook\n",
    "### Tune hyperparameters"
   ]
  },
  {
   "cell_type": "code",
   "execution_count": 10,
   "metadata": {},
   "outputs": [
    {
     "name": "stdout",
     "output_type": "stream",
     "text": [
      "Best estimator:\n",
      "{'reduce_dim__n_components': 6, 'regress__alpha': 0.05}\n",
      "Best score\n",
      "-0.048389684330949714\n"
     ]
    }
   ],
   "source": [
    "# Set up grid search\n",
    "n_features_options = [2, 3, 4, 6, 8]\n",
    "l2_reg_options = [0.05, 0.1, 0.2, 0.3]\n",
    "\n",
    "pipeline = Pipeline([\n",
    "  ('scale', StandardScaler()),\n",
    "  ('reduce_dim', PCA()),\n",
    "  ('regress', Ridge())\n",
    "])\n",
    "\n",
    "param_grid = [\n",
    "  {\n",
    "    'reduce_dim__n_components': n_features_options,\n",
    "    'regress__alpha': l2_reg_options\n",
    "  }\n",
    "]\n",
    "\n",
    "grid = GridSearchCV(pipeline, cv=10, n_jobs=None, param_grid=param_grid, scoring='neg_mean_squared_error', iid=False)\n",
    "\n",
    "y = df_train.octane\n",
    "X = df_train.drop('octane', axis=1)\n",
    "  \n",
    "grid.fit(X, y)\n",
    "\n",
    "print(\"Best estimator:\")\n",
    "print(grid.best_params_)\n",
    "print(\"Best score\")\n",
    "print(grid.best_score_)"
   ]
  },
  {
   "cell_type": "markdown",
   "metadata": {},
   "source": [
    "### Retrain the best estimator on the full dataset"
   ]
  },
  {
   "cell_type": "code",
   "execution_count": 11,
   "metadata": {},
   "outputs": [],
   "source": [
    "best_estimator = grid.best_estimator_\n",
    "trained_pipeline = best_estimator.fit(X, y)"
   ]
  },
  {
   "cell_type": "markdown",
   "metadata": {},
   "source": [
    "### Save the model"
   ]
  },
  {
   "cell_type": "code",
   "execution_count": 12,
   "metadata": {},
   "outputs": [
    {
     "name": "stdout",
     "output_type": "stream",
     "text": [
      "Copying file:///tmp/model.joblib [Content-Type=application/octet-stream]...\n",
      "/ [1 files][ 33.1 KiB/ 33.1 KiB]                                                \n",
      "Operation completed over 1 objects/33.1 KiB.                                     \n"
     ]
    }
   ],
   "source": [
    "LOCAL_PATH = '/tmp/model.joblib'\n",
    "GCS_PATH = \"{}/models/trained-in-notebook/model.joblib\".format(ARTIFACT_BUCKET)\n",
    "\n",
    "joblib.dump(value=trained_pipeline, filename=LOCAL_PATH)\n",
    "\n",
    "!gsutil cp $LOCAL_PATH $GCS_PATH"
   ]
  },
  {
   "cell_type": "markdown",
   "metadata": {},
   "source": [
    "## Test the model"
   ]
  },
  {
   "cell_type": "code",
   "execution_count": 13,
   "metadata": {},
   "outputs": [
    {
     "name": "stdout",
     "output_type": "stream",
     "text": [
      "Copying gs://jk-demo-artifacts/models/trained-in-notebook/model.joblib...\n",
      "/ [1 files][ 33.1 KiB/ 33.1 KiB]                                                \n",
      "Operation completed over 1 objects/33.1 KiB.                                     \n"
     ]
    }
   ],
   "source": [
    "!gsutil cp $GCS_PATH $LOCAL_PATH \n",
    "predictor = joblib.load(LOCAL_PATH)\n",
    "\n",
    "y = df_test.octane\n",
    "X = df_test.drop('octane', axis=1)\n",
    "y_hat = predictor.predict(X)"
   ]
  },
  {
   "cell_type": "code",
   "execution_count": 14,
   "metadata": {},
   "outputs": [
    {
     "name": "stdout",
     "output_type": "stream",
     "text": [
      "[(88.25, 88.52908936379814), (88.75, 88.50388903838443), (88.35, 88.49024069884311), (88.9, 88.83615808112253), (88.7, 88.58828310443683), (84.4, 84.4270667992193)]\n"
     ]
    }
   ],
   "source": [
    "print(list(zip(y, y_hat)))"
   ]
  },
  {
   "cell_type": "code",
   "execution_count": 15,
   "metadata": {},
   "outputs": [
    {
     "data": {
      "text/plain": [
       "0.02923633316746729"
      ]
     },
     "execution_count": 15,
     "metadata": {},
     "output_type": "execute_result"
    }
   ],
   "source": [
    "mean_squared_error(y, y_hat)"
   ]
  },
  {
   "cell_type": "code",
   "execution_count": null,
   "metadata": {},
   "outputs": [],
   "source": []
  }
 ],
 "metadata": {
  "kernelspec": {
   "display_name": "Python 3",
   "language": "python",
   "name": "python3"
  },
  "language_info": {
   "codemirror_mode": {
    "name": "ipython",
    "version": 3
   },
   "file_extension": ".py",
   "mimetype": "text/x-python",
   "name": "python",
   "nbconvert_exporter": "python",
   "pygments_lexer": "ipython3",
   "version": "3.7.3"
  }
 },
 "nbformat": 4,
 "nbformat_minor": 4
}
