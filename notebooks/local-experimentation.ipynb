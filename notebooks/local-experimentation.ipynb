{
 "cells": [
  {
   "cell_type": "markdown",
   "metadata": {},
   "source": [
    "# Experimenting in AI Platform Notebook"
   ]
  },
  {
   "cell_type": "code",
   "execution_count": 1,
   "metadata": {},
   "outputs": [
    {
     "name": "stdout",
     "output_type": "stream",
     "text": [
      "Requirement already up-to-date: scikit-learn in /opt/anaconda3/lib/python3.7/site-packages (0.21.3)\n",
      "Requirement already satisfied, skipping upgrade: numpy>=1.11.0 in /opt/anaconda3/lib/python3.7/site-packages (from scikit-learn) (1.16.2)\n",
      "Requirement already satisfied, skipping upgrade: scipy>=0.17.0 in /opt/anaconda3/lib/python3.7/site-packages (from scikit-learn) (1.2.1)\n",
      "Requirement already satisfied, skipping upgrade: joblib>=0.11 in /opt/anaconda3/lib/python3.7/site-packages (from scikit-learn) (0.13.2)\n",
      "Note: you may need to restart the kernel to use updated packages.\n"
     ]
    }
   ],
   "source": [
    "%pip install scikit-learn --upgrade"
   ]
  },
  {
   "cell_type": "code",
   "execution_count": 3,
   "metadata": {},
   "outputs": [],
   "source": [
    "import numpy as np\n",
    "import pandas as pd\n",
    "import joblib\n",
    "\n",
    "from sklearn.decomposition import PCA\n",
    "from sklearn.linear_model import Ridge \n",
    "from sklearn.metrics import mean_squared_error\n",
    "from sklearn.model_selection import GridSearchCV\n",
    "from sklearn.model_selection import train_test_split\n",
    "from sklearn.pipeline import Pipeline\n",
    "from sklearn.preprocessing import StandardScaler"
   ]
  },
  {
   "cell_type": "code",
   "execution_count": 8,
   "metadata": {},
   "outputs": [],
   "source": [
    "DATASET_PATH = \"gs://jk-demo-datasets/gasdata/gasdata.csv\"\n",
    "ARTIFACT_BUCKET = \"gs://jk-demo-artifacts\""
   ]
  },
  {
   "cell_type": "markdown",
   "metadata": {},
   "source": [
    "## Load and analyze data\n",
    "### Load data from GCS"
   ]
  },
  {
   "cell_type": "code",
   "execution_count": 10,
   "metadata": {},
   "outputs": [
    {
     "data": {
      "text/plain": [
       "(60, 402)"
      ]
     },
     "execution_count": 10,
     "metadata": {},
     "output_type": "execute_result"
    }
   ],
   "source": [
    "df = pd.read_csv(DATASET_PATH, index_col=0)\n",
    "df.shape"
   ]
  },
  {
   "cell_type": "markdown",
   "metadata": {},
   "source": [
    "### Split into development and testing datasets"
   ]
  },
  {
   "cell_type": "code",
   "execution_count": 11,
   "metadata": {},
   "outputs": [
    {
     "name": "stdout",
     "output_type": "stream",
     "text": [
      "(54, 402)\n",
      "(6, 402)\n"
     ]
    }
   ],
   "source": [
    "TRAINING_DATASET_PATH = \"gs://jk-demo-datasets/gasdata/training.csv\"\n",
    "TESTING_DATASET_PATH = \"gs://jk-demo-datasets/gasdata/testing.csv\"\n",
    "\n",
    "df_train, df_test = train_test_split(df, test_size=0.1)\n",
    "\n",
    "print(df_train.shape)\n",
    "print(df_test.shape)\n",
    "\n",
    "df_train.to_csv(TRAINING_DATASET_PATH, index=False)\n",
    "df_test.to_csv(TESTING_DATASET_PATH, index=False)"
   ]
  },
  {
   "cell_type": "code",
   "execution_count": 12,
   "metadata": {},
   "outputs": [
    {
     "name": "stdout",
     "output_type": "stream",
     "text": [
      "gs://jk-demo-datasets/gasdata/gasdata.csv\n",
      "gs://jk-demo-datasets/gasdata/testing.csv\n",
      "gs://jk-demo-datasets/gasdata/training.csv\n"
     ]
    }
   ],
   "source": [
    "!gsutil ls gs://jk-demo-datasets/gasdata"
   ]
  },
  {
   "cell_type": "markdown",
   "metadata": {},
   "source": [
    "### Analyze training dataset"
   ]
  },
  {
   "cell_type": "code",
   "execution_count": 13,
   "metadata": {},
   "outputs": [
    {
     "data": {
      "text/html": [
       "<div>\n",
       "<style scoped>\n",
       "    .dataframe tbody tr th:only-of-type {\n",
       "        vertical-align: middle;\n",
       "    }\n",
       "\n",
       "    .dataframe tbody tr th {\n",
       "        vertical-align: top;\n",
       "    }\n",
       "\n",
       "    .dataframe thead th {\n",
       "        text-align: right;\n",
       "    }\n",
       "</style>\n",
       "<table border=\"1\" class=\"dataframe\">\n",
       "  <thead>\n",
       "    <tr style=\"text-align: right;\">\n",
       "      <th></th>\n",
       "      <th>octane</th>\n",
       "      <th>NIR.900 nm</th>\n",
       "      <th>NIR.902 nm</th>\n",
       "      <th>NIR.904 nm</th>\n",
       "      <th>NIR.906 nm</th>\n",
       "      <th>NIR.908 nm</th>\n",
       "      <th>NIR.910 nm</th>\n",
       "      <th>NIR.912 nm</th>\n",
       "      <th>NIR.914 nm</th>\n",
       "      <th>NIR.916 nm</th>\n",
       "      <th>...</th>\n",
       "      <th>NIR.1682 nm</th>\n",
       "      <th>NIR.1684 nm</th>\n",
       "      <th>NIR.1686 nm</th>\n",
       "      <th>NIR.1688 nm</th>\n",
       "      <th>NIR.1690 nm</th>\n",
       "      <th>NIR.1692 nm</th>\n",
       "      <th>NIR.1694 nm</th>\n",
       "      <th>NIR.1696 nm</th>\n",
       "      <th>NIR.1698 nm</th>\n",
       "      <th>NIR.1700 nm</th>\n",
       "    </tr>\n",
       "  </thead>\n",
       "  <tbody>\n",
       "    <tr>\n",
       "      <th>48</th>\n",
       "      <td>88.85</td>\n",
       "      <td>-0.059905</td>\n",
       "      <td>-0.053893</td>\n",
       "      <td>-0.049825</td>\n",
       "      <td>-0.045788</td>\n",
       "      <td>-0.039896</td>\n",
       "      <td>-0.037613</td>\n",
       "      <td>-0.035854</td>\n",
       "      <td>-0.039694</td>\n",
       "      <td>-0.043639</td>\n",
       "      <td>...</td>\n",
       "      <td>1.197319</td>\n",
       "      <td>1.213938</td>\n",
       "      <td>1.249290</td>\n",
       "      <td>1.244735</td>\n",
       "      <td>1.267019</td>\n",
       "      <td>1.273849</td>\n",
       "      <td>1.284502</td>\n",
       "      <td>1.297106</td>\n",
       "      <td>1.226739</td>\n",
       "      <td>1.219197</td>\n",
       "    </tr>\n",
       "    <tr>\n",
       "      <th>31</th>\n",
       "      <td>86.30</td>\n",
       "      <td>-0.055856</td>\n",
       "      <td>-0.050983</td>\n",
       "      <td>-0.047003</td>\n",
       "      <td>-0.042624</td>\n",
       "      <td>-0.038003</td>\n",
       "      <td>-0.035975</td>\n",
       "      <td>-0.034708</td>\n",
       "      <td>-0.036853</td>\n",
       "      <td>-0.039795</td>\n",
       "      <td>...</td>\n",
       "      <td>1.222627</td>\n",
       "      <td>1.222856</td>\n",
       "      <td>1.242992</td>\n",
       "      <td>1.264961</td>\n",
       "      <td>1.278480</td>\n",
       "      <td>1.291149</td>\n",
       "      <td>1.223628</td>\n",
       "      <td>1.232818</td>\n",
       "      <td>1.223925</td>\n",
       "      <td>1.203394</td>\n",
       "    </tr>\n",
       "    <tr>\n",
       "      <th>10</th>\n",
       "      <td>88.45</td>\n",
       "      <td>-0.051054</td>\n",
       "      <td>-0.045678</td>\n",
       "      <td>-0.041673</td>\n",
       "      <td>-0.036761</td>\n",
       "      <td>-0.033078</td>\n",
       "      <td>-0.030466</td>\n",
       "      <td>-0.029295</td>\n",
       "      <td>-0.031736</td>\n",
       "      <td>-0.034843</td>\n",
       "      <td>...</td>\n",
       "      <td>1.227318</td>\n",
       "      <td>1.224755</td>\n",
       "      <td>1.238409</td>\n",
       "      <td>1.262493</td>\n",
       "      <td>1.272277</td>\n",
       "      <td>1.289548</td>\n",
       "      <td>1.213103</td>\n",
       "      <td>1.212666</td>\n",
       "      <td>1.216313</td>\n",
       "      <td>1.192221</td>\n",
       "    </tr>\n",
       "    <tr>\n",
       "      <th>45</th>\n",
       "      <td>88.50</td>\n",
       "      <td>-0.055431</td>\n",
       "      <td>-0.049375</td>\n",
       "      <td>-0.046190</td>\n",
       "      <td>-0.042031</td>\n",
       "      <td>-0.037362</td>\n",
       "      <td>-0.035388</td>\n",
       "      <td>-0.033041</td>\n",
       "      <td>-0.036786</td>\n",
       "      <td>-0.039450</td>\n",
       "      <td>...</td>\n",
       "      <td>1.223531</td>\n",
       "      <td>1.245309</td>\n",
       "      <td>1.244297</td>\n",
       "      <td>1.270138</td>\n",
       "      <td>1.284427</td>\n",
       "      <td>1.295979</td>\n",
       "      <td>1.228903</td>\n",
       "      <td>1.236879</td>\n",
       "      <td>1.236562</td>\n",
       "      <td>1.200461</td>\n",
       "    </tr>\n",
       "    <tr>\n",
       "      <th>58</th>\n",
       "      <td>86.60</td>\n",
       "      <td>-0.053693</td>\n",
       "      <td>-0.048020</td>\n",
       "      <td>-0.044677</td>\n",
       "      <td>-0.041021</td>\n",
       "      <td>-0.036254</td>\n",
       "      <td>-0.034531</td>\n",
       "      <td>-0.032428</td>\n",
       "      <td>-0.035264</td>\n",
       "      <td>-0.038362</td>\n",
       "      <td>...</td>\n",
       "      <td>1.217198</td>\n",
       "      <td>1.222375</td>\n",
       "      <td>1.238392</td>\n",
       "      <td>1.252411</td>\n",
       "      <td>1.195963</td>\n",
       "      <td>1.210064</td>\n",
       "      <td>1.199746</td>\n",
       "      <td>1.173102</td>\n",
       "      <td>1.191871</td>\n",
       "      <td>1.150779</td>\n",
       "    </tr>\n",
       "  </tbody>\n",
       "</table>\n",
       "<p>5 rows × 402 columns</p>\n",
       "</div>"
      ],
      "text/plain": [
       "    octane  NIR.900 nm  NIR.902 nm  NIR.904 nm  NIR.906 nm  NIR.908 nm  \\\n",
       "48   88.85   -0.059905   -0.053893   -0.049825   -0.045788   -0.039896   \n",
       "31   86.30   -0.055856   -0.050983   -0.047003   -0.042624   -0.038003   \n",
       "10   88.45   -0.051054   -0.045678   -0.041673   -0.036761   -0.033078   \n",
       "45   88.50   -0.055431   -0.049375   -0.046190   -0.042031   -0.037362   \n",
       "58   86.60   -0.053693   -0.048020   -0.044677   -0.041021   -0.036254   \n",
       "\n",
       "    NIR.910 nm  NIR.912 nm  NIR.914 nm  NIR.916 nm  ...  NIR.1682 nm  \\\n",
       "48   -0.037613   -0.035854   -0.039694   -0.043639  ...     1.197319   \n",
       "31   -0.035975   -0.034708   -0.036853   -0.039795  ...     1.222627   \n",
       "10   -0.030466   -0.029295   -0.031736   -0.034843  ...     1.227318   \n",
       "45   -0.035388   -0.033041   -0.036786   -0.039450  ...     1.223531   \n",
       "58   -0.034531   -0.032428   -0.035264   -0.038362  ...     1.217198   \n",
       "\n",
       "    NIR.1684 nm  NIR.1686 nm  NIR.1688 nm  NIR.1690 nm  NIR.1692 nm  \\\n",
       "48     1.213938     1.249290     1.244735     1.267019     1.273849   \n",
       "31     1.222856     1.242992     1.264961     1.278480     1.291149   \n",
       "10     1.224755     1.238409     1.262493     1.272277     1.289548   \n",
       "45     1.245309     1.244297     1.270138     1.284427     1.295979   \n",
       "58     1.222375     1.238392     1.252411     1.195963     1.210064   \n",
       "\n",
       "    NIR.1694 nm  NIR.1696 nm  NIR.1698 nm  NIR.1700 nm  \n",
       "48     1.284502     1.297106     1.226739     1.219197  \n",
       "31     1.223628     1.232818     1.223925     1.203394  \n",
       "10     1.213103     1.212666     1.216313     1.192221  \n",
       "45     1.228903     1.236879     1.236562     1.200461  \n",
       "58     1.199746     1.173102     1.191871     1.150779  \n",
       "\n",
       "[5 rows x 402 columns]"
      ]
     },
     "execution_count": 13,
     "metadata": {},
     "output_type": "execute_result"
    }
   ],
   "source": [
    "df_train.head()"
   ]
  },
  {
   "cell_type": "code",
   "execution_count": 14,
   "metadata": {},
   "outputs": [
    {
     "data": {
      "text/html": [
       "<div>\n",
       "<style scoped>\n",
       "    .dataframe tbody tr th:only-of-type {\n",
       "        vertical-align: middle;\n",
       "    }\n",
       "\n",
       "    .dataframe tbody tr th {\n",
       "        vertical-align: top;\n",
       "    }\n",
       "\n",
       "    .dataframe thead th {\n",
       "        text-align: right;\n",
       "    }\n",
       "</style>\n",
       "<table border=\"1\" class=\"dataframe\">\n",
       "  <thead>\n",
       "    <tr style=\"text-align: right;\">\n",
       "      <th></th>\n",
       "      <th>octane</th>\n",
       "      <th>NIR.900 nm</th>\n",
       "      <th>NIR.902 nm</th>\n",
       "      <th>NIR.904 nm</th>\n",
       "      <th>NIR.906 nm</th>\n",
       "      <th>NIR.908 nm</th>\n",
       "      <th>NIR.910 nm</th>\n",
       "      <th>NIR.912 nm</th>\n",
       "      <th>NIR.914 nm</th>\n",
       "      <th>NIR.916 nm</th>\n",
       "      <th>...</th>\n",
       "      <th>NIR.1682 nm</th>\n",
       "      <th>NIR.1684 nm</th>\n",
       "      <th>NIR.1686 nm</th>\n",
       "      <th>NIR.1688 nm</th>\n",
       "      <th>NIR.1690 nm</th>\n",
       "      <th>NIR.1692 nm</th>\n",
       "      <th>NIR.1694 nm</th>\n",
       "      <th>NIR.1696 nm</th>\n",
       "      <th>NIR.1698 nm</th>\n",
       "      <th>NIR.1700 nm</th>\n",
       "    </tr>\n",
       "  </thead>\n",
       "  <tbody>\n",
       "    <tr>\n",
       "      <th>count</th>\n",
       "      <td>54.000000</td>\n",
       "      <td>54.000000</td>\n",
       "      <td>54.000000</td>\n",
       "      <td>54.000000</td>\n",
       "      <td>54.000000</td>\n",
       "      <td>54.000000</td>\n",
       "      <td>54.000000</td>\n",
       "      <td>54.000000</td>\n",
       "      <td>54.000000</td>\n",
       "      <td>54.000000</td>\n",
       "      <td>...</td>\n",
       "      <td>54.000000</td>\n",
       "      <td>54.000000</td>\n",
       "      <td>54.000000</td>\n",
       "      <td>54.000000</td>\n",
       "      <td>54.000000</td>\n",
       "      <td>54.000000</td>\n",
       "      <td>54.000000</td>\n",
       "      <td>54.000000</td>\n",
       "      <td>54.000000</td>\n",
       "      <td>54.000000</td>\n",
       "    </tr>\n",
       "    <tr>\n",
       "      <th>mean</th>\n",
       "      <td>87.112963</td>\n",
       "      <td>-0.052801</td>\n",
       "      <td>-0.047410</td>\n",
       "      <td>-0.043568</td>\n",
       "      <td>-0.039102</td>\n",
       "      <td>-0.034653</td>\n",
       "      <td>-0.032341</td>\n",
       "      <td>-0.030778</td>\n",
       "      <td>-0.033543</td>\n",
       "      <td>-0.036682</td>\n",
       "      <td>...</td>\n",
       "      <td>1.206360</td>\n",
       "      <td>1.216651</td>\n",
       "      <td>1.238653</td>\n",
       "      <td>1.253843</td>\n",
       "      <td>1.264493</td>\n",
       "      <td>1.264562</td>\n",
       "      <td>1.231958</td>\n",
       "      <td>1.227659</td>\n",
       "      <td>1.219436</td>\n",
       "      <td>1.202936</td>\n",
       "    </tr>\n",
       "    <tr>\n",
       "      <th>std</th>\n",
       "      <td>1.533438</td>\n",
       "      <td>0.004588</td>\n",
       "      <td>0.004454</td>\n",
       "      <td>0.004533</td>\n",
       "      <td>0.004730</td>\n",
       "      <td>0.004716</td>\n",
       "      <td>0.004894</td>\n",
       "      <td>0.004909</td>\n",
       "      <td>0.004930</td>\n",
       "      <td>0.004694</td>\n",
       "      <td>...</td>\n",
       "      <td>0.030076</td>\n",
       "      <td>0.025961</td>\n",
       "      <td>0.025846</td>\n",
       "      <td>0.027103</td>\n",
       "      <td>0.034925</td>\n",
       "      <td>0.037350</td>\n",
       "      <td>0.035752</td>\n",
       "      <td>0.029970</td>\n",
       "      <td>0.027399</td>\n",
       "      <td>0.027401</td>\n",
       "    </tr>\n",
       "    <tr>\n",
       "      <th>min</th>\n",
       "      <td>83.400000</td>\n",
       "      <td>-0.062839</td>\n",
       "      <td>-0.056232</td>\n",
       "      <td>-0.053075</td>\n",
       "      <td>-0.048156</td>\n",
       "      <td>-0.044493</td>\n",
       "      <td>-0.041965</td>\n",
       "      <td>-0.040467</td>\n",
       "      <td>-0.043202</td>\n",
       "      <td>-0.046477</td>\n",
       "      <td>...</td>\n",
       "      <td>1.107501</td>\n",
       "      <td>1.147547</td>\n",
       "      <td>1.162770</td>\n",
       "      <td>1.170451</td>\n",
       "      <td>1.159782</td>\n",
       "      <td>1.168570</td>\n",
       "      <td>1.148061</td>\n",
       "      <td>1.162526</td>\n",
       "      <td>1.117087</td>\n",
       "      <td>1.095777</td>\n",
       "    </tr>\n",
       "    <tr>\n",
       "      <th>25%</th>\n",
       "      <td>85.625000</td>\n",
       "      <td>-0.055829</td>\n",
       "      <td>-0.050705</td>\n",
       "      <td>-0.046628</td>\n",
       "      <td>-0.042132</td>\n",
       "      <td>-0.037475</td>\n",
       "      <td>-0.035374</td>\n",
       "      <td>-0.034039</td>\n",
       "      <td>-0.036722</td>\n",
       "      <td>-0.039441</td>\n",
       "      <td>...</td>\n",
       "      <td>1.192563</td>\n",
       "      <td>1.203936</td>\n",
       "      <td>1.229723</td>\n",
       "      <td>1.246205</td>\n",
       "      <td>1.260987</td>\n",
       "      <td>1.237560</td>\n",
       "      <td>1.215049</td>\n",
       "      <td>1.216261</td>\n",
       "      <td>1.216474</td>\n",
       "      <td>1.192724</td>\n",
       "    </tr>\n",
       "    <tr>\n",
       "      <th>50%</th>\n",
       "      <td>87.450000</td>\n",
       "      <td>-0.052702</td>\n",
       "      <td>-0.047519</td>\n",
       "      <td>-0.043758</td>\n",
       "      <td>-0.039809</td>\n",
       "      <td>-0.035467</td>\n",
       "      <td>-0.033232</td>\n",
       "      <td>-0.031399</td>\n",
       "      <td>-0.034664</td>\n",
       "      <td>-0.037351</td>\n",
       "      <td>...</td>\n",
       "      <td>1.211580</td>\n",
       "      <td>1.222615</td>\n",
       "      <td>1.241347</td>\n",
       "      <td>1.259448</td>\n",
       "      <td>1.274579</td>\n",
       "      <td>1.276345</td>\n",
       "      <td>1.224927</td>\n",
       "      <td>1.228796</td>\n",
       "      <td>1.224112</td>\n",
       "      <td>1.203160</td>\n",
       "    </tr>\n",
       "    <tr>\n",
       "      <th>75%</th>\n",
       "      <td>88.450000</td>\n",
       "      <td>-0.049965</td>\n",
       "      <td>-0.044267</td>\n",
       "      <td>-0.040564</td>\n",
       "      <td>-0.036211</td>\n",
       "      <td>-0.031922</td>\n",
       "      <td>-0.029570</td>\n",
       "      <td>-0.028125</td>\n",
       "      <td>-0.030366</td>\n",
       "      <td>-0.033747</td>\n",
       "      <td>...</td>\n",
       "      <td>1.223737</td>\n",
       "      <td>1.228021</td>\n",
       "      <td>1.251467</td>\n",
       "      <td>1.269753</td>\n",
       "      <td>1.285856</td>\n",
       "      <td>1.292118</td>\n",
       "      <td>1.241062</td>\n",
       "      <td>1.237108</td>\n",
       "      <td>1.234461</td>\n",
       "      <td>1.218190</td>\n",
       "    </tr>\n",
       "    <tr>\n",
       "      <th>max</th>\n",
       "      <td>88.900000</td>\n",
       "      <td>-0.041806</td>\n",
       "      <td>-0.036621</td>\n",
       "      <td>-0.032430</td>\n",
       "      <td>-0.026807</td>\n",
       "      <td>-0.021276</td>\n",
       "      <td>-0.018356</td>\n",
       "      <td>-0.016116</td>\n",
       "      <td>-0.019680</td>\n",
       "      <td>-0.024589</td>\n",
       "      <td>...</td>\n",
       "      <td>1.276561</td>\n",
       "      <td>1.268445</td>\n",
       "      <td>1.293267</td>\n",
       "      <td>1.300765</td>\n",
       "      <td>1.316014</td>\n",
       "      <td>1.313725</td>\n",
       "      <td>1.316089</td>\n",
       "      <td>1.324185</td>\n",
       "      <td>1.264217</td>\n",
       "      <td>1.254192</td>\n",
       "    </tr>\n",
       "  </tbody>\n",
       "</table>\n",
       "<p>8 rows × 402 columns</p>\n",
       "</div>"
      ],
      "text/plain": [
       "          octane  NIR.900 nm  NIR.902 nm  NIR.904 nm  NIR.906 nm  NIR.908 nm  \\\n",
       "count  54.000000   54.000000   54.000000   54.000000   54.000000   54.000000   \n",
       "mean   87.112963   -0.052801   -0.047410   -0.043568   -0.039102   -0.034653   \n",
       "std     1.533438    0.004588    0.004454    0.004533    0.004730    0.004716   \n",
       "min    83.400000   -0.062839   -0.056232   -0.053075   -0.048156   -0.044493   \n",
       "25%    85.625000   -0.055829   -0.050705   -0.046628   -0.042132   -0.037475   \n",
       "50%    87.450000   -0.052702   -0.047519   -0.043758   -0.039809   -0.035467   \n",
       "75%    88.450000   -0.049965   -0.044267   -0.040564   -0.036211   -0.031922   \n",
       "max    88.900000   -0.041806   -0.036621   -0.032430   -0.026807   -0.021276   \n",
       "\n",
       "       NIR.910 nm  NIR.912 nm  NIR.914 nm  NIR.916 nm  ...  NIR.1682 nm  \\\n",
       "count   54.000000   54.000000   54.000000   54.000000  ...    54.000000   \n",
       "mean    -0.032341   -0.030778   -0.033543   -0.036682  ...     1.206360   \n",
       "std      0.004894    0.004909    0.004930    0.004694  ...     0.030076   \n",
       "min     -0.041965   -0.040467   -0.043202   -0.046477  ...     1.107501   \n",
       "25%     -0.035374   -0.034039   -0.036722   -0.039441  ...     1.192563   \n",
       "50%     -0.033232   -0.031399   -0.034664   -0.037351  ...     1.211580   \n",
       "75%     -0.029570   -0.028125   -0.030366   -0.033747  ...     1.223737   \n",
       "max     -0.018356   -0.016116   -0.019680   -0.024589  ...     1.276561   \n",
       "\n",
       "       NIR.1684 nm  NIR.1686 nm  NIR.1688 nm  NIR.1690 nm  NIR.1692 nm  \\\n",
       "count    54.000000    54.000000    54.000000    54.000000    54.000000   \n",
       "mean      1.216651     1.238653     1.253843     1.264493     1.264562   \n",
       "std       0.025961     0.025846     0.027103     0.034925     0.037350   \n",
       "min       1.147547     1.162770     1.170451     1.159782     1.168570   \n",
       "25%       1.203936     1.229723     1.246205     1.260987     1.237560   \n",
       "50%       1.222615     1.241347     1.259448     1.274579     1.276345   \n",
       "75%       1.228021     1.251467     1.269753     1.285856     1.292118   \n",
       "max       1.268445     1.293267     1.300765     1.316014     1.313725   \n",
       "\n",
       "       NIR.1694 nm  NIR.1696 nm  NIR.1698 nm  NIR.1700 nm  \n",
       "count    54.000000    54.000000    54.000000    54.000000  \n",
       "mean      1.231958     1.227659     1.219436     1.202936  \n",
       "std       0.035752     0.029970     0.027399     0.027401  \n",
       "min       1.148061     1.162526     1.117087     1.095777  \n",
       "25%       1.215049     1.216261     1.216474     1.192724  \n",
       "50%       1.224927     1.228796     1.224112     1.203160  \n",
       "75%       1.241062     1.237108     1.234461     1.218190  \n",
       "max       1.316089     1.324185     1.264217     1.254192  \n",
       "\n",
       "[8 rows x 402 columns]"
      ]
     },
     "execution_count": 14,
     "metadata": {},
     "output_type": "execute_result"
    }
   ],
   "source": [
    "df_train.describe()"
   ]
  },
  {
   "cell_type": "markdown",
   "metadata": {},
   "source": [
    "## Train in notebook\n",
    "### Tune hyperparameters"
   ]
  },
  {
   "cell_type": "code",
   "execution_count": 15,
   "metadata": {},
   "outputs": [
    {
     "name": "stdout",
     "output_type": "stream",
     "text": [
      "Best estimator:\n",
      "{'reduce_dim__n_components': 6, 'regress__alpha': 0.05}\n",
      "Best score\n",
      "-0.05173889218409148\n"
     ]
    }
   ],
   "source": [
    "# Set up grid search\n",
    "n_features_options = [2, 3, 4, 6, 8]\n",
    "l2_reg_options = [0.05, 0.1, 0.2, 0.3]\n",
    "\n",
    "pipeline = Pipeline([\n",
    "  ('scale', StandardScaler()),\n",
    "  ('reduce_dim', PCA()),\n",
    "  ('regress', Ridge())\n",
    "])\n",
    "\n",
    "param_grid = [\n",
    "  {\n",
    "    'reduce_dim__n_components': n_features_options,\n",
    "    'regress__alpha': l2_reg_options\n",
    "  }\n",
    "]\n",
    "\n",
    "grid = GridSearchCV(pipeline, cv=10, n_jobs=None, param_grid=param_grid, scoring='neg_mean_squared_error', iid=False)\n",
    "\n",
    "y = df_train.octane\n",
    "X = df_train.drop('octane', axis=1)\n",
    "  \n",
    "grid.fit(X, y)\n",
    "\n",
    "print(\"Best estimator:\")\n",
    "print(grid.best_params_)\n",
    "print(\"Best score\")\n",
    "print(grid.best_score_)"
   ]
  },
  {
   "cell_type": "markdown",
   "metadata": {},
   "source": [
    "### Retrain the best estimator on the full dataset"
   ]
  },
  {
   "cell_type": "code",
   "execution_count": 16,
   "metadata": {},
   "outputs": [],
   "source": [
    "best_estimator = grid.best_estimator_\n",
    "trained_pipeline = best_estimator.fit(X, y)"
   ]
  },
  {
   "cell_type": "markdown",
   "metadata": {},
   "source": [
    "### Save the model"
   ]
  },
  {
   "cell_type": "code",
   "execution_count": 17,
   "metadata": {},
   "outputs": [
    {
     "name": "stdout",
     "output_type": "stream",
     "text": [
      "Copying file:///tmp/model.joblib [Content-Type=application/octet-stream]...\n",
      "/ [1 files][ 33.1 KiB/ 33.1 KiB]                                                \n",
      "Operation completed over 1 objects/33.1 KiB.                                     \n"
     ]
    }
   ],
   "source": [
    "LOCAL_PATH = '/tmp/model.joblib'\n",
    "GCS_PATH = \"{}/models/trained-in-notebook/model.joblib\".format(ARTIFACT_BUCKET)\n",
    "\n",
    "joblib.dump(value=trained_pipeline, filename=LOCAL_PATH)\n",
    "\n",
    "!gsutil cp $LOCAL_PATH $GCS_PATH"
   ]
  },
  {
   "cell_type": "markdown",
   "metadata": {},
   "source": [
    "## Test the model"
   ]
  },
  {
   "cell_type": "code",
   "execution_count": 18,
   "metadata": {},
   "outputs": [
    {
     "name": "stdout",
     "output_type": "stream",
     "text": [
      "Copying gs://jk-demo-artifacts/models/trained-in-notebook/model.joblib...\n",
      "/ [1 files][ 33.1 KiB/ 33.1 KiB]                                                \n",
      "Operation completed over 1 objects/33.1 KiB.                                     \n"
     ]
    }
   ],
   "source": [
    "!gsutil cp $GCS_PATH $LOCAL_PATH \n",
    "predictor = joblib.load(LOCAL_PATH)\n",
    "\n",
    "y = df_test.octane\n",
    "X = df_test.drop('octane', axis=1)\n",
    "y_hat = predictor.predict(X)"
   ]
  },
  {
   "cell_type": "code",
   "execution_count": 19,
   "metadata": {},
   "outputs": [
    {
     "name": "stdout",
     "output_type": "stream",
     "text": [
      "[(88.4, 88.30090912663141), (88.35, 88.36616544328703), (89.6, 89.28927704068076), (88.2, 88.23227163126668), (85.4, 85.65863522082009), (86.6, 86.59517917099382)]\n"
     ]
    }
   ],
   "source": [
    "print(list(zip(y, y_hat)))"
   ]
  },
  {
   "cell_type": "code",
   "execution_count": 20,
   "metadata": {},
   "outputs": [
    {
     "data": {
      "text/plain": [
       "0.0290976593692155"
      ]
     },
     "execution_count": 20,
     "metadata": {},
     "output_type": "execute_result"
    }
   ],
   "source": [
    "mean_squared_error(y, y_hat)"
   ]
  },
  {
   "cell_type": "code",
   "execution_count": null,
   "metadata": {},
   "outputs": [],
   "source": []
  }
 ],
 "metadata": {
  "kernelspec": {
   "display_name": "Python 3",
   "language": "python",
   "name": "python3"
  },
  "language_info": {
   "codemirror_mode": {
    "name": "ipython",
    "version": 3
   },
   "file_extension": ".py",
   "mimetype": "text/x-python",
   "name": "python",
   "nbconvert_exporter": "python",
   "pygments_lexer": "ipython3",
   "version": "3.7.3"
  }
 },
 "nbformat": 4,
 "nbformat_minor": 4
}
