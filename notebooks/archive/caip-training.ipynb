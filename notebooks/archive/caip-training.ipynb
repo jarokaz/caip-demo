{
 "cells": [
  {
   "cell_type": "markdown",
   "metadata": {},
   "source": [
    "# AI Platform Training with scikit-learn"
   ]
  },
  {
   "cell_type": "code",
   "execution_count": 40,
   "metadata": {},
   "outputs": [
    {
     "data": {
      "text/plain": [
       "'0.21.2'"
      ]
     },
     "execution_count": 40,
     "metadata": {},
     "output_type": "execute_result"
    }
   ],
   "source": [
    "import sklearn\n",
    "\n",
    "sklearn.__version__"
   ]
  },
  {
   "cell_type": "markdown",
   "metadata": {},
   "source": [
    "## Create a training application\n",
    "### Create a canonical folder structure"
   ]
  },
  {
   "cell_type": "code",
   "execution_count": 27,
   "metadata": {},
   "outputs": [],
   "source": [
    "import os\n",
    "\n",
    "app_folder = '../training_app/trainer'\n",
    "os.makedirs(app_folder, exist_ok=True)\n",
    "\n",
    "!touch $app_folder/__init__.py"
   ]
  },
  {
   "cell_type": "markdown",
   "metadata": {},
   "source": [
    "### Create a training script"
   ]
  },
  {
   "cell_type": "code",
   "execution_count": 41,
   "metadata": {},
   "outputs": [
    {
     "name": "stdout",
     "output_type": "stream",
     "text": [
      "Overwriting ../training_app/trainer/train.py\n"
     ]
    }
   ],
   "source": [
    "%%writefile $app_folder/train.py\n",
    "\n",
    "import fire\n",
    "import joblib\n",
    "import numpy as np\n",
    "import pandas as pd\n",
    "\n",
    "\n",
    "from sklearn.cross_decomposition import PLSRegression\n",
    "from sklearn.decomposition import PCA\n",
    "from sklearn.feature_selection import SelectKBest, chi2\n",
    "from sklearn.linear_model import Ridge\n",
    "from sklearn.manifold import TSNE \n",
    "from sklearn.metrics import mean_squared_error\n",
    "from sklearn.model_selection import GridSearchCV\n",
    "from sklearn.model_selection import train_test_split\n",
    "from sklearn.pipeline import Pipeline\n",
    "from sklearn.preprocessing import StandardScaler\n",
    "\n",
    "def train(job_dir, data_path, n_features_options, l2_reg_options):\n",
    "    \n",
    "  import sklearn\n",
    "  print(sklearn.__version__)\n",
    "  return\n",
    "    \n",
    "  # Load data from GCS\n",
    "  df_train = pd.read_csv(data_path, index_col=0)\n",
    "    \n",
    "  # Set up grid search\n",
    "  pipeline = Pipeline([\n",
    "    ('scale', StandardScaler()),\n",
    "    ('reduce_dim', PCA()),\n",
    "    ('regress', Ridge())\n",
    "  ])\n",
    "\n",
    "  param_grid = [\n",
    "    {\n",
    "        'reduce_dim': [PCA()],\n",
    "        'reduce_dim__n_components': n_features_options,\n",
    "        'regress': [Ridge()],\n",
    "        'regress__alpha': l2_reg_options\n",
    "    },\n",
    "    {\n",
    "        'reduce_dim': ['passthrough'],\n",
    "        'regress': [PLSRegression(scale=False)],\n",
    "        'regress__n_components': n_features_options\n",
    "    }\n",
    "  ]\n",
    "\n",
    "  grid = GridSearchCV(pipeline, cv=10, n_jobs=None, param_grid=param_grid, scoring='neg_mean_squared_error')\n",
    "\n",
    "  y = df_train.octane\n",
    "  X = df_train.drop('octane', axis=1)\n",
    "\n",
    "  grid.fit(X, y)\n",
    "\n",
    "  print(\"Best estimator: {}\".format(grid.best_params_))\n",
    "  print(\"Best score: {}\".format(grid.best_score_))\n",
    "    \n",
    "if __name__ == \"__main__\":\n",
    "  fire.Fire(train)"
   ]
  },
  {
   "cell_type": "markdown",
   "metadata": {},
   "source": [
    "### Create a setup.py to install dependencies"
   ]
  },
  {
   "cell_type": "code",
   "execution_count": 46,
   "metadata": {},
   "outputs": [
    {
     "name": "stdout",
     "output_type": "stream",
     "text": [
      "Overwriting ../training_app/trainer/../setup.py\n"
     ]
    }
   ],
   "source": [
    "%%writefile $app_folder/../setup.py\n",
    "\n",
    "from setuptools import find_packages\n",
    "from setuptools import setup\n",
    "\n",
    "REQUIRED_PACKAGES = ['fire', 'gcsfs', 'sklearn>=0.21.0']\n",
    "\n",
    "setup(\n",
    "    name='trainer',\n",
    "    version='0.1',\n",
    "    install_requires=REQUIRED_PACKAGES,\n",
    "    packages=find_packages(),\n",
    "    include_package_data=True,\n",
    "    description='My training application package.'\n",
    ")"
   ]
  },
  {
   "cell_type": "markdown",
   "metadata": {},
   "source": [
    "## Run training locally"
   ]
  },
  {
   "cell_type": "code",
   "execution_count": 43,
   "metadata": {},
   "outputs": [
    {
     "name": "stdout",
     "output_type": "stream",
     "text": [
      "0.21.2\n"
     ]
    }
   ],
   "source": [
    "%%bash\n",
    "\n",
    "TRAINING_PACKAGE_PATH=\"../training_app/trainer\"\n",
    "MAIN_TRAINER_MODULE=\"trainer.train\"\n",
    "JOB_DIR=\"../job_dir\"\n",
    "DATA_PATH=\"gs://jk-demo-datasets/gasdata/gasdata.csv\"\n",
    "N_FEATURES_OPTIONS=[2,4,6]\n",
    "L2_REG_OPTIONS=[0.1,0.2,0.3,0.5]\n",
    "\n",
    "gcloud ai-platform local train \\\n",
    "  --job-dir $JOB_DIR \\\n",
    "  --package-path $TRAINING_PACKAGE_PATH \\\n",
    "  --module-name $MAIN_TRAINER_MODULE \\\n",
    "  -- \\\n",
    "  --data_path $DATA_PATH \\\n",
    "  --n_features_options $N_FEATURES_OPTIONS \\\n",
    "  --l2_reg_options $L2_REG_OPTIONS\n",
    "\n"
   ]
  },
  {
   "cell_type": "markdown",
   "metadata": {},
   "source": [
    "## Run training on AI Platform Training"
   ]
  },
  {
   "cell_type": "code",
   "execution_count": 47,
   "metadata": {},
   "outputs": [
    {
     "name": "stdout",
     "output_type": "stream",
     "text": [
      "jobId: JOB_20190817_145004\n",
      "state: QUEUED\n"
     ]
    },
    {
     "name": "stderr",
     "output_type": "stream",
     "text": [
      "Job [JOB_20190817_145004] submitted successfully.\n",
      "Your job is still active. You may view the status of your job with the command\n",
      "\n",
      "  $ gcloud ai-platform jobs describe JOB_20190817_145004\n",
      "\n",
      "or continue streaming the logs with the command\n",
      "\n",
      "  $ gcloud ai-platform jobs stream-logs JOB_20190817_145004\n"
     ]
    }
   ],
   "source": [
    "%%bash\n",
    "\n",
    "JOB_NAME=\"JOB_$(date +\"%Y%m%d_%H%M%S\")\"\n",
    "REGION=us-west1\n",
    "RUNTIME_VERSION=1.14\n",
    "PYTHON_VERSION=3.5\n",
    "SCALE_TIER=BASIC\n",
    "\n",
    "TRAINING_PACKAGE_PATH=\"../training_app/trainer\"\n",
    "MAIN_TRAINER_MODULE=\"trainer.train\"\n",
    "JOB_DIR=\"gs://jk-demo-jobdir/${JOB_NAME}\"\n",
    "DATA_PATH=\"gs://jk-demo-datasets/gasdata/gasdata.csv\"\n",
    "N_FEATURES_OPTIONS=[2,4,6]\n",
    "L2_REG_OPTIONS=[0.1,0.2,0.3,0.5]\n",
    "\n",
    "gcloud ai-platform jobs submit training $JOB_NAME \\\n",
    "  --job-dir $JOB_DIR \\\n",
    "  --package-path $TRAINING_PACKAGE_PATH \\\n",
    "  --module-name $MAIN_TRAINER_MODULE \\\n",
    "  --region $REGION \\\n",
    "  --runtime-version=$RUNTIME_VERSION \\\n",
    "  --python-version=$PYTHON_VERSION \\\n",
    "  --scale-tier $SCALE_TIER \\\n",
    "  -- \\\n",
    "  --data_path $DATA_PATH \\\n",
    "  --n_features_options $N_FEATURES_OPTIONS \\\n",
    "  --l2_reg_options $L2_REG_OPTIONS"
   ]
  },
  {
   "cell_type": "code",
   "execution_count": 35,
   "metadata": {},
   "outputs": [
    {
     "name": "stdout",
     "output_type": "stream",
     "text": [
      "createTime: '2019-08-17T14:34:18Z'\n",
      "etag: xDlfxwSWxFc=\n",
      "jobId: JOB_20190817_143416\n",
      "state: PREPARING\n",
      "trainingInput:\n",
      "  args:\n",
      "  - --data_path\n",
      "  - gs://jk-demo-datasets/gasdata/gasdata.csv\n",
      "  - --n_features_options\n",
      "  - '[2,4,6]'\n",
      "  - --l2_reg_options\n",
      "  - '[0.1,0.2,0.3,0.5]'\n",
      "  jobDir: gs://jk-demo-jobdir/JOB_20190817_143416\n",
      "  packageUris:\n",
      "  - gs://jk-demo-jobdir/JOB_20190817_143416/packages/612269193884345b5ec428f358455e4c447025dedee485fecc40bbd2cf41bf01/trainer-0.1.tar.gz\n",
      "  pythonModule: trainer.train\n",
      "  pythonVersion: '3.5'\n",
      "  region: us-west1\n",
      "  runtimeVersion: '1.14'\n",
      "trainingOutput: {}\n",
      "\n",
      "View job in the Cloud Console at:\n",
      "https://console.cloud.google.com/mlengine/jobs/JOB_20190817_143416?project=jk-sandbox12\n",
      "\n",
      "View logs at:\n",
      "https://console.cloud.google.com/logs?resource=ml.googleapis.com%2Fjob_id%2FJOB_20190817_143416&project=jk-sandbox12\n"
     ]
    }
   ],
   "source": [
    "!gcloud ai-platform jobs describe JOB_20190817_143416"
   ]
  },
  {
   "cell_type": "code",
   "execution_count": 48,
   "metadata": {},
   "outputs": [
    {
     "name": "stdout",
     "output_type": "stream",
     "text": [
      "INFO\t2019-08-17 14:50:06 +0000\tservice\t\tValidating job requirements...\n",
      "INFO\t2019-08-17 14:50:06 +0000\tservice\t\tJob creation request has been successfully validated.\n",
      "INFO\t2019-08-17 14:50:06 +0000\tservice\t\tJob JOB_20190817_145004 is queued.\n",
      "INFO\t2019-08-17 14:50:06 +0000\tservice\t\tWaiting for job to be provisioned.\n",
      "INFO\t2019-08-17 14:50:09 +0000\tservice\t\tWaiting for training program to start.\n",
      "INFO\t2019-08-17 14:50:48 +0000\tmaster-replica-0\t\tRunning task with arguments: --cluster={\"master\": [\"127.0.0.1:2222\"]} --task={\"type\": \"master\", \"index\": 0} --job={  \"package_uris\": [\"gs://jk-demo-jobdir/JOB_20190817_145004/packages/28e38208e29925f04b968dc8ee6701083aaf6fe82bfbaf0b19f0c43009a8d43d/trainer-0.1.tar.gz\"],  \"python_module\": \"trainer.train\",  \"args\": [\"--data_path\", \"gs://jk-demo-datasets/gasdata/gasdata.csv\", \"--n_features_options\", \"[2,4,6]\", \"--l2_reg_options\", \"[0.1,0.2,0.3,0.5]\"],  \"region\": \"us-west1\",  \"runtime_version\": \"1.14\",  \"job_dir\": \"gs://jk-demo-jobdir/JOB_20190817_145004\",  \"run_on_raw_vm\": true,  \"python_version\": \"3.5\"}\n",
      "WARNING\t2019-08-17 14:51:05 +0000\tmaster-replica-0\t\tFrom /runcloudml.py:676: The name tf.ConfigProto is deprecated. Please use tf.compat.v1.ConfigProto instead.\n",
      "WARNING\t2019-08-17 14:51:05 +0000\tmaster-replica-0\t\tFrom /runcloudml.py:677: The name tf.GraphOptions is deprecated. Please use tf.compat.v1.GraphOptions instead.\n",
      "WARNING\t2019-08-17 14:51:05 +0000\tmaster-replica-0\t\tFrom /runcloudml.py:678: The name tf.OptimizerOptions is deprecated. Please use tf.compat.v1.OptimizerOptions instead.\n",
      "WARNING\t2019-08-17 14:51:05 +0000\tmaster-replica-0\t\tFrom /runcloudml.py:681: The name tf.Session is deprecated. Please use tf.compat.v1.Session instead.\n",
      "WARNING\t2019-08-17 14:51:05 +0000\tmaster-replica-0\t\tFrom /runcloudml.py:682: The name tf.global_variables_initializer is deprecated. Please use tf.compat.v1.global_variables_initializer instead.\n",
      "INFO\t2019-08-17 14:51:24 +0000\tmaster-replica-0\t\tRunning module trainer.train.\n",
      "INFO\t2019-08-17 14:51:24 +0000\tmaster-replica-0\t\tDownloading the package: gs://jk-demo-jobdir/JOB_20190817_145004/packages/28e38208e29925f04b968dc8ee6701083aaf6fe82bfbaf0b19f0c43009a8d43d/trainer-0.1.tar.gz\n",
      "INFO\t2019-08-17 14:51:24 +0000\tmaster-replica-0\t\tRunning command: gsutil -q cp gs://jk-demo-jobdir/JOB_20190817_145004/packages/28e38208e29925f04b968dc8ee6701083aaf6fe82bfbaf0b19f0c43009a8d43d/trainer-0.1.tar.gz trainer-0.1.tar.gz\n",
      "INFO\t2019-08-17 14:51:27 +0000\tmaster-replica-0\t\tInstalling the package: gs://jk-demo-jobdir/JOB_20190817_145004/packages/28e38208e29925f04b968dc8ee6701083aaf6fe82bfbaf0b19f0c43009a8d43d/trainer-0.1.tar.gz\n",
      "INFO\t2019-08-17 14:51:27 +0000\tmaster-replica-0\t\tRunning command: pip3 install --user --upgrade --force-reinstall --no-deps trainer-0.1.tar.gz\n",
      "INFO\t2019-08-17 14:51:28 +0000\tmaster-replica-0\t\tProcessing ./trainer-0.1.tar.gz\n",
      "INFO\t2019-08-17 14:51:28 +0000\tmaster-replica-0\t\tGenerating grammar tables from /usr/lib/python3.5/lib2to3/Grammar.txt\n",
      "INFO\t2019-08-17 14:51:28 +0000\tmaster-replica-0\t\tGenerating grammar tables from /usr/lib/python3.5/lib2to3/PatternGrammar.txt\n",
      "INFO\t2019-08-17 14:51:28 +0000\tmaster-replica-0\t\tBuilding wheels for collected packages: trainer\n",
      "INFO\t2019-08-17 14:51:28 +0000\tmaster-replica-0\t\t  Building wheel for trainer (setup.py): started\n",
      "INFO\t2019-08-17 14:51:29 +0000\tmaster-replica-0\t\tGenerating grammar tables from /usr/lib/python3.5/lib2to3/Grammar.txt\n",
      "INFO\t2019-08-17 14:51:29 +0000\tmaster-replica-0\t\tGenerating grammar tables from /usr/lib/python3.5/lib2to3/PatternGrammar.txt\n",
      "INFO\t2019-08-17 14:51:29 +0000\tmaster-replica-0\t\t  Building wheel for trainer (setup.py): finished with status 'done'\n",
      "INFO\t2019-08-17 14:51:29 +0000\tmaster-replica-0\t\t  Created wheel for trainer: filename=trainer-0.1-cp35-none-any.whl size=2013 sha256=d6b5cdb4373c6028d22987902a8421cc3665dbb94190bf4f113b98106c9c8000\n",
      "INFO\t2019-08-17 14:51:29 +0000\tmaster-replica-0\t\t  Stored in directory: /root/.cache/pip/wheels/e8/0c/c7/b77d64796dbbac82503870c4881d606fa27e63942e07c75f0e\n",
      "INFO\t2019-08-17 14:51:29 +0000\tmaster-replica-0\t\tSuccessfully built trainer\n",
      "INFO\t2019-08-17 14:51:29 +0000\tmaster-replica-0\t\tInstalling collected packages: trainer\n",
      "INFO\t2019-08-17 14:51:29 +0000\tmaster-replica-0\t\tSuccessfully installed trainer-0.1\n",
      "ERROR\t2019-08-17 14:51:29 +0000\tmaster-replica-0\t\tWARNING: You are using pip version 19.2.1, however version 19.2.2 is available.\n",
      "ERROR\t2019-08-17 14:51:29 +0000\tmaster-replica-0\t\tYou should consider upgrading via the 'pip install --upgrade pip' command.\n",
      "INFO\t2019-08-17 14:51:29 +0000\tmaster-replica-0\t\tRunning command: pip3 install --user trainer-0.1.tar.gz\n",
      "INFO\t2019-08-17 14:51:30 +0000\tmaster-replica-0\t\tProcessing ./trainer-0.1.tar.gz\n",
      "INFO\t2019-08-17 14:51:30 +0000\tmaster-replica-0\t\tGenerating grammar tables from /usr/lib/python3.5/lib2to3/Grammar.txt\n",
      "INFO\t2019-08-17 14:51:30 +0000\tmaster-replica-0\t\tGenerating grammar tables from /usr/lib/python3.5/lib2to3/PatternGrammar.txt\n",
      "INFO\t2019-08-17 14:51:30 +0000\tmaster-replica-0\t\tCollecting fire (from trainer==0.1)\n",
      "INFO\t2019-08-17 14:51:30 +0000\tmaster-replica-0\t\t  Downloading https://files.pythonhosted.org/packages/d9/69/faeaae8687f4de0f5973694d02e9d6c3eb827636a009157352d98de1129e/fire-0.2.1.tar.gz (76kB)\n",
      "INFO\t2019-08-17 14:51:31 +0000\tmaster-replica-0\t\tGenerating grammar tables from /usr/lib/python3.5/lib2to3/Grammar.txt\n",
      "INFO\t2019-08-17 14:51:31 +0000\tmaster-replica-0\t\tGenerating grammar tables from /usr/lib/python3.5/lib2to3/PatternGrammar.txt\n",
      "INFO\t2019-08-17 14:51:31 +0000\tmaster-replica-0\t\tCollecting gcsfs (from trainer==0.1)\n",
      "INFO\t2019-08-17 14:51:31 +0000\tmaster-replica-0\t\t  Downloading https://files.pythonhosted.org/packages/f8/35/65faba9cdf8f6df166ec4005cf1722fb699c034380f6acb897f354b464a7/gcsfs-0.2.3.tar.gz (51kB)\n",
      "INFO\t2019-08-17 14:51:31 +0000\tmaster-replica-0\t\tGenerating grammar tables from /usr/lib/python3.5/lib2to3/Grammar.txt\n",
      "INFO\t2019-08-17 14:51:31 +0000\tmaster-replica-0\t\tGenerating grammar tables from /usr/lib/python3.5/lib2to3/PatternGrammar.txt\n",
      "INFO\t2019-08-17 14:51:31 +0000\tmaster-replica-0\t\tCollecting sklearn>=0.21.0 (from trainer==0.1)\n",
      "ERROR\t2019-08-17 14:51:31 +0000\tmaster-replica-0\t\t  ERROR: Could not find a version that satisfies the requirement sklearn>=0.21.0 (from trainer==0.1) (from versions: 0.0)\n",
      "ERROR\t2019-08-17 14:51:31 +0000\tmaster-replica-0\t\tERROR: No matching distribution found for sklearn>=0.21.0 (from trainer==0.1)\n",
      "ERROR\t2019-08-17 14:51:31 +0000\tmaster-replica-0\t\tWARNING: You are using pip version 19.2.1, however version 19.2.2 is available.\n",
      "ERROR\t2019-08-17 14:51:31 +0000\tmaster-replica-0\t\tYou should consider upgrading via the 'pip install --upgrade pip' command.\n",
      "WARNING\t2019-08-17 14:51:32 +0000\tmaster-replica-0\t\tInstallation of package failed on try 1/2: Command '['pip3', 'install', '--user', 'trainer-0.1.tar.gz']' returned non-zero exit status 1\n",
      "WARNING\t2019-08-17 14:51:32 +0000\tmaster-replica-0\t\tRetrying ...\n",
      "INFO\t2019-08-17 14:51:32 +0000\tmaster-replica-0\t\tRunning command: pip3 install --user --upgrade --force-reinstall --no-deps trainer-0.1.tar.gz\n",
      "INFO\t2019-08-17 14:51:32 +0000\tmaster-replica-0\t\tProcessing ./trainer-0.1.tar.gz\n",
      "INFO\t2019-08-17 14:51:32 +0000\tmaster-replica-0\t\tGenerating grammar tables from /usr/lib/python3.5/lib2to3/Grammar.txt\n",
      "INFO\t2019-08-17 14:51:32 +0000\tmaster-replica-0\t\tGenerating grammar tables from /usr/lib/python3.5/lib2to3/PatternGrammar.txt\n",
      "INFO\t2019-08-17 14:51:33 +0000\tmaster-replica-0\t\tBuilding wheels for collected packages: trainer\n",
      "INFO\t2019-08-17 14:51:33 +0000\tmaster-replica-0\t\t  Building wheel for trainer (setup.py): started\n",
      "INFO\t2019-08-17 14:51:33 +0000\tmaster-replica-0\t\tGenerating grammar tables from /usr/lib/python3.5/lib2to3/Grammar.txt\n",
      "INFO\t2019-08-17 14:51:33 +0000\tmaster-replica-0\t\tGenerating grammar tables from /usr/lib/python3.5/lib2to3/PatternGrammar.txt\n",
      "INFO\t2019-08-17 14:51:33 +0000\tmaster-replica-0\t\t  Building wheel for trainer (setup.py): finished with status 'done'\n",
      "INFO\t2019-08-17 14:51:33 +0000\tmaster-replica-0\t\t  Created wheel for trainer: filename=trainer-0.1-cp35-none-any.whl size=2013 sha256=990c7aed7363c0e7ae0b2e82dabb3037455d09560ab6ec475f480d06b382ec7c\n",
      "INFO\t2019-08-17 14:51:33 +0000\tmaster-replica-0\t\t  Stored in directory: /root/.cache/pip/wheels/e8/0c/c7/b77d64796dbbac82503870c4881d606fa27e63942e07c75f0e\n",
      "INFO\t2019-08-17 14:51:33 +0000\tmaster-replica-0\t\tSuccessfully built trainer\n",
      "INFO\t2019-08-17 14:51:33 +0000\tmaster-replica-0\t\tInstalling collected packages: trainer\n",
      "INFO\t2019-08-17 14:51:33 +0000\tmaster-replica-0\t\t  Found existing installation: trainer 0.1\n",
      "INFO\t2019-08-17 14:51:33 +0000\tmaster-replica-0\t\t    Uninstalling trainer-0.1:\n",
      "INFO\t2019-08-17 14:51:33 +0000\tmaster-replica-0\t\t      Successfully uninstalled trainer-0.1\n",
      "INFO\t2019-08-17 14:51:33 +0000\tmaster-replica-0\t\tSuccessfully installed trainer-0.1\n",
      "ERROR\t2019-08-17 14:51:33 +0000\tmaster-replica-0\t\tWARNING: You are using pip version 19.2.1, however version 19.2.2 is available.\n",
      "ERROR\t2019-08-17 14:51:33 +0000\tmaster-replica-0\t\tYou should consider upgrading via the 'pip install --upgrade pip' command.\n",
      "INFO\t2019-08-17 14:51:33 +0000\tmaster-replica-0\t\tRunning command: pip3 install --user trainer-0.1.tar.gz\n",
      "INFO\t2019-08-17 14:51:34 +0000\tmaster-replica-0\t\tProcessing ./trainer-0.1.tar.gz\n",
      "INFO\t2019-08-17 14:51:34 +0000\tmaster-replica-0\t\tGenerating grammar tables from /usr/lib/python3.5/lib2to3/Grammar.txt\n",
      "INFO\t2019-08-17 14:51:34 +0000\tmaster-replica-0\t\tGenerating grammar tables from /usr/lib/python3.5/lib2to3/PatternGrammar.txt\n",
      "INFO\t2019-08-17 14:51:34 +0000\tmaster-replica-0\t\tCollecting fire (from trainer==0.1)\n",
      "INFO\t2019-08-17 14:51:35 +0000\tmaster-replica-0\t\t  Using cached https://files.pythonhosted.org/packages/d9/69/faeaae8687f4de0f5973694d02e9d6c3eb827636a009157352d98de1129e/fire-0.2.1.tar.gz\n",
      "INFO\t2019-08-17 14:51:35 +0000\tmaster-replica-0\t\tGenerating grammar tables from /usr/lib/python3.5/lib2to3/Grammar.txt\n",
      "INFO\t2019-08-17 14:51:35 +0000\tmaster-replica-0\t\tGenerating grammar tables from /usr/lib/python3.5/lib2to3/PatternGrammar.txt\n",
      "INFO\t2019-08-17 14:51:35 +0000\tmaster-replica-0\t\tCollecting gcsfs (from trainer==0.1)\n",
      "INFO\t2019-08-17 14:51:35 +0000\tmaster-replica-0\t\t  Using cached https://files.pythonhosted.org/packages/f8/35/65faba9cdf8f6df166ec4005cf1722fb699c034380f6acb897f354b464a7/gcsfs-0.2.3.tar.gz\n",
      "INFO\t2019-08-17 14:51:35 +0000\tmaster-replica-0\t\tGenerating grammar tables from /usr/lib/python3.5/lib2to3/Grammar.txt\n",
      "INFO\t2019-08-17 14:51:35 +0000\tmaster-replica-0\t\tGenerating grammar tables from /usr/lib/python3.5/lib2to3/PatternGrammar.txt\n",
      "INFO\t2019-08-17 14:51:36 +0000\tmaster-replica-0\t\tCollecting sklearn>=0.21.0 (from trainer==0.1)\n",
      "ERROR\t2019-08-17 14:51:36 +0000\tmaster-replica-0\t\t  ERROR: Could not find a version that satisfies the requirement sklearn>=0.21.0 (from trainer==0.1) (from versions: 0.0)\n",
      "ERROR\t2019-08-17 14:51:36 +0000\tmaster-replica-0\t\tERROR: No matching distribution found for sklearn>=0.21.0 (from trainer==0.1)\n",
      "ERROR\t2019-08-17 14:51:36 +0000\tmaster-replica-0\t\tWARNING: You are using pip version 19.2.1, however version 19.2.2 is available.\n",
      "ERROR\t2019-08-17 14:51:36 +0000\tmaster-replica-0\t\tYou should consider upgrading via the 'pip install --upgrade pip' command.\n",
      "ERROR\t2019-08-17 14:51:36 +0000\tmaster-replica-0\t\tCommand '['pip3', 'install', '--user', 'trainer-0.1.tar.gz']' returned non-zero exit status 1\n",
      "INFO\t2019-08-17 14:51:36 +0000\tmaster-replica-0\t\tModule completed; cleaning up.\n",
      "INFO\t2019-08-17 14:51:36 +0000\tmaster-replica-0\t\tClean up finished.\n",
      "ERROR\t2019-08-17 14:51:50 +0000\tservice\t\tThe replica master 0 exited with a non-zero status of 1. To find out more about why your job exited please check the logs: https://console.cloud.google.com/logs/viewer?project=532679469893&resource=ml_job%2Fjob_id%2FJOB_20190817_145004&advancedFilter=resource.type%3D%22ml_job%22%0Aresource.labels.job_id%3D%22JOB_20190817_145004%22\n",
      "INFO\t2019-08-17 14:54:22 +0000\tservice\t\tJob failed.\n"
     ]
    }
   ],
   "source": [
    "!gcloud ai-platform jobs stream-logs JOB_20190817_145004"
   ]
  },
  {
   "cell_type": "code",
   "execution_count": null,
   "metadata": {},
   "outputs": [],
   "source": []
  }
 ],
 "metadata": {
  "kernelspec": {
   "display_name": "Python 3",
   "language": "python",
   "name": "python3"
  },
  "language_info": {
   "codemirror_mode": {
    "name": "ipython",
    "version": 3
   },
   "file_extension": ".py",
   "mimetype": "text/x-python",
   "name": "python",
   "nbconvert_exporter": "python",
   "pygments_lexer": "ipython3",
   "version": "3.7.3"
  }
 },
 "nbformat": 4,
 "nbformat_minor": 4
}
