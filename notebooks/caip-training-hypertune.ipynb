{
 "cells": [
  {
   "cell_type": "markdown",
   "metadata": {},
   "source": [
    "# Hyperparameter tuning with AI Platform "
   ]
  },
  {
   "cell_type": "code",
   "execution_count": 1,
   "metadata": {},
   "outputs": [],
   "source": [
    "import os\n",
    "import time"
   ]
  },
  {
   "cell_type": "code",
   "execution_count": 2,
   "metadata": {},
   "outputs": [],
   "source": [
    "TRAINING_DATA_PATH = 'gs://jk-demo-datasets/gasdata/training.csv'\n",
    "TESTING_DATA_PATH = 'gs://jk-demo-datasets/gasdata/testing.csv'\n",
    "REGION = \"us-central1\"\n",
    "ARTIFACT_BUCKET = 'gs://jk-demo-artifacts'\n",
    "JOBDIR_BUCKET = 'gs://jk-demo-jobdir'"
   ]
  },
  {
   "cell_type": "markdown",
   "metadata": {},
   "source": [
    "## Create a training application package\n",
    "### Create a training module"
   ]
  },
  {
   "cell_type": "code",
   "execution_count": 3,
   "metadata": {},
   "outputs": [],
   "source": [
    "TRAINING_APP_FOLDER = '../hypertune_app/trainer'\n",
    "\n",
    "os.makedirs(TRAINING_APP_FOLDER, exist_ok=True)\n",
    "!touch $TRAINING_APP_FOLDER/__init__.py"
   ]
  },
  {
   "cell_type": "code",
   "execution_count": 4,
   "metadata": {},
   "outputs": [
    {
     "name": "stdout",
     "output_type": "stream",
     "text": [
      "Overwriting ../hypertune_app/trainer/train.py\n"
     ]
    }
   ],
   "source": [
    "%%writefile $TRAINING_APP_FOLDER/train.py\n",
    "\n",
    "import logging\n",
    "import os\n",
    "import subprocess\n",
    "import sys\n",
    "\n",
    "import fire\n",
    "import numpy as np\n",
    "import pandas as pd\n",
    "\n",
    "import hypertune\n",
    "\n",
    "from sklearn.model_selection import cross_val_score\n",
    "from sklearn.externals import joblib\n",
    "from sklearn.decomposition import PCA\n",
    "from sklearn.linear_model import Ridge\n",
    "from sklearn.pipeline import Pipeline\n",
    "from sklearn.preprocessing import StandardScaler\n",
    "\n",
    "\n",
    "def train(job_dir, data_path, n_components, alpha):\n",
    "    \n",
    "    \n",
    "  # Load data from GCS\n",
    "  df_train = pd.read_csv(data_path)\n",
    "\n",
    "  y = df_train.octane\n",
    "  X = df_train.drop('octane', axis=1)\n",
    "    \n",
    "  # Configure a training pipeline\n",
    "  pipeline = Pipeline([\n",
    "    ('scale', StandardScaler()),\n",
    "    ('reduce_dim', PCA(n_components=n_components)),\n",
    "    ('regress', Ridge(alpha=alpha))\n",
    "  ])\n",
    "\n",
    "  # Calculate the performance metric\n",
    "  scores = cross_val_score(pipeline, X, y, cv=10, scoring='neg_mean_squared_error')\n",
    "    \n",
    "  # Log it with hypertune\n",
    "  hpt = hypertune.HyperTune()\n",
    "  hpt.report_hyperparameter_tuning_metric(\n",
    "    hyperparameter_metric_tag='neg_mean_squared_error',\n",
    "    metric_value=scores.mean()\n",
    "    )\n",
    "\n",
    "  # Fit the model on a full dataset\n",
    "  pipeline.fit(X, y)\n",
    "\n",
    "  # Save the model\n",
    "  model_filename = 'model.joblib'\n",
    "  joblib.dump(value=pipeline, filename=model_filename)\n",
    "  gcs_model_path = \"{}/{}\".format(job_dir, model_filename)\n",
    "  subprocess.check_call(['gsutil', 'cp', model_filename, gcs_model_path], stderr=sys.stdout)\n",
    "  logging.info(\"Saved model in: {}\".format(gcs_model_path)) \n",
    "    \n",
    "if __name__ == \"__main__\":\n",
    "  logging.basicConfig(level=logging.INFO)\n",
    "  fire.Fire(train)"
   ]
  },
  {
   "cell_type": "markdown",
   "metadata": {},
   "source": [
    "### Create hyperparameter configuration file"
   ]
  },
  {
   "cell_type": "code",
   "execution_count": 5,
   "metadata": {},
   "outputs": [
    {
     "name": "stdout",
     "output_type": "stream",
     "text": [
      "Overwriting ../hypertune_app/trainer/hptuning_config.yaml\n"
     ]
    }
   ],
   "source": [
    "%%writefile $TRAINING_APP_FOLDER/hptuning_config.yaml \n",
    "\n",
    "trainingInput:\n",
    "  hyperparameters:\n",
    "    goal: MAXIMIZE\n",
    "    maxTrials: 50\n",
    "    maxParallelTrials: 3\n",
    "    hyperparameterMetricTag: neg_mean_squared_error\n",
    "    enableTrialEarlyStopping: TRUE \n",
    "    params:\n",
    "    - parameterName: n_components\n",
    "      type: DISCRETE\n",
    "      discreteValues: [\n",
    "          2,\n",
    "          3,\n",
    "          4,\n",
    "          5,\n",
    "          6,\n",
    "          7,\n",
    "          8\n",
    "          ]\n",
    "    - parameterName: alpha\n",
    "      type: DOUBLE\n",
    "      minValue:  0.0001\n",
    "      maxValue:  0.1\n",
    "      scaleType: UNIT_LINEAR_SCALE\n",
    "      "
   ]
  },
  {
   "cell_type": "markdown",
   "metadata": {},
   "source": [
    "### Configure dependencies"
   ]
  },
  {
   "cell_type": "code",
   "execution_count": 6,
   "metadata": {},
   "outputs": [
    {
     "name": "stdout",
     "output_type": "stream",
     "text": [
      "Overwriting ../hypertune_app/trainer/../setup.py\n"
     ]
    }
   ],
   "source": [
    "%%writefile $TRAINING_APP_FOLDER/../setup.py\n",
    "\n",
    "from setuptools import find_packages\n",
    "from setuptools import setup\n",
    "\n",
    "REQUIRED_PACKAGES = ['fire', 'gcsfs', 'cloudml-hypertune']\n",
    "\n",
    "setup(\n",
    "    name='trainer',\n",
    "    version='0.1',\n",
    "    install_requires=REQUIRED_PACKAGES,\n",
    "    packages=find_packages(),\n",
    "    include_package_data=True,\n",
    "    description='My training application package.'\n",
    ")"
   ]
  },
  {
   "cell_type": "markdown",
   "metadata": {},
   "source": [
    "## Submit a training job"
   ]
  },
  {
   "cell_type": "code",
   "execution_count": 7,
   "metadata": {},
   "outputs": [],
   "source": [
    "JOB_NAME = \"JOB_{}\".format(time.strftime(\"%Y%m%d_%H%M%S\"))\n",
    "SCALE_TIER = \"BASIC\"\n",
    "MODULE_NAME = \"trainer.train\"\n",
    "RUNTIME_VERSION = \"1.14\"\n",
    "PYTHON_VERSION = \"3.5\""
   ]
  },
  {
   "cell_type": "code",
   "execution_count": 8,
   "metadata": {},
   "outputs": [
    {
     "name": "stdout",
     "output_type": "stream",
     "text": [
      "Job [JOB_20191011_011808] submitted successfully.\n",
      "Your job is still active. You may view the status of your job with the command\n",
      "\n",
      "  $ gcloud ai-platform jobs describe JOB_20191011_011808\n",
      "\n",
      "or continue streaming the logs with the command\n",
      "\n",
      "  $ gcloud ai-platform jobs stream-logs JOB_20191011_011808\n",
      "jobId: JOB_20191011_011808\n",
      "state: QUEUED\n"
     ]
    }
   ],
   "source": [
    "!gcloud ai-platform jobs submit training $JOB_NAME \\\n",
    "--region $REGION \\\n",
    "--job-dir $JOBDIR_BUCKET/$JOB_NAME \\\n",
    "--package-path $TRAINING_APP_FOLDER \\\n",
    "--module-name $MODULE_NAME \\\n",
    "--scale-tier $SCALE_TIER \\\n",
    "--python-version $PYTHON_VERSION \\\n",
    "--runtime-version $RUNTIME_VERSION \\\n",
    "--config $TRAINING_APP_FOLDER/hptuning_config.yaml \\\n",
    "-- \\\n",
    "--data_path $TRAINING_DATA_PATH "
   ]
  },
  {
   "cell_type": "code",
   "execution_count": 9,
   "metadata": {},
   "outputs": [
    {
     "name": "stdout",
     "output_type": "stream",
     "text": [
      "createTime: '2019-10-11T01:18:14Z'\n",
      "etag: 0LXRIwT4yek=\n",
      "jobId: JOB_20191011_011808\n",
      "startTime: '2019-10-11T01:18:19Z'\n",
      "state: RUNNING\n",
      "trainingInput:\n",
      "  args:\n",
      "  - --data_path\n",
      "  - gs://jk-demo-datasets/gasdata/training.csv\n",
      "  hyperparameters:\n",
      "    enableTrialEarlyStopping: true\n",
      "    goal: MAXIMIZE\n",
      "    hyperparameterMetricTag: neg_mean_squared_error\n",
      "    maxParallelTrials: 3\n",
      "    maxTrials: 50\n",
      "    params:\n",
      "    - discreteValues:\n",
      "      - 2.0\n",
      "      - 3.0\n",
      "      - 4.0\n",
      "      - 5.0\n",
      "      - 6.0\n",
      "      - 7.0\n",
      "      - 8.0\n",
      "      parameterName: n_components\n",
      "      type: DISCRETE\n",
      "    - maxValue: 0.1\n",
      "      minValue: 0.0001\n",
      "      parameterName: alpha\n",
      "      scaleType: UNIT_LINEAR_SCALE\n",
      "      type: DOUBLE\n",
      "  jobDir: gs://jk-demo-jobdir/JOB_20191011_011808\n",
      "  packageUris:\n",
      "  - gs://jk-demo-jobdir/JOB_20191011_011808/packages/440c61ae9600720f4dc86c0470244cbc8f5603a6cc2c10067421e734e5565064/trainer-0.1.tar.gz\n",
      "  pythonModule: trainer.train\n",
      "  pythonVersion: '3.5'\n",
      "  region: us-central1\n",
      "  runtimeVersion: '1.14'\n",
      "trainingOutput:\n",
      "  isHyperparameterTuningJob: true\n",
      "\n",
      "View job in the Cloud Console at:\n",
      "https://console.cloud.google.com/mlengine/jobs/JOB_20191011_011808?project=jk-demo1\n",
      "\n",
      "View logs at:\n",
      "https://console.cloud.google.com/logs?resource=ml.googleapis.com%2Fjob_id%2FJOB_20191011_011808&project=jk-demo1\n"
     ]
    }
   ],
   "source": [
    "!gcloud ai-platform jobs describe $JOB_NAME"
   ]
  },
  {
   "cell_type": "code",
   "execution_count": null,
   "metadata": {},
   "outputs": [],
   "source": []
  }
 ],
 "metadata": {
  "kernelspec": {
   "display_name": "Python 3",
   "language": "python",
   "name": "python3"
  },
  "language_info": {
   "codemirror_mode": {
    "name": "ipython",
    "version": 3
   },
   "file_extension": ".py",
   "mimetype": "text/x-python",
   "name": "python",
   "nbconvert_exporter": "python",
   "pygments_lexer": "ipython3",
   "version": "3.7.3"
  }
 },
 "nbformat": 4,
 "nbformat_minor": 4
}
