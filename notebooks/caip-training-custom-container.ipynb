{
 "cells": [
  {
   "cell_type": "markdown",
   "metadata": {},
   "source": [
    "# Training on AI Platform with a custom container"
   ]
  },
  {
   "cell_type": "code",
   "execution_count": 1,
   "metadata": {},
   "outputs": [],
   "source": [
    "import os\n",
    "import time"
   ]
  },
  {
   "cell_type": "code",
   "execution_count": 2,
   "metadata": {},
   "outputs": [],
   "source": [
    "TRAINING_DATA_PATH = 'gs://jk-demo-datasets/gasdata/training.csv'\n",
    "TESTING_DATA_PATH = 'gs://jk-demo-datasets/gasdata/testing.csv'\n",
    "REGION = \"us-central1\"\n",
    "ARTIFACT_BUCKET = 'gs://jk-demo-artifacts'\n",
    "JOBDIR_BUCKET = 'gs://jk-demo-jobdir'"
   ]
  },
  {
   "cell_type": "markdown",
   "metadata": {},
   "source": [
    "## Create a training container image\n",
    "### Configure Cloud Build to use Kaniko"
   ]
  },
  {
   "cell_type": "code",
   "execution_count": 3,
   "metadata": {},
   "outputs": [
    {
     "name": "stdout",
     "output_type": "stream",
     "text": [
      "Updated property [builds/use_kaniko].\n"
     ]
    }
   ],
   "source": [
    "!gcloud config set builds/use_kaniko True"
   ]
  },
  {
   "cell_type": "markdown",
   "metadata": {},
   "source": [
    "### Create a Dockerfile"
   ]
  },
  {
   "cell_type": "code",
   "execution_count": 4,
   "metadata": {},
   "outputs": [],
   "source": [
    "TRAINING_IMAGE_FOLDER = '../training_image'\n",
    "\n",
    "os.makedirs(TRAINING_IMAGE_FOLDER, exist_ok=True)"
   ]
  },
  {
   "cell_type": "code",
   "execution_count": 5,
   "metadata": {},
   "outputs": [
    {
     "name": "stdout",
     "output_type": "stream",
     "text": [
      "Writing ../training_image/Dockerfile\n"
     ]
    }
   ],
   "source": [
    "%%writefile $TRAINING_IMAGE_FOLDER/Dockerfile\n",
    "\n",
    "FROM gcr.io/jk-demo1/sklearn-cpu:latest\n",
    "WORKDIR /app\n",
    "COPY train.py .\n",
    "\n",
    "ENTRYPOINT [\"python\", \"train.py\"]"
   ]
  },
  {
   "cell_type": "markdown",
   "metadata": {},
   "source": [
    "### Create a training script"
   ]
  },
  {
   "cell_type": "code",
   "execution_count": 7,
   "metadata": {},
   "outputs": [
    {
     "name": "stdout",
     "output_type": "stream",
     "text": [
      "Overwriting ../training_image/train.py\n"
     ]
    }
   ],
   "source": [
    "%%writefile $TRAINING_IMAGE_FOLDER/train.py\n",
    "\n",
    "import logging\n",
    "import os\n",
    "import subprocess\n",
    "import sys\n",
    "import joblib\n",
    "import fire\n",
    "import numpy as np\n",
    "import pandas as pd\n",
    "\n",
    "from sklearn.cross_decomposition import PLSRegression\n",
    "from sklearn.decomposition import PCA\n",
    "from sklearn.feature_selection import SelectKBest, chi2\n",
    "from sklearn.linear_model import Ridge\n",
    "from sklearn.manifold import TSNE \n",
    "from sklearn.metrics import mean_squared_error\n",
    "from sklearn.model_selection import GridSearchCV\n",
    "from sklearn.model_selection import train_test_split\n",
    "from sklearn.pipeline import Pipeline\n",
    "from sklearn.preprocessing import StandardScaler\n",
    "\n",
    "\n",
    "def train(job_dir, data_path, n_features_options, l2_reg_options):\n",
    "    \n",
    "  # Load data from GCS\n",
    "  df_train = pd.read_csv(data_path)\n",
    "\n",
    "  y = df_train.octane\n",
    "  X = df_train.drop('octane', axis=1)\n",
    "    \n",
    "  # Configure a training pipeline\n",
    "  pipeline = Pipeline([\n",
    "    ('scale', StandardScaler()),\n",
    "    ('reduce_dim', PCA()),\n",
    "    ('regress', Ridge())\n",
    "  ])\n",
    "\n",
    "  # Configure a parameter grid\n",
    "  param_grid = [\n",
    "    {\n",
    "      'reduce_dim__n_components': n_features_options,\n",
    "      'regress__alpha': l2_reg_options\n",
    "    }\n",
    "  ]\n",
    "\n",
    "  # Tune hyperparameters\n",
    "  grid = GridSearchCV(pipeline, cv=10, n_jobs=None, param_grid=param_grid, scoring='neg_mean_squared_error', iid=False)\n",
    "  grid.fit(X, y)\n",
    "\n",
    "  logging.info(\"Best estimator: {}\".format(grid.best_params_))\n",
    "  logging.info(\"Best score: {}\".format(grid.best_score_))\n",
    "    \n",
    "  # Retrain the best model on a full dataset\n",
    "  best_estimator = grid.best_estimator_\n",
    "  trained_pipeline = best_estimator.fit(X, y)\n",
    "\n",
    "  # Save the model\n",
    "  model_filename = 'model.joblib'\n",
    "  joblib.dump(value=trained_pipeline, filename=model_filename)\n",
    "  gcs_model_path = \"{}/{}\".format(job_dir, model_filename)\n",
    "  subprocess.check_call(['gsutil', 'cp', model_filename, gcs_model_path], stderr=sys.stdout)\n",
    "  logging.info(\"Saved model in: {}\".format(gcs_model_path)) \n",
    "    \n",
    "if __name__ == \"__main__\":\n",
    "  logging.basicConfig(level=logging.INFO)\n",
    "  fire.Fire(train)"
   ]
  },
  {
   "cell_type": "markdown",
   "metadata": {},
   "source": [
    "### Build the image"
   ]
  },
  {
   "cell_type": "code",
   "execution_count": 8,
   "metadata": {},
   "outputs": [
    {
     "name": "stdout",
     "output_type": "stream",
     "text": [
      "Creating temporary tarball archive of 2 file(s) totalling 2.0 KiB before compression.\n",
      "Uploading tarball of [../training_image] to [gs://jk-demo1_cloudbuild/source/1566349680.07-08ee599b76224927ab890cd57ab99e64.tgz]\n",
      "Created [https://cloudbuild.googleapis.com/v1/projects/jk-demo1/builds/6dccbb74-4fb0-46b7-8ba1-652ac06c3c7a].\n",
      "Logs are available at [https://console.cloud.google.com/gcr/builds/6dccbb74-4fb0-46b7-8ba1-652ac06c3c7a?project=826865698127].\n",
      "----------------------------- REMOTE BUILD OUTPUT ------------------------------\n",
      "starting build \"6dccbb74-4fb0-46b7-8ba1-652ac06c3c7a\"\n",
      "\n",
      "FETCHSOURCE\n",
      "Fetching storage object: gs://jk-demo1_cloudbuild/source/1566349680.07-08ee599b76224927ab890cd57ab99e64.tgz#1566349680565089\n",
      "Copying gs://jk-demo1_cloudbuild/source/1566349680.07-08ee599b76224927ab890cd57ab99e64.tgz#1566349680565089...\n",
      "/ [1 files][  1.1 KiB/  1.1 KiB]                                                \n",
      "Operation completed over 1 objects/1.1 KiB.                                      \n",
      "BUILD\n",
      "Pulling image: gcr.io/kaniko-project/executor:latest\n",
      "latest: Pulling from kaniko-project/executor\n",
      "Digest: sha256:78d44ec4e9cb5545d7f85c1924695c89503ded86a59f92c7ae658afa3cff5400\n",
      "Status: Downloaded newer image for gcr.io/kaniko-project/executor:latest\n",
      "gcr.io/kaniko-project/executor:latest\n",
      "\u001b[36mINFO\u001b[0m[0000] Resolved base name gcr.io/jk-demo1/sklearn-cpu:latest to gcr.io/jk-demo1/sklearn-cpu:latest \n",
      "\u001b[36mINFO\u001b[0m[0000] Resolved base name gcr.io/jk-demo1/sklearn-cpu:latest to gcr.io/jk-demo1/sklearn-cpu:latest \n",
      "\u001b[36mINFO\u001b[0m[0000] Downloading base image gcr.io/jk-demo1/sklearn-cpu:latest \n",
      "\u001b[36mINFO\u001b[0m[0000] Error while retrieving image from cache: getting file info: stat /cache/sha256:9641e43af0816270b5c797fd6009d6b65bd9a9775f014f3b58ea0e37d617bb3a: no such file or directory \n",
      "\u001b[36mINFO\u001b[0m[0000] Downloading base image gcr.io/jk-demo1/sklearn-cpu:latest \n",
      "\u001b[36mINFO\u001b[0m[0000] Built cross stage deps: map[]                \n",
      "\u001b[36mINFO\u001b[0m[0000] Downloading base image gcr.io/jk-demo1/sklearn-cpu:latest \n",
      "\u001b[36mINFO\u001b[0m[0001] Error while retrieving image from cache: getting file info: stat /cache/sha256:9641e43af0816270b5c797fd6009d6b65bd9a9775f014f3b58ea0e37d617bb3a: no such file or directory \n",
      "\u001b[36mINFO\u001b[0m[0001] Downloading base image gcr.io/jk-demo1/sklearn-cpu:latest \n",
      "\u001b[36mINFO\u001b[0m[0001] Using files from context: [/workspace/train.py] \n",
      "\u001b[36mINFO\u001b[0m[0001] Skipping unpacking as no commands require it. \n",
      "\u001b[36mINFO\u001b[0m[0001] Taking snapshot of full filesystem...        \n",
      "\u001b[36mINFO\u001b[0m[0001] WORKDIR /app                                 \n",
      "\u001b[36mINFO\u001b[0m[0001] cmd: workdir                                 \n",
      "\u001b[36mINFO\u001b[0m[0001] Changed working directory to /app            \n",
      "\u001b[36mINFO\u001b[0m[0001] Creating directory /app                      \n",
      "\u001b[36mINFO\u001b[0m[0001] Taking snapshot of files...                  \n",
      "\u001b[36mINFO\u001b[0m[0001] Using files from context: [/workspace/train.py] \n",
      "\u001b[36mINFO\u001b[0m[0001] COPY train.py .                              \n",
      "\u001b[36mINFO\u001b[0m[0001] Taking snapshot of files...                  \n",
      "\u001b[36mINFO\u001b[0m[0001] ENTRYPOINT [\"python\", \"train.py\"]            \n",
      "\u001b[36mINFO\u001b[0m[0001] No files changed in this command, skipping snapshotting. \n",
      "2019/08/21 01:08:11 existing blob: sha256:1c75398b6b38b33b19ef8cb52c5a2b290182227e6267555623e8d1f76813a74c\n",
      "2019/08/21 01:08:11 existing blob: sha256:0fe7e7cbb2e88617d969efeeb3bd3125f7d309335c736a0525233ec2dc06aee1\n",
      "2019/08/21 01:08:11 existing blob: sha256:a74bd22c075359ac48a9f161bc4e6901d4a5289903d7653af5fc3c8d9e58d6fd\n",
      "2019/08/21 01:08:11 existing blob: sha256:32b22702030c512ccdfea8f820519d9ec017a85e36cadf8aff9ed323d2edb6d8\n",
      "2019/08/21 01:08:11 existing blob: sha256:376e851883a7316289c8dbd4da636de7cdd3756b5b653dcb30c7a2a9cd9a2c66\n",
      "2019/08/21 01:08:11 existing blob: sha256:8e7f4eb46254f843037a1c65cbd7b0e2fceae689fe2db7b39c2f30a0c37f92fe\n",
      "2019/08/21 01:08:11 existing blob: sha256:bf6b8299d4b6a75ba222f5030c878756efc496ad3fa884b9ce8eac03ab9eb9b4\n",
      "2019/08/21 01:08:11 existing blob: sha256:1d425c98234572d4221a1ac173162c4279f9fdde4726ec22ad3c399f59bb7503\n",
      "2019/08/21 01:08:11 existing blob: sha256:63099198646c4864de393c33a7e013e0b7f369a0b5c4283bc9ed8b66ed62f13c\n",
      "2019/08/21 01:08:11 existing blob: sha256:be36d213ecbafdf6a96ff10fbc2a53311cb116c7359a3d34a31703384e712e48\n",
      "2019/08/21 01:08:11 existing blob: sha256:27364346da9f15cf2ed310941d2e7bb73956350d7252be2af9c9abb4febc069a\n",
      "2019/08/21 01:08:11 existing blob: sha256:a0fccb56e473519006c7c3567e4e85d50f0e833604541e531117cbb4515a601a\n",
      "2019/08/21 01:08:11 existing blob: sha256:7413c47ba209e555018c4be91101d017737f24b0c9d1f65339b97a4da98acb2a\n",
      "2019/08/21 01:08:11 existing blob: sha256:23aa97798c19c7b3722715e384d840803fde9cbdf59b1ea574ab3f184d2bae8c\n",
      "2019/08/21 01:08:11 existing blob: sha256:344da5c95cecd0f55238ce59b8469ee301056001ece2b769e9691b80f94f9f37\n",
      "2019/08/21 01:08:11 existing blob: sha256:be6f29e4b5b17aff2c0b5c73b71f537280752170aba53cfa05d2aaba28854b8f\n",
      "2019/08/21 01:08:11 existing blob: sha256:f961afefb5b48bd0161367c89a4df03581118e14b1f4bed638fd876e7969c161\n",
      "2019/08/21 01:08:12 existing blob: sha256:6ed4546c074e590fa0e18249a743b6ef4791a0357f1e65ff1875af3baa251505\n",
      "2019/08/21 01:08:13 pushed blob: sha256:892631d72d40aeb4c102aacc24d55ecf0b4ed4958f9620baaf22d94f18042011\n",
      "2019/08/21 01:08:13 pushed blob: sha256:9bdb1e078e04d7ec7a2b5b7af500771128d6242e68f83d11f4600b540e6e294f\n",
      "2019/08/21 01:08:15 pushed blob: sha256:544c5bf541e34b971abf43bbf2d5d2c9c566fcefdd02a27d91301fe0f70ac278\n",
      "2019/08/21 01:08:16 gcr.io/jk-demo1/octane-regression-training:latest: digest: sha256:037de0b4401b118478e07daecded6a046d1c23c60f85a27e6ecce493abaf3a57 size: 3498\n",
      "PUSH\n",
      "DONE\n",
      "--------------------------------------------------------------------------------\n",
      "\n",
      "ID                                    CREATE_TIME                DURATION  SOURCE                                                                              IMAGES  STATUS\n",
      "6dccbb74-4fb0-46b7-8ba1-652ac06c3c7a  2019-08-21T01:08:01+00:00  15S       gs://jk-demo1_cloudbuild/source/1566349680.07-08ee599b76224927ab890cd57ab99e64.tgz  -       SUCCESS\n"
     ]
    }
   ],
   "source": [
    "PROJECT_ID = !gcloud config list project --format \"value(core.project)\"\n",
    "PROJECT_ID = PROJECT_ID[0]\n",
    "IMAGE_REPO_NAME=\"octane-regression-training\"\n",
    "IMAGE_TAG=\"latest\"\n",
    "IMAGE_URI=\"gcr.io/{}/{}:{}\".format(PROJECT_ID, IMAGE_REPO_NAME, IMAGE_TAG)\n",
    "\n",
    "!gcloud builds submit --tag $IMAGE_URI $TRAINING_IMAGE_FOLDER"
   ]
  },
  {
   "cell_type": "markdown",
   "metadata": {},
   "source": [
    "### Submit a training job"
   ]
  },
  {
   "cell_type": "code",
   "execution_count": 10,
   "metadata": {},
   "outputs": [],
   "source": [
    "JOB_NAME = \"JOB_{}\".format(time.strftime(\"%Y%m%d_%H%M%S\"))\n",
    "SCALE_TIER = \"BASIC\"\n",
    "\n",
    "N_FEATURES_OPTIONS=\"[2,4,6]\"\n",
    "L2_REG_OPTIONS=\"[0.1,0.2,0.3,0.5]\""
   ]
  },
  {
   "cell_type": "code",
   "execution_count": 11,
   "metadata": {},
   "outputs": [
    {
     "name": "stdout",
     "output_type": "stream",
     "text": [
      "Job [JOB_20190821_011018] submitted successfully.\n",
      "Your job is still active. You may view the status of your job with the command\n",
      "\n",
      "  $ gcloud ai-platform jobs describe JOB_20190821_011018\n",
      "\n",
      "or continue streaming the logs with the command\n",
      "\n",
      "  $ gcloud ai-platform jobs stream-logs JOB_20190821_011018\n",
      "jobId: JOB_20190821_011018\n",
      "state: QUEUED\n"
     ]
    }
   ],
   "source": [
    "!gcloud ai-platform jobs submit training $JOB_NAME \\\n",
    "--region $REGION \\\n",
    "--job-dir $JOBDIR_BUCKET/$JOB_NAME \\\n",
    "--master-image-uri $IMAGE_URI \\\n",
    "--scale-tier $SCALE_TIER \\\n",
    "-- \\\n",
    "--data_path $TRAINING_DATA_PATH  \\\n",
    "--n_features_options $N_FEATURES_OPTIONS \\\n",
    "--l2_reg_options $L2_REG_OPTIONS"
   ]
  },
  {
   "cell_type": "code",
   "execution_count": 12,
   "metadata": {},
   "outputs": [
    {
     "name": "stdout",
     "output_type": "stream",
     "text": [
      "createTime: '2019-08-21T01:10:21Z'\n",
      "etag: 0Pq62cezM2w=\n",
      "jobId: JOB_20190821_011018\n",
      "state: PREPARING\n",
      "trainingInput:\n",
      "  args:\n",
      "  - --data_path\n",
      "  - gs://jk-demo-datasets/gasdata/training.csv\n",
      "  - --n_features_options\n",
      "  - '[2,4,6]'\n",
      "  - --l2_reg_options\n",
      "  - '[0.1,0.2,0.3,0.5]'\n",
      "  jobDir: gs://jk-demo-jobdir/JOB_20190821_011018\n",
      "  masterConfig:\n",
      "    imageUri: gcr.io/jk-demo1/octane-regression-training:latest\n",
      "  region: us-central1\n",
      "trainingOutput: {}\n",
      "\n",
      "View job in the Cloud Console at:\n",
      "https://console.cloud.google.com/mlengine/jobs/JOB_20190821_011018?project=jk-demo1\n",
      "\n",
      "View logs at:\n",
      "https://console.cloud.google.com/logs?resource=ml.googleapis.com%2Fjob_id%2FJOB_20190821_011018&project=jk-demo1\n",
      "INFO\t2019-08-21 01:10:21 +0000\tservice\t\tValidating job requirements...\n",
      "INFO\t2019-08-21 01:10:21 +0000\tservice\t\tJob creation request has been successfully validated.\n",
      "INFO\t2019-08-21 01:10:21 +0000\tservice\t\tJob JOB_20190821_011018 is queued.\n",
      "INFO\t2019-08-21 01:10:22 +0000\tservice\t\tWaiting for job to be provisioned.\n",
      "INFO\t2019-08-21 01:10:24 +0000\tservice\t\tWaiting for training program to start.\n",
      "ERROR\t2019-08-21 01:13:31 +0000\tmaster-replica-0\t\tINFO:root:Best estimator: {'reduce_dim__n_components': 6, 'regress__alpha': 0.1}\n",
      "ERROR\t2019-08-21 01:13:31 +0000\tmaster-replica-0\t\tINFO:root:Best score: -0.05475029397902069\n",
      "INFO\t2019-08-21 01:13:32 +0000\tmaster-replica-0\t\tCopying file://model.joblib [Content-Type=application/octet-stream]...\n",
      "INFO\t2019-08-21 01:13:33 +0000\tmaster-replica-0\t\t/ [0 files][    0.0 B/ 33.1 KiB]                                                \n",
      "INFO\t2019-08-21 01:13:33 +0000\tmaster-replica-0\t\t/ [1 files][ 33.1 KiB/ 33.1 KiB]                                                \n",
      "INFO\t2019-08-21 01:13:33 +0000\tmaster-replica-0\t\tOperation completed over 1 objects/33.1 KiB.                                     \n",
      "ERROR\t2019-08-21 01:13:33 +0000\tmaster-replica-0\t\tINFO:root:Saved model in: gs://jk-demo-jobdir/JOB_20190821_011018/model.joblib\n"
     ]
    }
   ],
   "source": [
    "!gcloud ai-platform jobs describe $JOB_NAME\n",
    "!gcloud ai-platform jobs stream-logs $JOB_NAME"
   ]
  },
  {
   "cell_type": "markdown",
   "metadata": {},
   "source": [
    "### Copy the trained model to model repo"
   ]
  },
  {
   "cell_type": "code",
   "execution_count": 14,
   "metadata": {},
   "outputs": [
    {
     "name": "stdout",
     "output_type": "stream",
     "text": [
      "Copying gs://jk-demo-jobdir/JOB_20190821_011018/model.joblib [Content-Type=application/octet-stream]...\n",
      "/ [1 files][ 33.1 KiB/ 33.1 KiB]                                                \n",
      "Operation completed over 1 objects/33.1 KiB.                                     \n"
     ]
    }
   ],
   "source": [
    "MODEL_NAME = \"octane-regressor-container\"\n",
    "\n",
    "!gsutil cp $JOBDIR_BUCKET/$JOB_NAME/model.joblib $ARTIFACT_BUCKET/models/$MODEL_NAME/model.joblib"
   ]
  },
  {
   "cell_type": "markdown",
   "metadata": {},
   "source": [
    "## Download and test the model"
   ]
  },
  {
   "cell_type": "code",
   "execution_count": 15,
   "metadata": {},
   "outputs": [
    {
     "name": "stdout",
     "output_type": "stream",
     "text": [
      "Copying gs://jk-demo-artifacts/models/octane-regressor-container/model.joblib...\n",
      "/ [1 files][ 33.1 KiB/ 33.1 KiB]                                                \n",
      "Operation completed over 1 objects/33.1 KiB.                                     \n"
     ]
    }
   ],
   "source": [
    "LOCAL_PATH = '/tmp/model.joblib'\n",
    "\n",
    "!gsutil cp $ARTIFACT_BUCKET/models/$MODEL_NAME/model.joblib $LOCAL_PATH "
   ]
  },
  {
   "cell_type": "code",
   "execution_count": 16,
   "metadata": {},
   "outputs": [
    {
     "name": "stdout",
     "output_type": "stream",
     "text": [
      "[(88.65, 88.59553605661218), (88.7, 88.84093111257747), (87.3, 87.35784874687317), (88.85, 88.73399177287303), (85.1, 85.26014664670035), (88.4, 88.12292248697285)]\n"
     ]
    },
    {
     "name": "stderr",
     "output_type": "stream",
     "text": [
      "/home/jupyter/.local/lib/python3.5/site-packages/sklearn/base.py:251: UserWarning: Trying to unpickle estimator StandardScaler from version 0.21.2 when using version 0.20.2. This might lead to breaking code or invalid results. Use at your own risk.\n",
      "  UserWarning)\n",
      "/home/jupyter/.local/lib/python3.5/site-packages/sklearn/base.py:251: UserWarning: Trying to unpickle estimator PCA from version 0.21.2 when using version 0.20.2. This might lead to breaking code or invalid results. Use at your own risk.\n",
      "  UserWarning)\n",
      "/home/jupyter/.local/lib/python3.5/site-packages/sklearn/base.py:251: UserWarning: Trying to unpickle estimator Ridge from version 0.21.2 when using version 0.20.2. This might lead to breaking code or invalid results. Use at your own risk.\n",
      "  UserWarning)\n",
      "/home/jupyter/.local/lib/python3.5/site-packages/sklearn/base.py:251: UserWarning: Trying to unpickle estimator Pipeline from version 0.21.2 when using version 0.20.2. This might lead to breaking code or invalid results. Use at your own risk.\n",
      "  UserWarning)\n"
     ]
    }
   ],
   "source": [
    "import joblib\n",
    "import pandas as pd\n",
    "\n",
    "df_test = pd.read_csv(TESTING_DATA_PATH)\n",
    "predictor = joblib.load(LOCAL_PATH)\n",
    "\n",
    "y = df_test.octane\n",
    "X = df_test.drop('octane', axis=1)\n",
    "\n",
    "y_hat = predictor.predict(X)\n",
    "print(list(zip(y, y_hat)))"
   ]
  },
  {
   "cell_type": "code",
   "execution_count": null,
   "metadata": {},
   "outputs": [],
   "source": []
  }
 ],
 "metadata": {
  "kernelspec": {
   "display_name": "Python 3",
   "language": "python",
   "name": "python3"
  },
  "language_info": {
   "codemirror_mode": {
    "name": "ipython",
    "version": 3
   },
   "file_extension": ".py",
   "mimetype": "text/x-python",
   "name": "python",
   "nbconvert_exporter": "python",
   "pygments_lexer": "ipython3",
   "version": "3.5.3"
  }
 },
 "nbformat": 4,
 "nbformat_minor": 4
}
