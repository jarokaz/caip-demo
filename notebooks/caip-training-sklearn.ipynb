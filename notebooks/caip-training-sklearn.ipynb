{
 "cells": [
  {
   "cell_type": "markdown",
   "metadata": {},
   "source": [
    "# Trainining on AI Platform with scikit-learn"
   ]
  },
  {
   "cell_type": "code",
   "execution_count": 17,
   "metadata": {},
   "outputs": [],
   "source": [
    "import os\n",
    "import time"
   ]
  },
  {
   "cell_type": "markdown",
   "metadata": {},
   "source": [
    "## Configure environment\n",
    "\n",
    "*You need to walk through the `local-experimentation.ipynb` notebook to create training and validation datasets.*\n"
   ]
  },
  {
   "cell_type": "code",
   "execution_count": 13,
   "metadata": {},
   "outputs": [],
   "source": [
    "PROJECT_ID = !(gcloud config get-value core/project)\n",
    "ARTIFACT_STORE = 'gs://{}-artifact-store'.format(PROJECT_ID[0])\n",
    "\n",
    "TRAINING_DATA_PATH = '{}/datasets/training.csv'.format(ARTIFACT_STORE)\n",
    "TESTING_DATA_PATH = '{}/datasets/testing.csv'.format(ARTIFACT_STORE)\n",
    "REGION = \"us-central1\"\n",
    "JOBDIR_BUCKET = '{}/jobs'.format(ARTIFACT_STORE)"
   ]
  },
  {
   "cell_type": "markdown",
   "metadata": {},
   "source": [
    "## Create a training application package\n",
    "### Create a training module"
   ]
  },
  {
   "cell_type": "code",
   "execution_count": 9,
   "metadata": {},
   "outputs": [],
   "source": [
    "TRAINING_APP_FOLDER = '../training_app/trainer'\n",
    "\n",
    "os.makedirs(TRAINING_APP_FOLDER, exist_ok=True)\n",
    "!touch $TRAINING_APP_FOLDER/__init__.py"
   ]
  },
  {
   "cell_type": "code",
   "execution_count": 10,
   "metadata": {},
   "outputs": [
    {
     "name": "stdout",
     "output_type": "stream",
     "text": [
      "Overwriting ../training_app/trainer/train.py\n"
     ]
    }
   ],
   "source": [
    "%%writefile $TRAINING_APP_FOLDER/train.py\n",
    "\n",
    "import logging\n",
    "import os\n",
    "import subprocess\n",
    "import sys\n",
    "\n",
    "import fire\n",
    "import joblib\n",
    "import numpy as np\n",
    "import pandas as pd\n",
    "\n",
    "from sklearn.cross_decomposition import PLSRegression\n",
    "from sklearn.decomposition import PCA\n",
    "from sklearn.feature_selection import SelectKBest, chi2\n",
    "from sklearn.linear_model import Ridge\n",
    "from sklearn.manifold import TSNE \n",
    "from sklearn.metrics import mean_squared_error\n",
    "from sklearn.model_selection import GridSearchCV\n",
    "from sklearn.model_selection import train_test_split\n",
    "from sklearn.pipeline import Pipeline\n",
    "from sklearn.preprocessing import StandardScaler\n",
    "\n",
    "\n",
    "def train(job_dir, data_path, n_features_options, l2_reg_options):\n",
    "    \n",
    "  # Load data from GCS\n",
    "  df_train = pd.read_csv(data_path)\n",
    "\n",
    "  y = df_train.octane\n",
    "  X = df_train.drop('octane', axis=1)\n",
    "    \n",
    "  # Configure a training pipeline\n",
    "  pipeline = Pipeline([\n",
    "    ('scale', StandardScaler()),\n",
    "    ('reduce_dim', PCA()),\n",
    "    ('regress', Ridge())\n",
    "  ])\n",
    "\n",
    "  # Configure a parameter grid\n",
    "  param_grid = [\n",
    "    {\n",
    "      'reduce_dim__n_components': n_features_options,\n",
    "      'regress__alpha': l2_reg_options\n",
    "    }\n",
    "  ]\n",
    "\n",
    "  # Tune hyperparameters\n",
    "  grid = GridSearchCV(pipeline, cv=10, n_jobs=None, param_grid=param_grid, scoring='neg_mean_squared_error', iid=False)\n",
    "  grid.fit(X, y)\n",
    "\n",
    "  logging.info(\"Best estimator: {}\".format(grid.best_params_))\n",
    "  logging.info(\"Best score: {}\".format(grid.best_score_))\n",
    "    \n",
    "  # Retrain the best model on a full dataset\n",
    "  best_estimator = grid.best_estimator_\n",
    "  trained_pipeline = best_estimator.fit(X, y)\n",
    "\n",
    "  # Save the model\n",
    "  model_filename = 'model.joblib'\n",
    "  joblib.dump(value=trained_pipeline, filename=model_filename)\n",
    "  gcs_model_path = \"{}/{}\".format(job_dir, model_filename)\n",
    "  subprocess.check_call(['gsutil', 'cp', model_filename, gcs_model_path], stderr=sys.stdout)\n",
    "  logging.info(\"Saved model in: {}\".format(gcs_model_path)) \n",
    "    \n",
    "if __name__ == \"__main__\":\n",
    "  logging.basicConfig(level=logging.INFO)\n",
    "  fire.Fire(train)"
   ]
  },
  {
   "cell_type": "markdown",
   "metadata": {},
   "source": [
    "### Configure dependencies"
   ]
  },
  {
   "cell_type": "code",
   "execution_count": 11,
   "metadata": {},
   "outputs": [
    {
     "name": "stdout",
     "output_type": "stream",
     "text": [
      "Overwriting ../training_app/trainer/../setup.py\n"
     ]
    }
   ],
   "source": [
    "%%writefile $TRAINING_APP_FOLDER/../setup.py\n",
    "\n",
    "from setuptools import find_packages\n",
    "from setuptools import setup\n",
    "\n",
    "REQUIRED_PACKAGES = ['fire', 'gcsfs']\n",
    "\n",
    "setup(\n",
    "    name='trainer',\n",
    "    version='0.1',\n",
    "    install_requires=REQUIRED_PACKAGES,\n",
    "    packages=find_packages(),\n",
    "    include_package_data=True,\n",
    "    description='My training application package.'\n",
    ")"
   ]
  },
  {
   "cell_type": "markdown",
   "metadata": {},
   "source": [
    "## Submit a training job"
   ]
  },
  {
   "cell_type": "code",
   "execution_count": 14,
   "metadata": {},
   "outputs": [],
   "source": [
    "JOB_NAME = \"JOB_{}\".format(time.strftime(\"%Y%m%d_%H%M%S\"))\n",
    "SCALE_TIER = \"BASIC\"\n",
    "MODULE_NAME = \"trainer.train\"\n",
    "RUNTIME_VERSION = \"1.5\"\n",
    "PYTHON_VERSION = \"3.7\"\n",
    "\n",
    "N_FEATURES_OPTIONS=\"[2,4,6]\"\n",
    "L2_REG_OPTIONS=\"[0.1,0.2,0.3,0.5]\""
   ]
  },
  {
   "cell_type": "code",
   "execution_count": 15,
   "metadata": {},
   "outputs": [
    {
     "name": "stdout",
     "output_type": "stream",
     "text": [
      "Job [JOB_20200312_204850] submitted successfully.\n",
      "Your job is still active. You may view the status of your job with the command\n",
      "\n",
      "  $ gcloud ai-platform jobs describe JOB_20200312_204850\n",
      "\n",
      "or continue streaming the logs with the command\n",
      "\n",
      "  $ gcloud ai-platform jobs stream-logs JOB_20200312_204850\n",
      "jobId: JOB_20200312_204850\n",
      "state: QUEUED\n"
     ]
    }
   ],
   "source": [
    "!gcloud ai-platform jobs submit training $JOB_NAME \\\n",
    "--region $REGION \\\n",
    "--job-dir $JOBDIR_BUCKET/$JOB_NAME \\\n",
    "--package-path $TRAINING_APP_FOLDER \\\n",
    "--module-name $MODULE_NAME \\\n",
    "--scale-tier $SCALE_TIER \\\n",
    "--python-version $PYTHON_VERSION \\\n",
    "--runtime-version $RUNTIME_VERSION \\\n",
    "-- \\\n",
    "--data_path $TRAINING_DATA_PATH \\\n",
    "--n_features_options $N_FEATURES_OPTIONS \\\n",
    "--l2_reg_options $L2_REG_OPTIONS"
   ]
  },
  {
   "cell_type": "code",
   "execution_count": 16,
   "metadata": {},
   "outputs": [
    {
     "name": "stdout",
     "output_type": "stream",
     "text": [
      "createTime: '2020-03-12T20:48:53Z'\n",
      "etag: 1FTsDeB2m40=\n",
      "jobId: JOB_20200312_204850\n",
      "state: PREPARING\n",
      "trainingInput:\n",
      "  args:\n",
      "  - --data_path\n",
      "  - gs://mlops-dev-100-artifact-store/datasets/training.csv\n",
      "  - --n_features_options\n",
      "  - '[2,4,6]'\n",
      "  - --l2_reg_options\n",
      "  - '[0.1,0.2,0.3,0.5]'\n",
      "  jobDir: gs://mlops-dev-100-artifact-store/jobs/JOB_20200312_204850\n",
      "  packageUris:\n",
      "  - gs://mlops-dev-100-artifact-store/jobs/JOB_20200312_204850/packages/035ac1d7e0a465d94a2cf95156c82bb4afe68d1a66371147212ddc58f10a9666/trainer-0.1.tar.gz\n",
      "  pythonModule: trainer.train\n",
      "  pythonVersion: '3.7'\n",
      "  region: us-central1\n",
      "  runtimeVersion: '1.5'\n",
      "trainingOutput: {}\n",
      "\n",
      "View job in the Cloud Console at:\n",
      "https://console.cloud.google.com/mlengine/jobs/JOB_20200312_204850?project=mlops-dev-100\n",
      "\n",
      "View logs at:\n",
      "https://console.cloud.google.com/logs?resource=ml.googleapis.com%2Fjob_id%2FJOB_20200312_204850&project=mlops-dev-100\n",
      "INFO\t2020-03-12 20:48:53 +0000\tservice\t\tValidating job requirements...\n",
      "INFO\t2020-03-12 20:48:53 +0000\tservice\t\tJob creation request has been successfully validated.\n",
      "INFO\t2020-03-12 20:48:54 +0000\tservice\t\tJob JOB_20200312_204850 is queued.\n",
      "INFO\t2020-03-12 20:48:54 +0000\tservice\t\tWaiting for job to be provisioned.\n",
      "INFO\t2020-03-12 20:48:56 +0000\tservice\t\tWaiting for training program to start.\n",
      "INFO\t2020-03-12 20:50:04 +0000\tmaster-replica-0\t\tRunning task with arguments: --cluster={\"master\": [\"127.0.0.1:2222\"]} --task={\"type\": \"master\", \"index\": 0} --job={  \"package_uris\": [\"gs://mlops-dev-100-artifact-store/jobs/JOB_20200312_204850/packages/035ac1d7e0a465d94a2cf95156c82bb4afe68d1a66371147212ddc58f10a9666/trainer-0.1.tar.gz\"],  \"python_module\": \"trainer.train\",  \"args\": [\"--data_path\", \"gs://mlops-dev-100-artifact-store/datasets/training.csv\", \"--n_features_options\", \"[2,4,6]\", \"--l2_reg_options\", \"[0.1,0.2,0.3,0.5]\"],  \"region\": \"us-central1\",  \"runtime_version\": \"1.5\",  \"job_dir\": \"gs://mlops-dev-100-artifact-store/jobs/JOB_20200312_204850\",  \"run_on_raw_vm\": true,  \"python_version\": \"3.7\"}\n",
      "INFO\t2020-03-12 20:50:33 +0000\tmaster-replica-0\t\tRunning module trainer.train.\n",
      "INFO\t2020-03-12 20:50:33 +0000\tmaster-replica-0\t\tDownloading the package: gs://mlops-dev-100-artifact-store/jobs/JOB_20200312_204850/packages/035ac1d7e0a465d94a2cf95156c82bb4afe68d1a66371147212ddc58f10a9666/trainer-0.1.tar.gz\n",
      "INFO\t2020-03-12 20:50:33 +0000\tmaster-replica-0\t\tRunning command: gsutil -q cp gs://mlops-dev-100-artifact-store/jobs/JOB_20200312_204850/packages/035ac1d7e0a465d94a2cf95156c82bb4afe68d1a66371147212ddc58f10a9666/trainer-0.1.tar.gz trainer-0.1.tar.gz\n",
      "INFO\t2020-03-12 20:50:35 +0000\tmaster-replica-0\t\tInstalling the package: gs://mlops-dev-100-artifact-store/jobs/JOB_20200312_204850/packages/035ac1d7e0a465d94a2cf95156c82bb4afe68d1a66371147212ddc58f10a9666/trainer-0.1.tar.gz\n",
      "INFO\t2020-03-12 20:50:35 +0000\tmaster-replica-0\t\tRunning command: pip3 install --user --upgrade --force-reinstall --no-deps trainer-0.1.tar.gz\n",
      "INFO\t2020-03-12 20:50:36 +0000\tmaster-replica-0\t\tProcessing ./trainer-0.1.tar.gz\n",
      "INFO\t2020-03-12 20:50:37 +0000\tmaster-replica-0\t\tGenerating grammar tables from /usr/lib/python3.5/lib2to3/Grammar.txt\n",
      "INFO\t2020-03-12 20:50:37 +0000\tmaster-replica-0\t\tGenerating grammar tables from /usr/lib/python3.5/lib2to3/PatternGrammar.txt\n",
      "INFO\t2020-03-12 20:50:37 +0000\tmaster-replica-0\t\tBuilding wheels for collected packages: trainer\n",
      "INFO\t2020-03-12 20:50:37 +0000\tmaster-replica-0\t\t  Building wheel for trainer (setup.py): started\n",
      "INFO\t2020-03-12 20:50:37 +0000\tmaster-replica-0\t\tGenerating grammar tables from /usr/lib/python3.5/lib2to3/Grammar.txt\n",
      "INFO\t2020-03-12 20:50:37 +0000\tmaster-replica-0\t\tGenerating grammar tables from /usr/lib/python3.5/lib2to3/PatternGrammar.txt\n",
      "INFO\t2020-03-12 20:50:37 +0000\tmaster-replica-0\t\t  Building wheel for trainer (setup.py): finished with status 'done'\n",
      "INFO\t2020-03-12 20:50:37 +0000\tmaster-replica-0\t\t  Created wheel for trainer: filename=trainer-0.1-py3-none-any.whl size=2778 sha256=22ba560f2a51ae3ff06dfa3b2367f3b4dc7b2334b8b2c0cb7201db15088093f8\n",
      "INFO\t2020-03-12 20:50:37 +0000\tmaster-replica-0\t\t  Stored in directory: /root/.cache/pip/wheels/27/52/ec/ca70456bee0d839359bd0c6135e45fed00f00d7c3243cff4a4\n",
      "INFO\t2020-03-12 20:50:37 +0000\tmaster-replica-0\t\tSuccessfully built trainer\n",
      "INFO\t2020-03-12 20:50:37 +0000\tmaster-replica-0\t\tInstalling collected packages: trainer\n",
      "INFO\t2020-03-12 20:50:37 +0000\tmaster-replica-0\t\tSuccessfully installed trainer-0.1\n",
      "INFO\t2020-03-12 20:50:38 +0000\tmaster-replica-0\t\tRunning command: pip3 install --user trainer-0.1.tar.gz\n",
      "INFO\t2020-03-12 20:50:38 +0000\tmaster-replica-0\t\tProcessing ./trainer-0.1.tar.gz\n",
      "INFO\t2020-03-12 20:50:39 +0000\tmaster-replica-0\t\tGenerating grammar tables from /usr/lib/python3.5/lib2to3/Grammar.txt\n",
      "INFO\t2020-03-12 20:50:39 +0000\tmaster-replica-0\t\tGenerating grammar tables from /usr/lib/python3.5/lib2to3/PatternGrammar.txt\n",
      "INFO\t2020-03-12 20:50:39 +0000\tmaster-replica-0\t\tCollecting fire\n",
      "INFO\t2020-03-12 20:50:39 +0000\tmaster-replica-0\t\t  Downloading fire-0.2.1.tar.gz (76 kB)\n",
      "INFO\t2020-03-12 20:50:40 +0000\tmaster-replica-0\t\tGenerating grammar tables from /usr/lib/python3.5/lib2to3/Grammar.txt\n",
      "INFO\t2020-03-12 20:50:40 +0000\tmaster-replica-0\t\tGenerating grammar tables from /usr/lib/python3.5/lib2to3/PatternGrammar.txt\n",
      "INFO\t2020-03-12 20:50:40 +0000\tmaster-replica-0\t\tCollecting gcsfs\n",
      "INFO\t2020-03-12 20:50:40 +0000\tmaster-replica-0\t\t  Downloading gcsfs-0.6.0-py2.py3-none-any.whl (17 kB)\n",
      "INFO\t2020-03-12 20:50:40 +0000\tmaster-replica-0\t\tRequirement already satisfied: six in /usr/local/lib/python3.5/dist-packages (from fire->trainer==0.1) (1.10.0)\n",
      "INFO\t2020-03-12 20:50:40 +0000\tmaster-replica-0\t\tCollecting termcolor\n",
      "INFO\t2020-03-12 20:50:40 +0000\tmaster-replica-0\t\t  Downloading termcolor-1.1.0.tar.gz (3.9 kB)\n",
      "INFO\t2020-03-12 20:50:40 +0000\tmaster-replica-0\t\tGenerating grammar tables from /usr/lib/python3.5/lib2to3/Grammar.txt\n",
      "INFO\t2020-03-12 20:50:40 +0000\tmaster-replica-0\t\tGenerating grammar tables from /usr/lib/python3.5/lib2to3/PatternGrammar.txt\n",
      "INFO\t2020-03-12 20:50:40 +0000\tmaster-replica-0\t\tCollecting decorator\n",
      "INFO\t2020-03-12 20:50:40 +0000\tmaster-replica-0\t\t  Downloading decorator-4.4.2-py2.py3-none-any.whl (9.2 kB)\n",
      "INFO\t2020-03-12 20:50:40 +0000\tmaster-replica-0\t\tRequirement already satisfied: google-auth>=1.2 in /usr/local/lib/python3.5/dist-packages (from gcsfs->trainer==0.1) (1.11.2)\n",
      "INFO\t2020-03-12 20:50:41 +0000\tmaster-replica-0\t\tCollecting google-auth-oauthlib\n",
      "INFO\t2020-03-12 20:50:41 +0000\tmaster-replica-0\t\t  Downloading google_auth_oauthlib-0.4.1-py2.py3-none-any.whl (18 kB)\n",
      "INFO\t2020-03-12 20:50:41 +0000\tmaster-replica-0\t\tCollecting fsspec>=0.6.0\n",
      "INFO\t2020-03-12 20:50:41 +0000\tmaster-replica-0\t\t  Downloading fsspec-0.6.2-py3-none-any.whl (62 kB)\n",
      "INFO\t2020-03-12 20:50:41 +0000\tmaster-replica-0\t\tRequirement already satisfied: requests in /usr/local/lib/python3.5/dist-packages (from gcsfs->trainer==0.1) (2.13.0)\n",
      "INFO\t2020-03-12 20:50:41 +0000\tmaster-replica-0\t\tRequirement already satisfied: cachetools<5.0,>=2.0.0 in /usr/local/lib/python3.5/dist-packages (from google-auth>=1.2->gcsfs->trainer==0.1) (4.0.0)\n",
      "INFO\t2020-03-12 20:50:41 +0000\tmaster-replica-0\t\tRequirement already satisfied: rsa<4.1,>=3.1.4 in /usr/local/lib/python3.5/dist-packages (from google-auth>=1.2->gcsfs->trainer==0.1) (4.0)\n",
      "INFO\t2020-03-12 20:50:41 +0000\tmaster-replica-0\t\tRequirement already satisfied: pyasn1-modules>=0.2.1 in /usr/local/lib/python3.5/dist-packages (from google-auth>=1.2->gcsfs->trainer==0.1) (0.2.8)\n",
      "INFO\t2020-03-12 20:50:41 +0000\tmaster-replica-0\t\tRequirement already satisfied: setuptools>=40.3.0 in /usr/local/lib/python3.5/dist-packages (from google-auth>=1.2->gcsfs->trainer==0.1) (45.2.0)\n",
      "INFO\t2020-03-12 20:50:41 +0000\tmaster-replica-0\t\tCollecting requests-oauthlib>=0.7.0\n",
      "INFO\t2020-03-12 20:50:41 +0000\tmaster-replica-0\t\t  Downloading requests_oauthlib-1.3.0-py2.py3-none-any.whl (23 kB)\n",
      "INFO\t2020-03-12 20:50:41 +0000\tmaster-replica-0\t\tRequirement already satisfied: pyasn1>=0.1.3 in /usr/local/lib/python3.5/dist-packages (from rsa<4.1,>=3.1.4->google-auth>=1.2->gcsfs->trainer==0.1) (0.4.8)\n",
      "INFO\t2020-03-12 20:50:41 +0000\tmaster-replica-0\t\tCollecting oauthlib>=3.0.0\n",
      "INFO\t2020-03-12 20:50:41 +0000\tmaster-replica-0\t\t  Downloading oauthlib-3.1.0-py2.py3-none-any.whl (147 kB)\n",
      "INFO\t2020-03-12 20:50:41 +0000\tmaster-replica-0\t\tBuilding wheels for collected packages: trainer, fire, termcolor\n",
      "INFO\t2020-03-12 20:50:41 +0000\tmaster-replica-0\t\t  Building wheel for trainer (setup.py): started\n",
      "INFO\t2020-03-12 20:50:41 +0000\tmaster-replica-0\t\tGenerating grammar tables from /usr/lib/python3.5/lib2to3/Grammar.txt\n",
      "INFO\t2020-03-12 20:50:41 +0000\tmaster-replica-0\t\tGenerating grammar tables from /usr/lib/python3.5/lib2to3/PatternGrammar.txt\n",
      "INFO\t2020-03-12 20:50:42 +0000\tmaster-replica-0\t\t  Building wheel for trainer (setup.py): finished with status 'done'\n",
      "INFO\t2020-03-12 20:50:42 +0000\tmaster-replica-0\t\t  Created wheel for trainer: filename=trainer-0.1-py3-none-any.whl size=2778 sha256=73960677ae2a08073749f93bd205d0d1d2a66219ca979f44a7478c162c9ada1d\n",
      "INFO\t2020-03-12 20:50:42 +0000\tmaster-replica-0\t\t  Stored in directory: /root/.cache/pip/wheels/27/52/ec/ca70456bee0d839359bd0c6135e45fed00f00d7c3243cff4a4\n",
      "INFO\t2020-03-12 20:50:42 +0000\tmaster-replica-0\t\t  Building wheel for fire (setup.py): started\n",
      "INFO\t2020-03-12 20:50:42 +0000\tmaster-replica-0\t\tGenerating grammar tables from /usr/lib/python3.5/lib2to3/Grammar.txt\n",
      "INFO\t2020-03-12 20:50:42 +0000\tmaster-replica-0\t\tGenerating grammar tables from /usr/lib/python3.5/lib2to3/PatternGrammar.txt\n",
      "INFO\t2020-03-12 20:50:42 +0000\tmaster-replica-0\t\t  Building wheel for fire (setup.py): finished with status 'done'\n",
      "INFO\t2020-03-12 20:50:42 +0000\tmaster-replica-0\t\t  Created wheel for fire: filename=fire-0.2.1-py2.py3-none-any.whl size=104738 sha256=49aa17736a98ce0d3f97ca0b14d9d37611c2cab73164b801406500ec32270087\n",
      "INFO\t2020-03-12 20:50:42 +0000\tmaster-replica-0\t\t  Stored in directory: /root/.cache/pip/wheels/9e/2c/eb/81acd84754068a88b01c90033d658ada61fc95cb38afe86b53\n",
      "INFO\t2020-03-12 20:50:42 +0000\tmaster-replica-0\t\t  Building wheel for termcolor (setup.py): started\n",
      "INFO\t2020-03-12 20:50:43 +0000\tmaster-replica-0\t\tGenerating grammar tables from /usr/lib/python3.5/lib2to3/Grammar.txt\n",
      "INFO\t2020-03-12 20:50:43 +0000\tmaster-replica-0\t\tGenerating grammar tables from /usr/lib/python3.5/lib2to3/PatternGrammar.txt\n",
      "INFO\t2020-03-12 20:50:43 +0000\tmaster-replica-0\t\t  Building wheel for termcolor (setup.py): finished with status 'done'\n",
      "INFO\t2020-03-12 20:50:43 +0000\tmaster-replica-0\t\t  Created wheel for termcolor: filename=termcolor-1.1.0-py3-none-any.whl size=5679 sha256=81e87f9e0a3ae9d0656de9031200f59fe69e0d370d9cdefabc381a90444f6dde\n",
      "INFO\t2020-03-12 20:50:43 +0000\tmaster-replica-0\t\t  Stored in directory: /root/.cache/pip/wheels/91/0e/11/1f1321dce76e9c542907008e4a94ff79f8bf525a3fa32b09f3\n",
      "INFO\t2020-03-12 20:50:43 +0000\tmaster-replica-0\t\tSuccessfully built trainer fire termcolor\n",
      "INFO\t2020-03-12 20:50:43 +0000\tmaster-replica-0\t\tInstalling collected packages: termcolor, fire, decorator, oauthlib, requests-oauthlib, google-auth-oauthlib, fsspec, gcsfs, trainer\n",
      "ERROR\t2020-03-12 20:50:43 +0000\tmaster-replica-0\t\t  WARNING: The script google-oauthlib-tool is installed in '/root/.local/bin' which is not on PATH.\n",
      "ERROR\t2020-03-12 20:50:43 +0000\tmaster-replica-0\t\t  Consider adding this directory to PATH or, if you prefer to suppress this warning, use --no-warn-script-location.\n",
      "INFO\t2020-03-12 20:50:43 +0000\tmaster-replica-0\t\t  Attempting uninstall: trainer\n",
      "INFO\t2020-03-12 20:50:43 +0000\tmaster-replica-0\t\t    Found existing installation: trainer 0.1\n",
      "INFO\t2020-03-12 20:50:43 +0000\tmaster-replica-0\t\t    Uninstalling trainer-0.1:\n",
      "INFO\t2020-03-12 20:50:43 +0000\tmaster-replica-0\t\t      Successfully uninstalled trainer-0.1\n",
      "INFO\t2020-03-12 20:50:43 +0000\tmaster-replica-0\t\tSuccessfully installed decorator-4.4.2 fire-0.2.1 fsspec-0.6.2 gcsfs-0.6.0 google-auth-oauthlib-0.4.1 oauthlib-3.1.0 requests-oauthlib-1.3.0 termcolor-1.1.0 trainer-0.1\n",
      "INFO\t2020-03-12 20:50:44 +0000\tmaster-replica-0\t\tRunning command: python3 -m trainer.train --data_path gs://mlops-dev-100-artifact-store/datasets/training.csv --n_features_options [2,4,6] --l2_reg_options [0.1,0.2,0.3,0.5] --job-dir gs://mlops-dev-100-artifact-store/jobs/JOB_20200312_204850\n",
      "ERROR\t2020-03-12 20:50:45 +0000\tmaster-replica-0\t\tTraceback (most recent call last):\n",
      "ERROR\t2020-03-12 20:50:45 +0000\tmaster-replica-0\t\t  File \"/usr/lib/python3.5/runpy.py\", line 184, in _run_module_as_main\n",
      "ERROR\t2020-03-12 20:50:45 +0000\tmaster-replica-0\t\t    \"__main__\", mod_spec)\n",
      "ERROR\t2020-03-12 20:50:45 +0000\tmaster-replica-0\t\t  File \"/usr/lib/python3.5/runpy.py\", line 85, in _run_code\n",
      "ERROR\t2020-03-12 20:50:45 +0000\tmaster-replica-0\t\t    exec(code, run_globals)\n",
      "ERROR\t2020-03-12 20:50:45 +0000\tmaster-replica-0\t\t  File \"/root/.local/lib/python3.5/site-packages/trainer/train.py\", line 67, in <module>\n",
      "ERROR\t2020-03-12 20:50:45 +0000\tmaster-replica-0\t\t    fire.Fire(train)\n",
      "ERROR\t2020-03-12 20:50:45 +0000\tmaster-replica-0\t\t  File \"/root/.local/lib/python3.5/site-packages/fire/core.py\", line 138, in Fire\n",
      "ERROR\t2020-03-12 20:50:45 +0000\tmaster-replica-0\t\t    component_trace = _Fire(component, args, parsed_flag_args, context, name)\n",
      "ERROR\t2020-03-12 20:50:45 +0000\tmaster-replica-0\t\t  File \"/root/.local/lib/python3.5/site-packages/fire/core.py\", line 471, in _Fire\n",
      "ERROR\t2020-03-12 20:50:45 +0000\tmaster-replica-0\t\t    target=component.__name__)\n",
      "ERROR\t2020-03-12 20:50:45 +0000\tmaster-replica-0\t\t  File \"/root/.local/lib/python3.5/site-packages/fire/core.py\", line 675, in _CallAndUpdateTrace\n",
      "ERROR\t2020-03-12 20:50:45 +0000\tmaster-replica-0\t\t    component = fn(*varargs, **kwargs)\n",
      "ERROR\t2020-03-12 20:50:45 +0000\tmaster-replica-0\t\t  File \"/root/.local/lib/python3.5/site-packages/trainer/train.py\", line 27, in train\n",
      "ERROR\t2020-03-12 20:50:45 +0000\tmaster-replica-0\t\t    df_train = pd.read_csv(data_path)\n",
      "ERROR\t2020-03-12 20:50:45 +0000\tmaster-replica-0\t\t  File \"/usr/local/lib/python3.5/dist-packages/pandas/io/parsers.py\", line 646, in parser_f\n",
      "ERROR\t2020-03-12 20:50:45 +0000\tmaster-replica-0\t\t    return _read(filepath_or_buffer, kwds)\n",
      "ERROR\t2020-03-12 20:50:45 +0000\tmaster-replica-0\t\t  File \"/usr/local/lib/python3.5/dist-packages/pandas/io/parsers.py\", line 389, in _read\n",
      "ERROR\t2020-03-12 20:50:45 +0000\tmaster-replica-0\t\t    parser = TextFileReader(filepath_or_buffer, **kwds)\n",
      "ERROR\t2020-03-12 20:50:45 +0000\tmaster-replica-0\t\t  File \"/usr/local/lib/python3.5/dist-packages/pandas/io/parsers.py\", line 730, in __init__\n",
      "ERROR\t2020-03-12 20:50:45 +0000\tmaster-replica-0\t\t    self._make_engine(self.engine)\n",
      "ERROR\t2020-03-12 20:50:45 +0000\tmaster-replica-0\t\t  File \"/usr/local/lib/python3.5/dist-packages/pandas/io/parsers.py\", line 923, in _make_engine\n",
      "ERROR\t2020-03-12 20:50:45 +0000\tmaster-replica-0\t\t    self._engine = CParserWrapper(self.f, **self.options)\n",
      "ERROR\t2020-03-12 20:50:45 +0000\tmaster-replica-0\t\t  File \"/usr/local/lib/python3.5/dist-packages/pandas/io/parsers.py\", line 1390, in __init__\n",
      "ERROR\t2020-03-12 20:50:45 +0000\tmaster-replica-0\t\t    self._reader = _parser.TextReader(src, **kwds)\n",
      "ERROR\t2020-03-12 20:50:45 +0000\tmaster-replica-0\t\t  File \"pandas/parser.pyx\", line 373, in pandas.parser.TextReader.__cinit__ (pandas/parser.c:4184)\n",
      "ERROR\t2020-03-12 20:50:45 +0000\tmaster-replica-0\t\t  File \"pandas/parser.pyx\", line 667, in pandas.parser.TextReader._setup_parser_source (pandas/parser.c:8449)\n",
      "ERROR\t2020-03-12 20:50:45 +0000\tmaster-replica-0\t\tFileNotFoundError: File b'gs://mlops-dev-100-artifact-store/datasets/training.csv' does not exist\n",
      "ERROR\t2020-03-12 20:50:45 +0000\tmaster-replica-0\t\tCommand '['python3', '-m', 'trainer.train', '--data_path', 'gs://mlops-dev-100-artifact-store/datasets/training.csv', '--n_features_options', '[2,4,6]', '--l2_reg_options', '[0.1,0.2,0.3,0.5]', '--job-dir', 'gs://mlops-dev-100-artifact-store/jobs/JOB_20200312_204850']' returned non-zero exit status 1\n",
      "INFO\t2020-03-12 20:50:45 +0000\tmaster-replica-0\t\tModule completed; cleaning up.\n",
      "INFO\t2020-03-12 20:50:45 +0000\tmaster-replica-0\t\tClean up finished.\n",
      "ERROR\t2020-03-12 20:51:08 +0000\tservice\t\tThe replica master 0 exited with a non-zero status of 1. \n",
      "ERROR\t2020-03-12 20:51:08 +0000\tservice\t\tTraceback (most recent call last):\n",
      "ERROR\t2020-03-12 20:51:08 +0000\tservice\t\t  File \"/usr/lib/python3.5/runpy.py\", line 184, in _run_module_as_main\n",
      "ERROR\t2020-03-12 20:51:08 +0000\tservice\t\t    \"__main__\", mod_spec)\n",
      "ERROR\t2020-03-12 20:51:08 +0000\tservice\t\t  File \"/usr/lib/python3.5/runpy.py\", line 85, in _run_code\n",
      "ERROR\t2020-03-12 20:51:08 +0000\tservice\t\t    exec(code, run_globals)\n",
      "ERROR\t2020-03-12 20:51:08 +0000\tservice\t\t  File \"/root/.local/lib/python3.5/site-packages/trainer/train.py\", line 67, in <module>\n",
      "ERROR\t2020-03-12 20:51:08 +0000\tservice\t\t    fire.Fire(train)\n",
      "ERROR\t2020-03-12 20:51:08 +0000\tservice\t\t  File \"/root/.local/lib/python3.5/site-packages/fire/core.py\", line 138, in Fire\n",
      "ERROR\t2020-03-12 20:51:08 +0000\tservice\t\t    component_trace = _Fire(component, args, parsed_flag_args, context, name)\n",
      "ERROR\t2020-03-12 20:51:08 +0000\tservice\t\t  File \"/root/.local/lib/python3.5/site-packages/fire/core.py\", line 471, in _Fire\n",
      "ERROR\t2020-03-12 20:51:08 +0000\tservice\t\t    target=component.__name__)\n",
      "ERROR\t2020-03-12 20:51:08 +0000\tservice\t\t  File \"/root/.local/lib/python3.5/site-packages/fire/core.py\", line 675, in _CallAndUpdateTrace\n",
      "ERROR\t2020-03-12 20:51:08 +0000\tservice\t\t    component = fn(*varargs, **kwargs)\n",
      "ERROR\t2020-03-12 20:51:08 +0000\tservice\t\t  File \"/root/.local/lib/python3.5/site-packages/trainer/train.py\", line 27, in train\n",
      "ERROR\t2020-03-12 20:51:08 +0000\tservice\t\t    df_train = pd.read_csv(data_path)\n",
      "ERROR\t2020-03-12 20:51:08 +0000\tservice\t\t  File \"/usr/local/lib/python3.5/dist-packages/pandas/io/parsers.py\", line 646, in parser_f\n",
      "ERROR\t2020-03-12 20:51:08 +0000\tservice\t\t    return _read(filepath_or_buffer, kwds)\n",
      "ERROR\t2020-03-12 20:51:08 +0000\tservice\t\t  File \"/usr/local/lib/python3.5/dist-packages/pandas/io/parsers.py\", line 389, in _read\n",
      "ERROR\t2020-03-12 20:51:08 +0000\tservice\t\t    parser = TextFileReader(filepath_or_buffer, **kwds)\n",
      "ERROR\t2020-03-12 20:51:08 +0000\tservice\t\t  File \"/usr/local/lib/python3.5/dist-packages/pandas/io/parsers.py\", line 730, in __init__\n",
      "ERROR\t2020-03-12 20:51:08 +0000\tservice\t\t    self._make_engine(self.engine)\n",
      "ERROR\t2020-03-12 20:51:08 +0000\tservice\t\t  File \"/usr/local/lib/python3.5/dist-packages/pandas/io/parsers.py\", line 923, in _make_engine\n",
      "ERROR\t2020-03-12 20:51:08 +0000\tservice\t\t    self._engine = CParserWrapper(self.f, **self.options)\n",
      "ERROR\t2020-03-12 20:51:08 +0000\tservice\t\t  File \"/usr/local/lib/python3.5/dist-packages/pandas/io/parsers.py\", line 1390, in __init__\n",
      "ERROR\t2020-03-12 20:51:08 +0000\tservice\t\t    self._reader = _parser.TextReader(src, **kwds)\n",
      "ERROR\t2020-03-12 20:51:08 +0000\tservice\t\t  File \"pandas/parser.pyx\", line 373, in pandas.parser.TextReader.__cinit__ (pandas/parser.c:4184)\n",
      "ERROR\t2020-03-12 20:51:08 +0000\tservice\t\t  File \"pandas/parser.pyx\", line 667, in pandas.parser.TextReader._setup_parser_source (pandas/parser.c:8449)\n",
      "ERROR\t2020-03-12 20:51:08 +0000\tservice\t\tFileNotFoundError: File b'gs://mlops-dev-100-artifact-store/datasets/training.csv' does not exist\n",
      "ERROR\t2020-03-12 20:51:08 +0000\tservice\t\t\n",
      "ERROR\t2020-03-12 20:51:08 +0000\tservice\t\tTo find out more about why your job exited please check the logs: https://console.cloud.google.com/logs/viewer?project=286479790129&resource=ml_job%2Fjob_id%2FJOB_20200312_204850&advancedFilter=resource.type%3D%22ml_job%22%0Aresource.labels.job_id%3D%22JOB_20200312_204850%22\n",
      "INFO\t2020-03-12 20:53:40 +0000\tservice\t\tJob failed.\n"
     ]
    }
   ],
   "source": [
    "!gcloud ai-platform jobs describe $JOB_NAME\n",
    "!gcloud ai-platform jobs stream-logs $JOB_NAME"
   ]
  },
  {
   "cell_type": "markdown",
   "metadata": {},
   "source": [
    "### Copy the trained model to model repo"
   ]
  },
  {
   "cell_type": "code",
   "execution_count": null,
   "metadata": {},
   "outputs": [],
   "source": [
    "MODEL_NAME = \"octane-regressor-r14\"\n",
    "\n",
    "!gsutil cp $JOBDIR_BUCKET/$JOB_NAME/model.joblib $ARTIFACT_STORE/models/$MODEL_NAME/model.joblib"
   ]
  },
  {
   "cell_type": "markdown",
   "metadata": {},
   "source": [
    "## Download and test the model"
   ]
  },
  {
   "cell_type": "code",
   "execution_count": null,
   "metadata": {},
   "outputs": [],
   "source": [
    "LOCAL_PATH = '/tmp/model.joblib'\n",
    "\n",
    "!gsutil cp $ARTIFACT_STORE/models/$MODEL_NAME/model.joblib $LOCAL_PATH "
   ]
  },
  {
   "cell_type": "code",
   "execution_count": null,
   "metadata": {},
   "outputs": [],
   "source": [
    "from sklearn.externals import joblib\n",
    "import pandas as pd\n",
    "\n",
    "df_test = pd.read_csv(TESTING_DATA_PATH)\n",
    "predictor = joblib.load(LOCAL_PATH)\n",
    "\n",
    "y = df_test.octane\n",
    "X = df_test.drop('octane', axis=1)\n",
    "\n",
    "y_hat = predictor.predict(X)\n",
    "print(list(zip(y, y_hat)))"
   ]
  }
 ],
 "metadata": {
  "kernelspec": {
   "display_name": "Python 3",
   "language": "python",
   "name": "python3"
  },
  "language_info": {
   "codemirror_mode": {
    "name": "ipython",
    "version": 3
   },
   "file_extension": ".py",
   "mimetype": "text/x-python",
   "name": "python",
   "nbconvert_exporter": "python",
   "pygments_lexer": "ipython3",
   "version": "3.7.6"
  }
 },
 "nbformat": 4,
 "nbformat_minor": 4
}
