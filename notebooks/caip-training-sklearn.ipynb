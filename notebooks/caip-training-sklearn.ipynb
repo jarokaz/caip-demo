{
 "cells": [
  {
   "cell_type": "markdown",
   "metadata": {},
   "source": [
    "# Trainining on AI Platform with scikit-learn"
   ]
  },
  {
   "cell_type": "code",
   "execution_count": 1,
   "metadata": {},
   "outputs": [],
   "source": [
    "import os\n",
    "import time"
   ]
  },
  {
   "cell_type": "markdown",
   "metadata": {},
   "source": [
    "## Configure environment\n",
    "\n",
    "*You need to walk through the `local-experimentation.ipynb` notebook to create training and validation datasets.*\n"
   ]
  },
  {
   "cell_type": "code",
   "execution_count": 2,
   "metadata": {},
   "outputs": [],
   "source": [
    "PROJECT_ID = !(gcloud config get-value core/project)\n",
    "ARTIFACT_STORE = 'gs://{}-artifact-store'.format(PROJECT_ID[0])\n",
    "\n",
    "TRAINING_DATA_PATH = '{}/datasets/training.csv'.format(ARTIFACT_STORE)\n",
    "TESTING_DATA_PATH = '{}/datasets/testing.csv'.format(ARTIFACT_STORE)\n",
    "REGION = \"us-central1\"\n",
    "JOBDIR_BUCKET = '{}/jobs'.format(ARTIFACT_STORE)"
   ]
  },
  {
   "cell_type": "markdown",
   "metadata": {},
   "source": [
    "## Create a training application package\n",
    "### Create a training module"
   ]
  },
  {
   "cell_type": "code",
   "execution_count": 3,
   "metadata": {},
   "outputs": [],
   "source": [
    "TRAINING_APP_FOLDER = '../training_app/trainer'\n",
    "\n",
    "os.makedirs(TRAINING_APP_FOLDER, exist_ok=True)\n",
    "!touch $TRAINING_APP_FOLDER/__init__.py"
   ]
  },
  {
   "cell_type": "code",
   "execution_count": 4,
   "metadata": {},
   "outputs": [
    {
     "name": "stdout",
     "output_type": "stream",
     "text": [
      "Overwriting ../training_app/trainer/train.py\n"
     ]
    }
   ],
   "source": [
    "%%writefile $TRAINING_APP_FOLDER/train.py\n",
    "\n",
    "import logging\n",
    "import os\n",
    "import subprocess\n",
    "import sys\n",
    "\n",
    "import fire\n",
    "import joblib\n",
    "import numpy as np\n",
    "import pandas as pd\n",
    "\n",
    "from sklearn.cross_decomposition import PLSRegression\n",
    "from sklearn.decomposition import PCA\n",
    "from sklearn.feature_selection import SelectKBest, chi2\n",
    "from sklearn.linear_model import Ridge\n",
    "from sklearn.manifold import TSNE \n",
    "from sklearn.metrics import mean_squared_error\n",
    "from sklearn.model_selection import GridSearchCV\n",
    "from sklearn.model_selection import train_test_split\n",
    "from sklearn.pipeline import Pipeline\n",
    "from sklearn.preprocessing import StandardScaler\n",
    "\n",
    "\n",
    "def train(job_dir, data_path, n_features_options, l2_reg_options):\n",
    "    \n",
    "  # Load data from GCS\n",
    "  df_train = pd.read_csv(data_path)\n",
    "\n",
    "  y = df_train.octane\n",
    "  X = df_train.drop('octane', axis=1)\n",
    "    \n",
    "  # Configure a training pipeline\n",
    "  pipeline = Pipeline([\n",
    "    ('scale', StandardScaler()),\n",
    "    ('reduce_dim', PCA()),\n",
    "    ('regress', Ridge())\n",
    "  ])\n",
    "\n",
    "  # Configure a parameter grid\n",
    "  param_grid = [\n",
    "    {\n",
    "      'reduce_dim__n_components': n_features_options,\n",
    "      'regress__alpha': l2_reg_options\n",
    "    }\n",
    "  ]\n",
    "\n",
    "  # Tune hyperparameters\n",
    "  grid = GridSearchCV(pipeline, cv=10, n_jobs=None, param_grid=param_grid, scoring='neg_mean_squared_error', iid=False)\n",
    "  grid.fit(X, y)\n",
    "\n",
    "  logging.info(\"Best estimator: {}\".format(grid.best_params_))\n",
    "  logging.info(\"Best score: {}\".format(grid.best_score_))\n",
    "    \n",
    "  # Retrain the best model on a full dataset\n",
    "  best_estimator = grid.best_estimator_\n",
    "  trained_pipeline = best_estimator.fit(X, y)\n",
    "\n",
    "  # Save the model\n",
    "  model_filename = 'model.joblib'\n",
    "  joblib.dump(value=trained_pipeline, filename=model_filename)\n",
    "  gcs_model_path = \"{}/{}\".format(job_dir, model_filename)\n",
    "  subprocess.check_call(['gsutil', 'cp', model_filename, gcs_model_path], stderr=sys.stdout)\n",
    "  logging.info(\"Saved model in: {}\".format(gcs_model_path)) \n",
    "    \n",
    "if __name__ == \"__main__\":\n",
    "  logging.basicConfig(level=logging.INFO)\n",
    "  fire.Fire(train)"
   ]
  },
  {
   "cell_type": "markdown",
   "metadata": {},
   "source": [
    "### Configure dependencies"
   ]
  },
  {
   "cell_type": "code",
   "execution_count": 5,
   "metadata": {},
   "outputs": [
    {
     "name": "stdout",
     "output_type": "stream",
     "text": [
      "Overwriting ../training_app/trainer/../setup.py\n"
     ]
    }
   ],
   "source": [
    "%%writefile $TRAINING_APP_FOLDER/../setup.py\n",
    "\n",
    "from setuptools import find_packages\n",
    "from setuptools import setup\n",
    "\n",
    "REQUIRED_PACKAGES = ['fire', 'gcsfs']\n",
    "\n",
    "setup(\n",
    "    name='trainer',\n",
    "    version='0.1',\n",
    "    install_requires=REQUIRED_PACKAGES,\n",
    "    packages=find_packages(),\n",
    "    include_package_data=True,\n",
    "    description='My training application package.'\n",
    ")"
   ]
  },
  {
   "cell_type": "markdown",
   "metadata": {},
   "source": [
    "## Submit a training job"
   ]
  },
  {
   "cell_type": "code",
   "execution_count": 17,
   "metadata": {},
   "outputs": [],
   "source": [
    "JOB_NAME = \"JOB_{}\".format(time.strftime(\"%Y%m%d_%H%M%S\"))\n",
    "SCALE_TIER = \"BASIC\"\n",
    "MODULE_NAME = \"trainer.train\"\n",
    "RUNTIME_VERSION = \"2.1\"\n",
    "PYTHON_VERSION = \"3.7\"\n",
    "\n",
    "N_FEATURES_OPTIONS=\"[2,4,6]\"\n",
    "L2_REG_OPTIONS=\"[0.1,0.2,0.3,0.5]\""
   ]
  },
  {
   "cell_type": "code",
   "execution_count": 18,
   "metadata": {},
   "outputs": [
    {
     "name": "stdout",
     "output_type": "stream",
     "text": [
      "Job [JOB_20200312_220502] submitted successfully.\n",
      "Your job is still active. You may view the status of your job with the command\n",
      "\n",
      "  $ gcloud ai-platform jobs describe JOB_20200312_220502\n",
      "\n",
      "or continue streaming the logs with the command\n",
      "\n",
      "  $ gcloud ai-platform jobs stream-logs JOB_20200312_220502\n",
      "jobId: JOB_20200312_220502\n",
      "state: QUEUED\n"
     ]
    }
   ],
   "source": [
    "!gcloud ai-platform jobs submit training $JOB_NAME \\\n",
    "--region $REGION \\\n",
    "--job-dir $JOBDIR_BUCKET/$JOB_NAME \\\n",
    "--package-path $TRAINING_APP_FOLDER \\\n",
    "--module-name $MODULE_NAME \\\n",
    "--scale-tier $SCALE_TIER \\\n",
    "--python-version $PYTHON_VERSION \\\n",
    "--runtime-version $RUNTIME_VERSION \\\n",
    "-- \\\n",
    "--data_path $TRAINING_DATA_PATH \\\n",
    "--n_features_options $N_FEATURES_OPTIONS \\\n",
    "--l2_reg_options $L2_REG_OPTIONS"
   ]
  },
  {
   "cell_type": "code",
   "execution_count": 19,
   "metadata": {},
   "outputs": [
    {
     "name": "stdout",
     "output_type": "stream",
     "text": [
      "createTime: '2020-03-12T22:05:05Z'\n",
      "etag: zlqtE1P-YA8=\n",
      "jobId: JOB_20200312_220502\n",
      "state: PREPARING\n",
      "trainingInput:\n",
      "  args:\n",
      "  - --data_path\n",
      "  - gs://mlops-dev-100-artifact-store/datasets/training.csv\n",
      "  - --n_features_options\n",
      "  - '[2,4,6]'\n",
      "  - --l2_reg_options\n",
      "  - '[0.1,0.2,0.3,0.5]'\n",
      "  jobDir: gs://mlops-dev-100-artifact-store/jobs/JOB_20200312_220502\n",
      "  packageUris:\n",
      "  - gs://mlops-dev-100-artifact-store/jobs/JOB_20200312_220502/packages/9438eaff6f9be25fdb8e531073f82df703d5da5e15517bb77b8a4735aabe2ba9/trainer-0.1.tar.gz\n",
      "  pythonModule: trainer.train\n",
      "  pythonVersion: '3.7'\n",
      "  region: us-central1\n",
      "  runtimeVersion: '2.1'\n",
      "trainingOutput: {}\n",
      "\n",
      "View job in the Cloud Console at:\n",
      "https://console.cloud.google.com/mlengine/jobs/JOB_20200312_220502?project=mlops-dev-100\n",
      "\n",
      "View logs at:\n",
      "https://console.cloud.google.com/logs?resource=ml.googleapis.com%2Fjob_id%2FJOB_20200312_220502&project=mlops-dev-100\n",
      "INFO\t2020-03-12 22:05:05 +0000\tservice\t\tValidating job requirements...\n",
      "INFO\t2020-03-12 22:05:05 +0000\tservice\t\tJob creation request has been successfully validated.\n",
      "INFO\t2020-03-12 22:05:05 +0000\tservice\t\tJob JOB_20200312_220502 is queued.\n",
      "INFO\t2020-03-12 22:05:05 +0000\tservice\t\tWaiting for job to be provisioned.\n",
      "INFO\t2020-03-12 22:05:07 +0000\tservice\t\tWaiting for training program to start.\n",
      "INFO\t2020-03-12 22:06:16 +0000\tmaster-replica-0\t\tRunning task with arguments: --cluster={\"chief\": [\"127.0.0.1:2222\"]} --task={\"type\": \"chief\", \"index\": 0} --job={  \"package_uris\": [\"gs://mlops-dev-100-artifact-store/jobs/JOB_20200312_220502/packages/9438eaff6f9be25fdb8e531073f82df703d5da5e15517bb77b8a4735aabe2ba9/trainer-0.1.tar.gz\"],  \"python_module\": \"trainer.train\",  \"args\": [\"--data_path\", \"gs://mlops-dev-100-artifact-store/datasets/training.csv\", \"--n_features_options\", \"[2,4,6]\", \"--l2_reg_options\", \"[0.1,0.2,0.3,0.5]\"],  \"region\": \"us-central1\",  \"runtime_version\": \"2.1\",  \"job_dir\": \"gs://mlops-dev-100-artifact-store/jobs/JOB_20200312_220502\",  \"run_on_raw_vm\": true,  \"python_version\": \"3.7\"}\n",
      "WARNING\t2020-03-12 22:06:47 +0000\tmaster-replica-0\t\tFrom /usr/local/lib/python3.7/dist-packages/tensorflow_core/python/ops/resource_variable_ops.py:1635: calling BaseResourceVariable.__init__ (from tensorflow.python.ops.resource_variable_ops) with constraint is deprecated and will be removed in a future version.\n",
      "WARNING\t2020-03-12 22:06:47 +0000\tmaster-replica-0\t\tInstructions for updating:\n",
      "WARNING\t2020-03-12 22:06:47 +0000\tmaster-replica-0\t\tIf using Keras pass *_constraint arguments to layers.\n",
      "INFO\t2020-03-12 22:06:52 +0000\tmaster-replica-0\t\tRunning module trainer.train.\n",
      "INFO\t2020-03-12 22:06:52 +0000\tmaster-replica-0\t\tDownloading the package: gs://mlops-dev-100-artifact-store/jobs/JOB_20200312_220502/packages/9438eaff6f9be25fdb8e531073f82df703d5da5e15517bb77b8a4735aabe2ba9/trainer-0.1.tar.gz\n",
      "INFO\t2020-03-12 22:06:52 +0000\tmaster-replica-0\t\tRunning command: gsutil -q cp gs://mlops-dev-100-artifact-store/jobs/JOB_20200312_220502/packages/9438eaff6f9be25fdb8e531073f82df703d5da5e15517bb77b8a4735aabe2ba9/trainer-0.1.tar.gz trainer-0.1.tar.gz\n",
      "INFO\t2020-03-12 22:06:53 +0000\tmaster-replica-0\t\tInstalling the package: gs://mlops-dev-100-artifact-store/jobs/JOB_20200312_220502/packages/9438eaff6f9be25fdb8e531073f82df703d5da5e15517bb77b8a4735aabe2ba9/trainer-0.1.tar.gz\n",
      "INFO\t2020-03-12 22:06:53 +0000\tmaster-replica-0\t\tRunning command: pip3 install --user --upgrade --force-reinstall --no-deps trainer-0.1.tar.gz\n",
      "INFO\t2020-03-12 22:06:54 +0000\tmaster-replica-0\t\tProcessing ./trainer-0.1.tar.gz\n",
      "INFO\t2020-03-12 22:06:54 +0000\tmaster-replica-0\t\tGenerating grammar tables from /usr/lib/python3.7/lib2to3/Grammar.txt\n",
      "INFO\t2020-03-12 22:06:54 +0000\tmaster-replica-0\t\tGenerating grammar tables from /usr/lib/python3.7/lib2to3/PatternGrammar.txt\n",
      "INFO\t2020-03-12 22:06:54 +0000\tmaster-replica-0\t\tBuilding wheels for collected packages: trainer\n",
      "INFO\t2020-03-12 22:06:54 +0000\tmaster-replica-0\t\t  Building wheel for trainer (setup.py): started\n",
      "INFO\t2020-03-12 22:06:55 +0000\tmaster-replica-0\t\tGenerating grammar tables from /usr/lib/python3.7/lib2to3/Grammar.txt\n",
      "INFO\t2020-03-12 22:06:55 +0000\tmaster-replica-0\t\tGenerating grammar tables from /usr/lib/python3.7/lib2to3/PatternGrammar.txt\n",
      "INFO\t2020-03-12 22:06:55 +0000\tmaster-replica-0\t\t  Building wheel for trainer (setup.py): finished with status 'done'\n",
      "INFO\t2020-03-12 22:06:55 +0000\tmaster-replica-0\t\t  Created wheel for trainer: filename=trainer-0.1-py3-none-any.whl size=2150 sha256=c986288aee33bbd347c41d887b7ad14aebfc6b0f479db28945a86953c2dc2402\n",
      "INFO\t2020-03-12 22:06:55 +0000\tmaster-replica-0\t\t  Stored in directory: /root/.cache/pip/wheels/01/7a/28/81b827dc306daf0b729704b9e735d9a8d8d47c6276bfc8ed16\n",
      "INFO\t2020-03-12 22:06:55 +0000\tmaster-replica-0\t\tSuccessfully built trainer\n",
      "INFO\t2020-03-12 22:06:55 +0000\tmaster-replica-0\t\tInstalling collected packages: trainer\n",
      "INFO\t2020-03-12 22:06:55 +0000\tmaster-replica-0\t\tSuccessfully installed trainer-0.1\n",
      "INFO\t2020-03-12 22:06:55 +0000\tmaster-replica-0\t\tRunning command: pip3 install --user trainer-0.1.tar.gz\n",
      "INFO\t2020-03-12 22:06:55 +0000\tmaster-replica-0\t\tProcessing ./trainer-0.1.tar.gz\n",
      "INFO\t2020-03-12 22:06:56 +0000\tmaster-replica-0\t\tGenerating grammar tables from /usr/lib/python3.7/lib2to3/Grammar.txt\n",
      "INFO\t2020-03-12 22:06:56 +0000\tmaster-replica-0\t\tGenerating grammar tables from /usr/lib/python3.7/lib2to3/PatternGrammar.txt\n",
      "INFO\t2020-03-12 22:06:56 +0000\tmaster-replica-0\t\tCollecting fire\n",
      "INFO\t2020-03-12 22:06:56 +0000\tmaster-replica-0\t\t  Downloading fire-0.2.1.tar.gz (76 kB)\n",
      "INFO\t2020-03-12 22:06:56 +0000\tmaster-replica-0\t\tGenerating grammar tables from /usr/lib/python3.7/lib2to3/Grammar.txt\n",
      "INFO\t2020-03-12 22:06:56 +0000\tmaster-replica-0\t\tGenerating grammar tables from /usr/lib/python3.7/lib2to3/PatternGrammar.txt\n",
      "INFO\t2020-03-12 22:06:56 +0000\tmaster-replica-0\t\tCollecting gcsfs\n",
      "INFO\t2020-03-12 22:06:56 +0000\tmaster-replica-0\t\t  Downloading gcsfs-0.6.0-py2.py3-none-any.whl (17 kB)\n",
      "INFO\t2020-03-12 22:06:56 +0000\tmaster-replica-0\t\tRequirement already satisfied: six in /usr/local/lib/python3.7/dist-packages (from fire->trainer==0.1) (1.13.0)\n",
      "INFO\t2020-03-12 22:06:56 +0000\tmaster-replica-0\t\tRequirement already satisfied: termcolor in /usr/local/lib/python3.7/dist-packages (from fire->trainer==0.1) (1.1.0)\n",
      "INFO\t2020-03-12 22:06:57 +0000\tmaster-replica-0\t\tCollecting decorator\n",
      "INFO\t2020-03-12 22:06:57 +0000\tmaster-replica-0\t\t  Downloading decorator-4.4.2-py2.py3-none-any.whl (9.2 kB)\n",
      "INFO\t2020-03-12 22:06:57 +0000\tmaster-replica-0\t\tRequirement already satisfied: google-auth-oauthlib in /usr/local/lib/python3.7/dist-packages (from gcsfs->trainer==0.1) (0.4.1)\n",
      "INFO\t2020-03-12 22:06:57 +0000\tmaster-replica-0\t\tCollecting fsspec>=0.6.0\n",
      "INFO\t2020-03-12 22:06:57 +0000\tmaster-replica-0\t\t  Downloading fsspec-0.6.2-py3-none-any.whl (62 kB)\n",
      "INFO\t2020-03-12 22:06:57 +0000\tmaster-replica-0\t\tRequirement already satisfied: google-auth>=1.2 in /usr/local/lib/python3.7/dist-packages (from gcsfs->trainer==0.1) (1.11.2)\n",
      "INFO\t2020-03-12 22:06:57 +0000\tmaster-replica-0\t\tRequirement already satisfied: requests in /usr/local/lib/python3.7/dist-packages (from gcsfs->trainer==0.1) (2.22.0)\n",
      "INFO\t2020-03-12 22:06:57 +0000\tmaster-replica-0\t\tRequirement already satisfied: requests-oauthlib>=0.7.0 in /usr/local/lib/python3.7/dist-packages (from google-auth-oauthlib->gcsfs->trainer==0.1) (1.3.0)\n",
      "INFO\t2020-03-12 22:06:57 +0000\tmaster-replica-0\t\tRequirement already satisfied: pyasn1-modules>=0.2.1 in /usr/local/lib/python3.7/dist-packages (from google-auth>=1.2->gcsfs->trainer==0.1) (0.2.8)\n",
      "INFO\t2020-03-12 22:06:57 +0000\tmaster-replica-0\t\tRequirement already satisfied: cachetools<5.0,>=2.0.0 in /usr/local/lib/python3.7/dist-packages (from google-auth>=1.2->gcsfs->trainer==0.1) (4.0.0)\n",
      "INFO\t2020-03-12 22:06:57 +0000\tmaster-replica-0\t\tRequirement already satisfied: rsa<4.1,>=3.1.4 in /usr/local/lib/python3.7/dist-packages (from google-auth>=1.2->gcsfs->trainer==0.1) (4.0)\n",
      "INFO\t2020-03-12 22:06:57 +0000\tmaster-replica-0\t\tRequirement already satisfied: setuptools>=40.3.0 in /usr/local/lib/python3.7/dist-packages (from google-auth>=1.2->gcsfs->trainer==0.1) (45.2.0)\n",
      "INFO\t2020-03-12 22:06:57 +0000\tmaster-replica-0\t\tRequirement already satisfied: chardet<3.1.0,>=3.0.2 in /usr/local/lib/python3.7/dist-packages (from requests->gcsfs->trainer==0.1) (3.0.4)\n",
      "INFO\t2020-03-12 22:06:57 +0000\tmaster-replica-0\t\tRequirement already satisfied: urllib3!=1.25.0,!=1.25.1,<1.26,>=1.21.1 in /usr/local/lib/python3.7/dist-packages (from requests->gcsfs->trainer==0.1) (1.25.8)\n",
      "INFO\t2020-03-12 22:06:57 +0000\tmaster-replica-0\t\tRequirement already satisfied: idna<2.9,>=2.5 in /usr/local/lib/python3.7/dist-packages (from requests->gcsfs->trainer==0.1) (2.8)\n",
      "INFO\t2020-03-12 22:06:57 +0000\tmaster-replica-0\t\tRequirement already satisfied: certifi>=2017.4.17 in /usr/local/lib/python3.7/dist-packages (from requests->gcsfs->trainer==0.1) (2019.11.28)\n",
      "INFO\t2020-03-12 22:06:57 +0000\tmaster-replica-0\t\tRequirement already satisfied: oauthlib>=3.0.0 in /usr/local/lib/python3.7/dist-packages (from requests-oauthlib>=0.7.0->google-auth-oauthlib->gcsfs->trainer==0.1) (3.1.0)\n",
      "INFO\t2020-03-12 22:06:57 +0000\tmaster-replica-0\t\tRequirement already satisfied: pyasn1<0.5.0,>=0.4.6 in /usr/local/lib/python3.7/dist-packages (from pyasn1-modules>=0.2.1->google-auth>=1.2->gcsfs->trainer==0.1) (0.4.8)\n",
      "INFO\t2020-03-12 22:06:57 +0000\tmaster-replica-0\t\tBuilding wheels for collected packages: trainer, fire\n",
      "INFO\t2020-03-12 22:06:57 +0000\tmaster-replica-0\t\t  Building wheel for trainer (setup.py): started\n",
      "INFO\t2020-03-12 22:06:57 +0000\tmaster-replica-0\t\tGenerating grammar tables from /usr/lib/python3.7/lib2to3/Grammar.txt\n",
      "INFO\t2020-03-12 22:06:57 +0000\tmaster-replica-0\t\tGenerating grammar tables from /usr/lib/python3.7/lib2to3/PatternGrammar.txt\n",
      "INFO\t2020-03-12 22:06:57 +0000\tmaster-replica-0\t\t  Building wheel for trainer (setup.py): finished with status 'done'\n",
      "INFO\t2020-03-12 22:06:57 +0000\tmaster-replica-0\t\t  Created wheel for trainer: filename=trainer-0.1-py3-none-any.whl size=2150 sha256=933d2cfae4ef357aea73fa0aa3ce84e51f1a5d8889191cfc929ca7c2e0969612\n",
      "INFO\t2020-03-12 22:06:57 +0000\tmaster-replica-0\t\t  Stored in directory: /root/.cache/pip/wheels/01/7a/28/81b827dc306daf0b729704b9e735d9a8d8d47c6276bfc8ed16\n",
      "INFO\t2020-03-12 22:06:57 +0000\tmaster-replica-0\t\t  Building wheel for fire (setup.py): started\n",
      "INFO\t2020-03-12 22:06:57 +0000\tmaster-replica-0\t\tGenerating grammar tables from /usr/lib/python3.7/lib2to3/Grammar.txt\n",
      "INFO\t2020-03-12 22:06:57 +0000\tmaster-replica-0\t\tGenerating grammar tables from /usr/lib/python3.7/lib2to3/PatternGrammar.txt\n",
      "INFO\t2020-03-12 22:06:58 +0000\tmaster-replica-0\t\t  Building wheel for fire (setup.py): finished with status 'done'\n",
      "INFO\t2020-03-12 22:06:58 +0000\tmaster-replica-0\t\t  Created wheel for fire: filename=fire-0.2.1-py2.py3-none-any.whl size=103527 sha256=55c42f6f73b5ee91e032573a88c0e97069a224e856bfd453d963389359515658\n",
      "INFO\t2020-03-12 22:06:58 +0000\tmaster-replica-0\t\t  Stored in directory: /root/.cache/pip/wheels/a8/6d/a8/d81d42414b24203fc8beb0452deab949ba62fcfb8c7a49e4b6\n",
      "INFO\t2020-03-12 22:06:58 +0000\tmaster-replica-0\t\tSuccessfully built trainer fire\n",
      "INFO\t2020-03-12 22:06:58 +0000\tmaster-replica-0\t\tInstalling collected packages: fire, decorator, fsspec, gcsfs, trainer\n",
      "INFO\t2020-03-12 22:06:58 +0000\tmaster-replica-0\t\t  Attempting uninstall: trainer\n",
      "INFO\t2020-03-12 22:06:58 +0000\tmaster-replica-0\t\t    Found existing installation: trainer 0.1\n",
      "INFO\t2020-03-12 22:06:58 +0000\tmaster-replica-0\t\t    Uninstalling trainer-0.1:\n",
      "INFO\t2020-03-12 22:06:58 +0000\tmaster-replica-0\t\t      Successfully uninstalled trainer-0.1\n",
      "INFO\t2020-03-12 22:06:58 +0000\tmaster-replica-0\t\tSuccessfully installed decorator-4.4.2 fire-0.2.1 fsspec-0.6.2 gcsfs-0.6.0 trainer-0.1\n",
      "INFO\t2020-03-12 22:06:58 +0000\tmaster-replica-0\t\tRunning command: python3 -m trainer.train --data_path gs://mlops-dev-100-artifact-store/datasets/training.csv --n_features_options [2,4,6] --l2_reg_options [0.1,0.2,0.3,0.5] --job-dir gs://mlops-dev-100-artifact-store/jobs/JOB_20200312_220502\n",
      "INFO\t2020-03-12 22:07:02 +0000\tmaster-replica-0\t\tBest estimator: {'reduce_dim__n_components': 6, 'regress__alpha': 0.1}\n",
      "INFO\t2020-03-12 22:07:02 +0000\tmaster-replica-0\t\tBest score: -0.0518147098055244\n",
      "INFO\t2020-03-12 22:07:03 +0000\tmaster-replica-0\t\tCopying file://model.joblib [Content-Type=application/octet-stream]...\n",
      "INFO\t2020-03-12 22:07:04 +0000\tmaster-replica-0\t\t/ [0 files][    0.0 B/ 33.1 KiB]                                                \n",
      "INFO\t2020-03-12 22:07:04 +0000\tmaster-replica-0\t\t/ [1 files][ 33.1 KiB/ 33.1 KiB]                                                \n",
      "INFO\t2020-03-12 22:07:04 +0000\tmaster-replica-0\t\tOperation completed over 1 objects/33.1 KiB.                                     \n",
      "INFO\t2020-03-12 22:07:04 +0000\tmaster-replica-0\t\tSaved model in: gs://mlops-dev-100-artifact-store/jobs/JOB_20200312_220502/model.joblib\n",
      "ERROR\t2020-03-12 22:07:04 +0000\tmaster-replica-0\t\t/usr/local/lib/python3.7/dist-packages/sklearn/model_selection/_search.py:823: FutureWarning: The parameter 'iid' is deprecated in 0.22 and will be removed in 0.24.\n",
      "ERROR\t2020-03-12 22:07:04 +0000\tmaster-replica-0\t\t  \"removed in 0.24.\", FutureWarning\n",
      "INFO\t2020-03-12 22:07:04 +0000\tmaster-replica-0\t\tModule completed; cleaning up.\n",
      "INFO\t2020-03-12 22:07:04 +0000\tmaster-replica-0\t\tClean up finished.\n",
      "INFO\t2020-03-12 22:07:04 +0000\tmaster-replica-0\t\tTask completed successfully.\n"
     ]
    }
   ],
   "source": [
    "!gcloud ai-platform jobs describe $JOB_NAME\n",
    "!gcloud ai-platform jobs stream-logs $JOB_NAME"
   ]
  },
  {
   "cell_type": "markdown",
   "metadata": {},
   "source": [
    "### Copy the trained model to model repo"
   ]
  },
  {
   "cell_type": "code",
   "execution_count": 20,
   "metadata": {},
   "outputs": [
    {
     "name": "stdout",
     "output_type": "stream",
     "text": [
      "Copying gs://mlops-dev-100-artifact-store/jobs/JOB_20200312_220502/model.joblib [Content-Type=application/octet-stream]...\n",
      "/ [1 files][ 33.1 KiB/ 33.1 KiB]                                                \n",
      "Operation completed over 1 objects/33.1 KiB.                                     \n"
     ]
    }
   ],
   "source": [
    "MODEL_NAME = \"octane-regressor-r14\"\n",
    "\n",
    "!gsutil cp $JOBDIR_BUCKET/$JOB_NAME/model.joblib $ARTIFACT_STORE/models/$MODEL_NAME/model.joblib"
   ]
  },
  {
   "cell_type": "markdown",
   "metadata": {},
   "source": [
    "## Download and test the model"
   ]
  },
  {
   "cell_type": "code",
   "execution_count": 21,
   "metadata": {},
   "outputs": [
    {
     "name": "stdout",
     "output_type": "stream",
     "text": [
      "Copying gs://mlops-dev-100-artifact-store/models/octane-regressor-r14/model.joblib...\n",
      "/ [1 files][ 33.1 KiB/ 33.1 KiB]                                                \n",
      "Operation completed over 1 objects/33.1 KiB.                                     \n"
     ]
    }
   ],
   "source": [
    "LOCAL_PATH = '/tmp/model.joblib'\n",
    "\n",
    "!gsutil cp $ARTIFACT_STORE/models/$MODEL_NAME/model.joblib $LOCAL_PATH "
   ]
  },
  {
   "cell_type": "code",
   "execution_count": 22,
   "metadata": {},
   "outputs": [
    {
     "name": "stdout",
     "output_type": "stream",
     "text": [
      "[(88.0, 88.27798345874527), (87.6, 87.36663271824897), (85.5, 85.49529039393362), (87.15, 87.39725389385443), (83.4, 83.6765741658715), (88.1, 87.99599189557136)]\n"
     ]
    }
   ],
   "source": [
    "from sklearn.externals import joblib\n",
    "import pandas as pd\n",
    "\n",
    "df_test = pd.read_csv(TESTING_DATA_PATH)\n",
    "predictor = joblib.load(LOCAL_PATH)\n",
    "\n",
    "y = df_test.octane\n",
    "X = df_test.drop('octane', axis=1)\n",
    "\n",
    "y_hat = predictor.predict(X)\n",
    "print(list(zip(y, y_hat)))"
   ]
  },
  {
   "cell_type": "code",
   "execution_count": null,
   "metadata": {},
   "outputs": [],
   "source": []
  }
 ],
 "metadata": {
  "kernelspec": {
   "display_name": "Python 3",
   "language": "python",
   "name": "python3"
  },
  "language_info": {
   "codemirror_mode": {
    "name": "ipython",
    "version": 3
   },
   "file_extension": ".py",
   "mimetype": "text/x-python",
   "name": "python",
   "nbconvert_exporter": "python",
   "pygments_lexer": "ipython3",
   "version": "3.7.6"
  }
 },
 "nbformat": 4,
 "nbformat_minor": 4
}
