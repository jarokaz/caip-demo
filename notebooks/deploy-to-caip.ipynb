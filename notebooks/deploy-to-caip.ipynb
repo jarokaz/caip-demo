{
 "cells": [
  {
   "cell_type": "markdown",
   "metadata": {},
   "source": [
    "# Deploy to Cloud AI Platform Prediction"
   ]
  },
  {
   "cell_type": "code",
   "execution_count": 1,
   "metadata": {},
   "outputs": [],
   "source": [
    "import json\n",
    "import os\n",
    "import pandas as pd\n",
    "import time"
   ]
  },
  {
   "cell_type": "code",
   "execution_count": 2,
   "metadata": {},
   "outputs": [],
   "source": [
    "PREDICT_APP_V1_FOLDER = '../predict_app_v1'\n",
    "PREDICT_APP_V2_FOLDER = '../predict_app_v2'\n",
    "TESTING_DATA_PATH = 'gs://jk-demo-datasets/gasdata/testing.csv'\n",
    "REGION = \"us-central1\"\n",
    "ARTIFACT_BUCKET = \"gs://jk-demo-artifacts\""
   ]
  },
  {
   "cell_type": "markdown",
   "metadata": {},
   "source": [
    "## Create a model resource"
   ]
  },
  {
   "cell_type": "code",
   "execution_count": 3,
   "metadata": {},
   "outputs": [],
   "source": [
    "MODEL_NAME = \"octane_regression\"\n",
    "LABELS = \"task=regression,domain=chemometrics\""
   ]
  },
  {
   "cell_type": "code",
   "execution_count": null,
   "metadata": {},
   "outputs": [],
   "source": [
    "!gcloud ai-platform models create  $MODEL_NAME \\\n",
    "--regions=$REGION \\\n",
    "--labels=$LABELS"
   ]
  },
  {
   "cell_type": "markdown",
   "metadata": {},
   "source": [
    "## Create a model version from a trained model"
   ]
  },
  {
   "cell_type": "code",
   "execution_count": 4,
   "metadata": {},
   "outputs": [],
   "source": [
    "TRAINED_MODEL_PATH = 'gs://jk-demo-artifacts/models/octane_regressor_r14/'\n",
    "MODEL_VERSION = 'v01'"
   ]
  },
  {
   "cell_type": "code",
   "execution_count": null,
   "metadata": {},
   "outputs": [],
   "source": [
    "!gcloud ai-platform versions create $MODEL_VERSION \\\n",
    "--model=$MODEL_NAME \\\n",
    "--origin=$TRAINED_MODEL_PATH \\\n",
    "--runtime-version=1.14 \\\n",
    "--framework=scikit-learn \\\n",
    "--python-version=3.5"
   ]
  },
  {
   "cell_type": "markdown",
   "metadata": {},
   "source": [
    "### Test the model version\n",
    "#### Prepare a file with test instances"
   ]
  },
  {
   "cell_type": "code",
   "execution_count": 5,
   "metadata": {},
   "outputs": [],
   "source": [
    "INPUT_FILE = '../datasets/testing_instances.json'\n",
    "\n",
    "df_test = pd.read_csv(TESTING_DATA_PATH).drop('octane', axis=1)\n",
    "with open(INPUT_FILE, \"w\") as f:\n",
    "  for index, row in df_test.iterrows():\n",
    "    f.write(json.dumps(list(row.values)))\n",
    "    f.write(\"\\n\")"
   ]
  },
  {
   "cell_type": "markdown",
   "metadata": {},
   "source": [
    "#### Run predictions"
   ]
  },
  {
   "cell_type": "code",
   "execution_count": 6,
   "metadata": {},
   "outputs": [
    {
     "name": "stdout",
     "output_type": "stream",
     "text": [
      "[89.24978589686916, 88.7120066196715, 84.58220954195754, 86.57325964405814, 88.29143761591263, 87.32235361510662]\n"
     ]
    }
   ],
   "source": [
    "!gcloud ai-platform predict \\\n",
    "--model $MODEL_NAME \\\n",
    "--version $MODEL_VERSION \\\n",
    "--json-instances $INPUT_FILE"
   ]
  },
  {
   "cell_type": "markdown",
   "metadata": {},
   "source": [
    "## Create a model version from a custom prediction routine\n",
    "### Create a predictor class"
   ]
  },
  {
   "cell_type": "code",
   "execution_count": null,
   "metadata": {},
   "outputs": [],
   "source": [
    "os.makedirs(PREDICT_APP_V1_FOLDER, exist_ok=True)"
   ]
  },
  {
   "cell_type": "code",
   "execution_count": null,
   "metadata": {},
   "outputs": [],
   "source": [
    "%%writefile $PREDICT_APP_V1_FOLDER/predict.py\n",
    "\n",
    "import os\n",
    "import numpy as np\n",
    "\n",
    "from sklearn.externals import joblib\n",
    "\n",
    "class OctaneRegressor(object):\n",
    "    \"\"\"A custom prediction routine for Octane regressor\"\"\"\n",
    "    \n",
    "    def __init__(self, model):\n",
    "        \"\"\"Stores the model loaded in from_path\"\"\"\n",
    "        self._model = model\n",
    "        \n",
    "    def predict(self, instances, **kwargs):\n",
    "        \"\"\"Runs inference\"\"\"\n",
    "    \n",
    "        outputs = self._model.predict(np.asarray(instances))\n",
    "        \n",
    "        return outputs.tolist()\n",
    "\n",
    "        \n",
    "    @classmethod\n",
    "    def from_path(cls, model_dir):\n",
    "        \"\"\"Loads the model from the joblib file\"\"\"\n",
    "        model_path = os.path.join(model_dir, 'model.joblib')\n",
    "        model = joblib.load(model_path)\n",
    "        \n",
    "        \n",
    "        return cls(model)\n",
    "    "
   ]
  },
  {
   "cell_type": "markdown",
   "metadata": {},
   "source": [
    "### Create a source distribution package"
   ]
  },
  {
   "cell_type": "code",
   "execution_count": null,
   "metadata": {},
   "outputs": [],
   "source": [
    "%%writefile $PREDICT_APP_V1_FOLDER/setup.py\n",
    "\n",
    "from setuptools import setup\n",
    "\n",
    "setup(\n",
    "    name='custom-predictor-1',\n",
    "    description='Custom prediction routine.',\n",
    "    version='0.1',\n",
    "    scripts=['predict.py']\n",
    ")"
   ]
  },
  {
   "cell_type": "code",
   "execution_count": null,
   "metadata": {},
   "outputs": [],
   "source": [
    "%cd $PREDICT_APP_V1_FOLDER\n",
    "%run $PREDICT_APP_V1_FOLDER/setup.py sdist --formats=gztar\n",
    "%cd -"
   ]
  },
  {
   "cell_type": "markdown",
   "metadata": {},
   "source": [
    "### Copy the source distribution package to GCS"
   ]
  },
  {
   "cell_type": "code",
   "execution_count": null,
   "metadata": {},
   "outputs": [],
   "source": [
    "CUSTOM_ROUTINE_NAME = \"custom-predictor-1\"\n",
    "TARBALL_NAME = \"custom-predictor-1-0.1.tar.gz\"\n",
    "LOCAL_PATH = \"{}/dist/{}\".format(PREDICT_APP_V1_FOLDER, TARBALL_NAME)\n",
    "GCS_PATH = \"{}/prediction_routines/{}/{}\".format(ARTIFACT_BUCKET, CUSTOM_ROUTINE_NAME, TARBALL_NAME)"
   ]
  },
  {
   "cell_type": "code",
   "execution_count": null,
   "metadata": {},
   "outputs": [],
   "source": [
    "!gsutil cp $LOCAL_PATH $GCS_PATH"
   ]
  },
  {
   "cell_type": "markdown",
   "metadata": {},
   "source": [
    "### Create a model version"
   ]
  },
  {
   "cell_type": "code",
   "execution_count": 7,
   "metadata": {},
   "outputs": [],
   "source": [
    "TRAINED_MODEL_PATH = 'gs://jk-demo-artifacts/models/octane_regressor_r14/'\n",
    "MODEL_VERSION = 'v02'"
   ]
  },
  {
   "cell_type": "code",
   "execution_count": null,
   "metadata": {},
   "outputs": [],
   "source": [
    "!gcloud beta ai-platform versions create $MODEL_VERSION \\\n",
    "--model=$MODEL_NAME \\\n",
    "--origin=$TRAINED_MODEL_PATH \\\n",
    "--runtime-version=1.14 \\\n",
    "--python-version=3.5 \\\n",
    "--package-uris $GCS_PATH \\\n",
    "--prediction-class predict.OctaneRegressor"
   ]
  },
  {
   "cell_type": "markdown",
   "metadata": {},
   "source": [
    "### Test the model"
   ]
  },
  {
   "cell_type": "code",
   "execution_count": 8,
   "metadata": {},
   "outputs": [
    {
     "name": "stdout",
     "output_type": "stream",
     "text": [
      "[89.24978589686916, 88.7120066196715, 84.58220954195754, 86.57325964405814, 88.29143761591263, 87.32235361510662]\n"
     ]
    }
   ],
   "source": [
    "!gcloud ai-platform predict \\\n",
    "--model $MODEL_NAME \\\n",
    "--version $MODEL_VERSION \\\n",
    "--json-instances $INPUT_FILE"
   ]
  },
  {
   "cell_type": "markdown",
   "metadata": {},
   "source": [
    "## Create a model version from a custom prediction routine with external dependencies\n",
    "### Create a predictor class"
   ]
  },
  {
   "cell_type": "code",
   "execution_count": 12,
   "metadata": {},
   "outputs": [],
   "source": [
    "os.makedirs(PREDICT_APP_V2_FOLDER, exist_ok=True)"
   ]
  },
  {
   "cell_type": "code",
   "execution_count": 13,
   "metadata": {},
   "outputs": [
    {
     "name": "stdout",
     "output_type": "stream",
     "text": [
      "Overwriting ../predict_app_v2/predict.py\n"
     ]
    }
   ],
   "source": [
    "%%writefile $PREDICT_APP_V2_FOLDER/predict.py\n",
    "\n",
    "import os\n",
    "import numpy as np\n",
    "\n",
    "import joblib\n",
    "\n",
    "class OctaneRegressor(object):\n",
    "    \"\"\"A custom prediction routine for Octane regressor\"\"\"\n",
    "    \n",
    "    def __init__(self, model):\n",
    "        \"\"\"Stores the model loaded in from_path\"\"\"\n",
    "        self._model = model\n",
    "        \n",
    "    def predict(self, instances, **kwargs):\n",
    "        \"\"\"Runs inference\"\"\"\n",
    "    \n",
    "        outputs = self._model.predict(np.asarray(instances))\n",
    "        \n",
    "        return outputs.tolist()\n",
    "\n",
    "        \n",
    "    @classmethod\n",
    "    def from_path(cls, model_dir):\n",
    "        \"\"\"Loads the model from the joblib file\"\"\"\n",
    "        model_path = os.path.join(model_dir, 'model.joblib')\n",
    "        model = joblib.load(model_path)\n",
    "        \n",
    "        \n",
    "        return cls(model)\n",
    "    "
   ]
  },
  {
   "cell_type": "markdown",
   "metadata": {},
   "source": [
    "### Create a source distribution package"
   ]
  },
  {
   "cell_type": "code",
   "execution_count": 14,
   "metadata": {},
   "outputs": [
    {
     "name": "stdout",
     "output_type": "stream",
     "text": [
      "Overwriting ../predict_app_v2/setup.py\n"
     ]
    }
   ],
   "source": [
    "%%writefile $PREDICT_APP_V2_FOLDER/setup.py\n",
    "\n",
    "from setuptools import setup\n",
    "\n",
    "setup(\n",
    "    name='custom-predictor-2',\n",
    "    description='Custom prediction routine.',\n",
    "    version='0.1',\n",
    "    install_requires=[\n",
    "      'scikit-learn>=0.21.2',\n",
    "      'numpy>=1.11.0',\n",
    "      'scipy>=0.17.0',\n",
    "      'joblib>=0.11'\n",
    "    ],\n",
    "    scripts=['predict.py']\n",
    ")\n"
   ]
  },
  {
   "cell_type": "code",
   "execution_count": 15,
   "metadata": {},
   "outputs": [
    {
     "name": "stdout",
     "output_type": "stream",
     "text": [
      "/home/jupyter/caip-demo/predict_app_v2\n",
      "running sdist\n",
      "running egg_info\n",
      "creating custom_predictor_2.egg-info\n",
      "writing custom_predictor_2.egg-info/PKG-INFO\n",
      "writing top-level names to custom_predictor_2.egg-info/top_level.txt\n",
      "writing dependency_links to custom_predictor_2.egg-info/dependency_links.txt\n",
      "writing requirements to custom_predictor_2.egg-info/requires.txt\n",
      "writing manifest file 'custom_predictor_2.egg-info/SOURCES.txt'\n",
      "reading manifest file 'custom_predictor_2.egg-info/SOURCES.txt'\n",
      "writing manifest file 'custom_predictor_2.egg-info/SOURCES.txt'\n"
     ]
    },
    {
     "name": "stderr",
     "output_type": "stream",
     "text": [
      "warning: sdist: standard file not found: should have one of README, README.rst, README.txt, README.md\n",
      "\n"
     ]
    },
    {
     "name": "stdout",
     "output_type": "stream",
     "text": [
      "running check\n"
     ]
    },
    {
     "name": "stderr",
     "output_type": "stream",
     "text": [
      "warning: check: missing required meta-data: url\n",
      "\n",
      "warning: check: missing meta-data: either (author and author_email) or (maintainer and maintainer_email) must be supplied\n",
      "\n"
     ]
    },
    {
     "name": "stdout",
     "output_type": "stream",
     "text": [
      "creating custom-predictor-2-0.1\n",
      "creating custom-predictor-2-0.1/custom_predictor_2.egg-info\n",
      "copying files to custom-predictor-2-0.1...\n",
      "copying predict.py -> custom-predictor-2-0.1\n",
      "copying setup.py -> custom-predictor-2-0.1\n",
      "copying custom_predictor_2.egg-info/PKG-INFO -> custom-predictor-2-0.1/custom_predictor_2.egg-info\n",
      "copying custom_predictor_2.egg-info/SOURCES.txt -> custom-predictor-2-0.1/custom_predictor_2.egg-info\n",
      "copying custom_predictor_2.egg-info/dependency_links.txt -> custom-predictor-2-0.1/custom_predictor_2.egg-info\n",
      "copying custom_predictor_2.egg-info/requires.txt -> custom-predictor-2-0.1/custom_predictor_2.egg-info\n",
      "copying custom_predictor_2.egg-info/top_level.txt -> custom-predictor-2-0.1/custom_predictor_2.egg-info\n",
      "Writing custom-predictor-2-0.1/setup.cfg\n",
      "creating dist\n",
      "Creating tar archive\n",
      "removing 'custom-predictor-2-0.1' (and everything under it)\n",
      "/home/jupyter/caip-demo/notebooks\n"
     ]
    }
   ],
   "source": [
    "%cd $PREDICT_APP_V2_FOLDER\n",
    "%run $PREDICT_APP_V2_FOLDER/setup.py sdist --formats=gztar\n",
    "%cd -"
   ]
  },
  {
   "cell_type": "markdown",
   "metadata": {},
   "source": [
    "### Copy the source distribution package to GCS"
   ]
  },
  {
   "cell_type": "code",
   "execution_count": 16,
   "metadata": {},
   "outputs": [],
   "source": [
    "CUSTOM_ROUTINE_NAME = \"custom-predictor-2\"\n",
    "TARBALL_NAME = \"custom-predictor-2-0.1.tar.gz\"\n",
    "LOCAL_PATH = \"{}/dist/{}\".format(PREDICT_APP_V2_FOLDER, TARBALL_NAME)\n",
    "GCS_PATH = \"{}/prediction_routines/{}/{}\".format(ARTIFACT_BUCKET, CUSTOM_ROUTINE_NAME, TARBALL_NAME)"
   ]
  },
  {
   "cell_type": "code",
   "execution_count": 17,
   "metadata": {},
   "outputs": [
    {
     "name": "stdout",
     "output_type": "stream",
     "text": [
      "Copying file://../predict_app_v2/dist/custom-predictor-2-0.1.tar.gz [Content-Type=application/x-tar]...\n",
      "/ [1 files][  1.1 KiB/  1.1 KiB]                                                \n",
      "Operation completed over 1 objects/1.1 KiB.                                      \n"
     ]
    }
   ],
   "source": [
    "!gsutil cp $LOCAL_PATH $GCS_PATH"
   ]
  },
  {
   "cell_type": "markdown",
   "metadata": {},
   "source": [
    "### Create a model version"
   ]
  },
  {
   "cell_type": "code",
   "execution_count": 18,
   "metadata": {},
   "outputs": [],
   "source": [
    "TRAINED_MODEL_PATH = 'gs://jk-demo-artifacts/models/octane_regressor_container/'\n",
    "MODEL_VERSION = 'v03'"
   ]
  },
  {
   "cell_type": "code",
   "execution_count": 19,
   "metadata": {},
   "outputs": [
    {
     "name": "stdout",
     "output_type": "stream",
     "text": [
      "Creating version (this might take a few minutes)......done.                    \n"
     ]
    }
   ],
   "source": [
    "!gcloud beta ai-platform versions create $MODEL_VERSION \\\n",
    "--model=$MODEL_NAME \\\n",
    "--origin=$TRAINED_MODEL_PATH \\\n",
    "--runtime-version=1.14 \\\n",
    "--python-version=3.5 \\\n",
    "--package-uris $GCS_PATH \\\n",
    "--prediction-class predict.OctaneRegressor"
   ]
  },
  {
   "cell_type": "markdown",
   "metadata": {},
   "source": [
    "### Test the model"
   ]
  },
  {
   "cell_type": "code",
   "execution_count": 20,
   "metadata": {},
   "outputs": [
    {
     "name": "stdout",
     "output_type": "stream",
     "text": [
      "[89.24978589686916, 88.7120066196715, 84.58220954195754, 86.57325964405814, 88.29143761591263, 87.32235361510662]\n"
     ]
    }
   ],
   "source": [
    "!gcloud ai-platform predict \\\n",
    "--model $MODEL_NAME \\\n",
    "--version $MODEL_VERSION \\\n",
    "--json-instances $INPUT_FILE"
   ]
  },
  {
   "cell_type": "code",
   "execution_count": null,
   "metadata": {},
   "outputs": [],
   "source": []
  }
 ],
 "metadata": {
  "kernelspec": {
   "display_name": "Python 3",
   "language": "python",
   "name": "python3"
  },
  "language_info": {
   "codemirror_mode": {
    "name": "ipython",
    "version": 3
   },
   "file_extension": ".py",
   "mimetype": "text/x-python",
   "name": "python",
   "nbconvert_exporter": "python",
   "pygments_lexer": "ipython3",
   "version": "3.5.3"
  }
 },
 "nbformat": 4,
 "nbformat_minor": 4
}
